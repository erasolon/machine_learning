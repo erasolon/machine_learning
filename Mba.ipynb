{
 "cells": [
  {
   "cell_type": "code",
   "execution_count": 47,
   "metadata": {
    "collapsed": true
   },
   "outputs": [],
   "source": [
    "!pip --quiet install mlxtend\n",
    "\n",
    "import pandas as pd\n",
    "\n",
    "from mlxtend.preprocessing import TransactionEncoder\n",
    "from mlxtend.frequent_patterns import apriori, association_rules, fpgrowth"
   ]
  },
  {
   "cell_type": "code",
   "execution_count": 48,
   "outputs": [
    {
     "data": {
      "text/plain": "   Member_number        Date   itemDescription\n0           1808  21-07-2015    tropical fruit\n1           2552  05-01-2015        whole milk\n2           2300  19-09-2015         pip fruit\n3           1187  12-12-2015  other vegetables\n4           3037  01-02-2015        whole milk",
      "text/html": "<div>\n<style scoped>\n    .dataframe tbody tr th:only-of-type {\n        vertical-align: middle;\n    }\n\n    .dataframe tbody tr th {\n        vertical-align: top;\n    }\n\n    .dataframe thead th {\n        text-align: right;\n    }\n</style>\n<table border=\"1\" class=\"dataframe\">\n  <thead>\n    <tr style=\"text-align: right;\">\n      <th></th>\n      <th>Member_number</th>\n      <th>Date</th>\n      <th>itemDescription</th>\n    </tr>\n  </thead>\n  <tbody>\n    <tr>\n      <th>0</th>\n      <td>1808</td>\n      <td>21-07-2015</td>\n      <td>tropical fruit</td>\n    </tr>\n    <tr>\n      <th>1</th>\n      <td>2552</td>\n      <td>05-01-2015</td>\n      <td>whole milk</td>\n    </tr>\n    <tr>\n      <th>2</th>\n      <td>2300</td>\n      <td>19-09-2015</td>\n      <td>pip fruit</td>\n    </tr>\n    <tr>\n      <th>3</th>\n      <td>1187</td>\n      <td>12-12-2015</td>\n      <td>other vegetables</td>\n    </tr>\n    <tr>\n      <th>4</th>\n      <td>3037</td>\n      <td>01-02-2015</td>\n      <td>whole milk</td>\n    </tr>\n  </tbody>\n</table>\n</div>"
     },
     "execution_count": 48,
     "metadata": {},
     "output_type": "execute_result"
    }
   ],
   "source": [
    "# Download this dataset from https://www.kaggle.com/heeraldedhia/groceries-dataset\n",
    "df = pd.read_csv('Groceries_dataset.csv')\n",
    "df.head()"
   ],
   "metadata": {
    "collapsed": false,
    "pycharm": {
     "name": "#%%\n"
    }
   }
  },
  {
   "cell_type": "code",
   "execution_count": 49,
   "outputs": [
    {
     "data": {
      "text/plain": "       Member_number\ncount   38765.000000\nmean     3003.641868\nstd      1153.611031\nmin      1000.000000\n25%      2002.000000\n50%      3005.000000\n75%      4007.000000\nmax      5000.000000",
      "text/html": "<div>\n<style scoped>\n    .dataframe tbody tr th:only-of-type {\n        vertical-align: middle;\n    }\n\n    .dataframe tbody tr th {\n        vertical-align: top;\n    }\n\n    .dataframe thead th {\n        text-align: right;\n    }\n</style>\n<table border=\"1\" class=\"dataframe\">\n  <thead>\n    <tr style=\"text-align: right;\">\n      <th></th>\n      <th>Member_number</th>\n    </tr>\n  </thead>\n  <tbody>\n    <tr>\n      <th>count</th>\n      <td>38765.000000</td>\n    </tr>\n    <tr>\n      <th>mean</th>\n      <td>3003.641868</td>\n    </tr>\n    <tr>\n      <th>std</th>\n      <td>1153.611031</td>\n    </tr>\n    <tr>\n      <th>min</th>\n      <td>1000.000000</td>\n    </tr>\n    <tr>\n      <th>25%</th>\n      <td>2002.000000</td>\n    </tr>\n    <tr>\n      <th>50%</th>\n      <td>3005.000000</td>\n    </tr>\n    <tr>\n      <th>75%</th>\n      <td>4007.000000</td>\n    </tr>\n    <tr>\n      <th>max</th>\n      <td>5000.000000</td>\n    </tr>\n  </tbody>\n</table>\n</div>"
     },
     "execution_count": 49,
     "metadata": {},
     "output_type": "execute_result"
    }
   ],
   "source": [
    "df.describe()"
   ],
   "metadata": {
    "collapsed": false,
    "pycharm": {
     "name": "#%%\n"
    }
   }
  },
  {
   "cell_type": "markdown",
   "source": [
    "# Apriori algorithm\n",
    "https://rasbt.github.io/mlxtend/user_guide/frequent_patterns/apriori/\n",
    "https://www.youtube.com/watch?v=h_l3b2CIQ_o\n",
    "- Time and memory consuming\n",
    "- Suitable for small dataset and big support value\n",
    "- Tree based algorithm"
   ],
   "metadata": {
    "collapsed": false,
    "pycharm": {
     "name": "#%% md\n"
    }
   }
  },
  {
   "cell_type": "code",
   "execution_count": 50,
   "outputs": [
    {
     "data": {
      "text/plain": "0    [sausage, whole milk, semi-finished bread, yog...\n1                    [whole milk, pastry, salty snack]\n2                       [canned beer, misc. beverages]\n3                          [sausage, hygiene articles]\n4                           [soda, pickled vegetables]\nName: itemDescription, dtype: object"
     },
     "execution_count": 50,
     "metadata": {},
     "output_type": "execute_result"
    }
   ],
   "source": [
    "# creating the dataset with the required format  for apriori algorithm\n",
    "dataset = df.groupby(['Member_number', 'Date'])['itemDescription'].apply(list).reset_index(name='items', drop=True)\n",
    "dataset.head()"
   ],
   "metadata": {
    "collapsed": false,
    "pycharm": {
     "name": "#%%\n"
    }
   }
  },
  {
   "cell_type": "code",
   "execution_count": 51,
   "outputs": [
    {
     "data": {
      "text/plain": "   Instant food products  UHT-milk  abrasive cleaner  artif. sweetener  \\\n0                  False     False             False             False   \n1                  False     False             False             False   \n2                  False     False             False             False   \n3                  False     False             False             False   \n4                  False     False             False             False   \n\n   baby cosmetics   bags  baking powder  bathroom cleaner   beef  berries  \\\n0           False  False          False             False  False    False   \n1           False  False          False             False  False    False   \n2           False  False          False             False  False    False   \n3           False  False          False             False  False    False   \n4           False  False          False             False  False    False   \n\n   ...  turkey  vinegar  waffles  whipped/sour cream  whisky  white bread  \\\n0  ...   False    False    False               False   False        False   \n1  ...   False    False    False               False   False        False   \n2  ...   False    False    False               False   False        False   \n3  ...   False    False    False               False   False        False   \n4  ...   False    False    False               False   False        False   \n\n   white wine  whole milk  yogurt  zwieback  \n0       False        True    True     False  \n1       False        True   False     False  \n2       False       False   False     False  \n3       False       False   False     False  \n4       False       False   False     False  \n\n[5 rows x 167 columns]",
      "text/html": "<div>\n<style scoped>\n    .dataframe tbody tr th:only-of-type {\n        vertical-align: middle;\n    }\n\n    .dataframe tbody tr th {\n        vertical-align: top;\n    }\n\n    .dataframe thead th {\n        text-align: right;\n    }\n</style>\n<table border=\"1\" class=\"dataframe\">\n  <thead>\n    <tr style=\"text-align: right;\">\n      <th></th>\n      <th>Instant food products</th>\n      <th>UHT-milk</th>\n      <th>abrasive cleaner</th>\n      <th>artif. sweetener</th>\n      <th>baby cosmetics</th>\n      <th>bags</th>\n      <th>baking powder</th>\n      <th>bathroom cleaner</th>\n      <th>beef</th>\n      <th>berries</th>\n      <th>...</th>\n      <th>turkey</th>\n      <th>vinegar</th>\n      <th>waffles</th>\n      <th>whipped/sour cream</th>\n      <th>whisky</th>\n      <th>white bread</th>\n      <th>white wine</th>\n      <th>whole milk</th>\n      <th>yogurt</th>\n      <th>zwieback</th>\n    </tr>\n  </thead>\n  <tbody>\n    <tr>\n      <th>0</th>\n      <td>False</td>\n      <td>False</td>\n      <td>False</td>\n      <td>False</td>\n      <td>False</td>\n      <td>False</td>\n      <td>False</td>\n      <td>False</td>\n      <td>False</td>\n      <td>False</td>\n      <td>...</td>\n      <td>False</td>\n      <td>False</td>\n      <td>False</td>\n      <td>False</td>\n      <td>False</td>\n      <td>False</td>\n      <td>False</td>\n      <td>True</td>\n      <td>True</td>\n      <td>False</td>\n    </tr>\n    <tr>\n      <th>1</th>\n      <td>False</td>\n      <td>False</td>\n      <td>False</td>\n      <td>False</td>\n      <td>False</td>\n      <td>False</td>\n      <td>False</td>\n      <td>False</td>\n      <td>False</td>\n      <td>False</td>\n      <td>...</td>\n      <td>False</td>\n      <td>False</td>\n      <td>False</td>\n      <td>False</td>\n      <td>False</td>\n      <td>False</td>\n      <td>False</td>\n      <td>True</td>\n      <td>False</td>\n      <td>False</td>\n    </tr>\n    <tr>\n      <th>2</th>\n      <td>False</td>\n      <td>False</td>\n      <td>False</td>\n      <td>False</td>\n      <td>False</td>\n      <td>False</td>\n      <td>False</td>\n      <td>False</td>\n      <td>False</td>\n      <td>False</td>\n      <td>...</td>\n      <td>False</td>\n      <td>False</td>\n      <td>False</td>\n      <td>False</td>\n      <td>False</td>\n      <td>False</td>\n      <td>False</td>\n      <td>False</td>\n      <td>False</td>\n      <td>False</td>\n    </tr>\n    <tr>\n      <th>3</th>\n      <td>False</td>\n      <td>False</td>\n      <td>False</td>\n      <td>False</td>\n      <td>False</td>\n      <td>False</td>\n      <td>False</td>\n      <td>False</td>\n      <td>False</td>\n      <td>False</td>\n      <td>...</td>\n      <td>False</td>\n      <td>False</td>\n      <td>False</td>\n      <td>False</td>\n      <td>False</td>\n      <td>False</td>\n      <td>False</td>\n      <td>False</td>\n      <td>False</td>\n      <td>False</td>\n    </tr>\n    <tr>\n      <th>4</th>\n      <td>False</td>\n      <td>False</td>\n      <td>False</td>\n      <td>False</td>\n      <td>False</td>\n      <td>False</td>\n      <td>False</td>\n      <td>False</td>\n      <td>False</td>\n      <td>False</td>\n      <td>...</td>\n      <td>False</td>\n      <td>False</td>\n      <td>False</td>\n      <td>False</td>\n      <td>False</td>\n      <td>False</td>\n      <td>False</td>\n      <td>False</td>\n      <td>False</td>\n      <td>False</td>\n    </tr>\n  </tbody>\n</table>\n<p>5 rows × 167 columns</p>\n</div>"
     },
     "execution_count": 51,
     "metadata": {},
     "output_type": "execute_result"
    }
   ],
   "source": [
    "# one hot encoding\n",
    "te = TransactionEncoder()\n",
    "te_ary = te.fit(dataset).transform(dataset)\n",
    "df_encoded = pd.DataFrame(te_ary, columns=te.columns_)\n",
    "df_encoded.head()"
   ],
   "metadata": {
    "collapsed": false,
    "pycharm": {
     "name": "#%%\n"
    }
   }
  },
  {
   "cell_type": "code",
   "execution_count": 52,
   "outputs": [
    {
     "data": {
      "text/plain": "      support                   itemsets  length\n146  0.157923               (whole milk)       1\n90   0.122101         (other vegetables)       1\n109  0.110005               (rolls/buns)       1\n123  0.097106                     (soda)       1\n147  0.085879                   (yogurt)       1\n..        ...                        ...     ...\n344  0.001002       (margarine, chicken)       2\n201  0.001002    (chicken, bottled beer)       2\n202  0.001002  (chocolate, bottled beer)       2\n516  0.001002   (hamburger meat, pastry)       2\n256  0.001002      (butter, brown bread)       2\n\n[750 rows x 3 columns]",
      "text/html": "<div>\n<style scoped>\n    .dataframe tbody tr th:only-of-type {\n        vertical-align: middle;\n    }\n\n    .dataframe tbody tr th {\n        vertical-align: top;\n    }\n\n    .dataframe thead th {\n        text-align: right;\n    }\n</style>\n<table border=\"1\" class=\"dataframe\">\n  <thead>\n    <tr style=\"text-align: right;\">\n      <th></th>\n      <th>support</th>\n      <th>itemsets</th>\n      <th>length</th>\n    </tr>\n  </thead>\n  <tbody>\n    <tr>\n      <th>146</th>\n      <td>0.157923</td>\n      <td>(whole milk)</td>\n      <td>1</td>\n    </tr>\n    <tr>\n      <th>90</th>\n      <td>0.122101</td>\n      <td>(other vegetables)</td>\n      <td>1</td>\n    </tr>\n    <tr>\n      <th>109</th>\n      <td>0.110005</td>\n      <td>(rolls/buns)</td>\n      <td>1</td>\n    </tr>\n    <tr>\n      <th>123</th>\n      <td>0.097106</td>\n      <td>(soda)</td>\n      <td>1</td>\n    </tr>\n    <tr>\n      <th>147</th>\n      <td>0.085879</td>\n      <td>(yogurt)</td>\n      <td>1</td>\n    </tr>\n    <tr>\n      <th>...</th>\n      <td>...</td>\n      <td>...</td>\n      <td>...</td>\n    </tr>\n    <tr>\n      <th>344</th>\n      <td>0.001002</td>\n      <td>(margarine, chicken)</td>\n      <td>2</td>\n    </tr>\n    <tr>\n      <th>201</th>\n      <td>0.001002</td>\n      <td>(chicken, bottled beer)</td>\n      <td>2</td>\n    </tr>\n    <tr>\n      <th>202</th>\n      <td>0.001002</td>\n      <td>(chocolate, bottled beer)</td>\n      <td>2</td>\n    </tr>\n    <tr>\n      <th>516</th>\n      <td>0.001002</td>\n      <td>(hamburger meat, pastry)</td>\n      <td>2</td>\n    </tr>\n    <tr>\n      <th>256</th>\n      <td>0.001002</td>\n      <td>(butter, brown bread)</td>\n      <td>2</td>\n    </tr>\n  </tbody>\n</table>\n<p>750 rows × 3 columns</p>\n</div>"
     },
     "execution_count": 52,
     "metadata": {},
     "output_type": "execute_result"
    }
   ],
   "source": [
    "# Generating candidates\n",
    "frequent_itemsets = apriori(df_encoded, min_support=0.001, use_colnames=True, low_memory=True)\n",
    "frequent_itemsets['length'] = frequent_itemsets['itemsets'].apply(lambda x: len(x))\n",
    "frequent_itemsets.sort_values(by=['support'], ascending=False)"
   ],
   "metadata": {
    "collapsed": false,
    "pycharm": {
     "name": "#%%\n"
    }
   }
  },
  {
   "cell_type": "code",
   "execution_count": 53,
   "outputs": [
    {
     "data": {
      "text/plain": "          antecedents         consequents  antecedent support  \\\n0          (UHT-milk)     (bottled water)            0.021386   \n1     (bottled water)          (UHT-milk)            0.060683   \n2  (other vegetables)          (UHT-milk)            0.122101   \n3          (UHT-milk)  (other vegetables)            0.021386   \n4           (sausage)          (UHT-milk)            0.060349   \n\n   consequent support   support  confidence      lift  leverage  conviction  \n0            0.060683  0.001069    0.050000  0.823954 -0.000228    0.988755  \n1            0.021386  0.001069    0.017621  0.823954 -0.000228    0.996168  \n2            0.021386  0.002139    0.017515  0.818993 -0.000473    0.996060  \n3            0.122101  0.002139    0.100000  0.818993 -0.000473    0.975443  \n4            0.021386  0.001136    0.018826  0.880298 -0.000154    0.997391  ",
      "text/html": "<div>\n<style scoped>\n    .dataframe tbody tr th:only-of-type {\n        vertical-align: middle;\n    }\n\n    .dataframe tbody tr th {\n        vertical-align: top;\n    }\n\n    .dataframe thead th {\n        text-align: right;\n    }\n</style>\n<table border=\"1\" class=\"dataframe\">\n  <thead>\n    <tr style=\"text-align: right;\">\n      <th></th>\n      <th>antecedents</th>\n      <th>consequents</th>\n      <th>antecedent support</th>\n      <th>consequent support</th>\n      <th>support</th>\n      <th>confidence</th>\n      <th>lift</th>\n      <th>leverage</th>\n      <th>conviction</th>\n    </tr>\n  </thead>\n  <tbody>\n    <tr>\n      <th>0</th>\n      <td>(UHT-milk)</td>\n      <td>(bottled water)</td>\n      <td>0.021386</td>\n      <td>0.060683</td>\n      <td>0.001069</td>\n      <td>0.050000</td>\n      <td>0.823954</td>\n      <td>-0.000228</td>\n      <td>0.988755</td>\n    </tr>\n    <tr>\n      <th>1</th>\n      <td>(bottled water)</td>\n      <td>(UHT-milk)</td>\n      <td>0.060683</td>\n      <td>0.021386</td>\n      <td>0.001069</td>\n      <td>0.017621</td>\n      <td>0.823954</td>\n      <td>-0.000228</td>\n      <td>0.996168</td>\n    </tr>\n    <tr>\n      <th>2</th>\n      <td>(other vegetables)</td>\n      <td>(UHT-milk)</td>\n      <td>0.122101</td>\n      <td>0.021386</td>\n      <td>0.002139</td>\n      <td>0.017515</td>\n      <td>0.818993</td>\n      <td>-0.000473</td>\n      <td>0.996060</td>\n    </tr>\n    <tr>\n      <th>3</th>\n      <td>(UHT-milk)</td>\n      <td>(other vegetables)</td>\n      <td>0.021386</td>\n      <td>0.122101</td>\n      <td>0.002139</td>\n      <td>0.100000</td>\n      <td>0.818993</td>\n      <td>-0.000473</td>\n      <td>0.975443</td>\n    </tr>\n    <tr>\n      <th>4</th>\n      <td>(sausage)</td>\n      <td>(UHT-milk)</td>\n      <td>0.060349</td>\n      <td>0.021386</td>\n      <td>0.001136</td>\n      <td>0.018826</td>\n      <td>0.880298</td>\n      <td>-0.000154</td>\n      <td>0.997391</td>\n    </tr>\n  </tbody>\n</table>\n</div>"
     },
     "execution_count": 53,
     "metadata": {},
     "output_type": "execute_result"
    }
   ],
   "source": [
    "# Create the association based on  criteria(rules), lift > 80% and confidence > 0.01\n",
    "apriori_rules  = association_rules(frequent_itemsets, metric='lift', min_threshold=0.8)\n",
    "apriori_rules_filtered = apriori_rules[apriori_rules['confidence'] > 0.01]\n",
    "apriori_rules_filtered.head()"
   ],
   "metadata": {
    "collapsed": false,
    "pycharm": {
     "name": "#%%\n"
    }
   }
  },
  {
   "cell_type": "markdown",
   "source": [
    "** Recommendations"
   ],
   "metadata": {
    "collapsed": false,
    "pycharm": {
     "name": "#%% md\n"
    }
   }
  },
  {
   "cell_type": "code",
   "execution_count": 54,
   "outputs": [],
   "source": [
    "# function to make recommendation\n",
    "def make_recommendations(my_dataset, product):\n",
    "    recommend = []\n",
    "    for i in range(0,my_dataset.shape[0]):\n",
    "        if product == my_dataset.iloc[i, 0]:\n",
    "            recommend.append(my_dataset.iloc[i, 1])\n",
    "    return recommend"
   ],
   "metadata": {
    "collapsed": false,
    "pycharm": {
     "name": "#%%\n"
    }
   }
  },
  {
   "cell_type": "code",
   "execution_count": 55,
   "outputs": [
    {
     "name": "stdout",
     "output_type": "stream",
     "text": [
      "bottled water\n",
      "domestic eggs\n",
      "frankfurter\n",
      "pastry\n",
      "root vegetables\n",
      "shopping bags\n",
      "soda\n"
     ]
    }
   ],
   "source": [
    "product_name = {'coffee'}\n",
    "recommendations = make_recommendations(apriori_rules_filtered, product_name)\n",
    "for item in recommendations:\n",
    "    print(list(item)[0])"
   ],
   "metadata": {
    "collapsed": false,
    "pycharm": {
     "name": "#%%\n"
    }
   }
  },
  {
   "cell_type": "markdown",
   "source": [
    "# Fpgrowth algorithm"
   ],
   "metadata": {
    "collapsed": false
   }
  },
  {
   "cell_type": "markdown",
   "source": [
    "http://rasbt.github.io/mlxtend/user_guide/frequent_patterns/fpgrowth/\n",
    "https://www.youtube.com/watch?v=VB8KWm8MXss\n",
    "- Used for large dataset\n",
    "- Use less memory\n",
    "- Faster for small support value\n",
    "- Use array based algorithm"
   ],
   "metadata": {
    "collapsed": false,
    "pycharm": {
     "name": "#%% md\n"
    }
   }
  },
  {
   "cell_type": "code",
   "execution_count": 56,
   "outputs": [
    {
     "data": {
      "text/plain": "      support                             itemsets  length\n0    0.157923                         (whole milk)       1\n17   0.122101                   (other vegetables)       1\n13   0.110005                         (rolls/buns)       1\n9    0.097106                               (soda)       1\n1    0.085879                             (yogurt)       1\n..        ...                                  ...     ...\n552  0.001002                (canned beer, coffee)       2\n209  0.001002  (root vegetables, hygiene articles)       2\n215  0.001002       (whole milk, soda, rolls/buns)       3\n217  0.001002     (whole milk, pickled vegetables)       2\n749  0.001002      (rolls/buns, seasonal products)       2\n\n[750 rows x 3 columns]",
      "text/html": "<div>\n<style scoped>\n    .dataframe tbody tr th:only-of-type {\n        vertical-align: middle;\n    }\n\n    .dataframe tbody tr th {\n        vertical-align: top;\n    }\n\n    .dataframe thead th {\n        text-align: right;\n    }\n</style>\n<table border=\"1\" class=\"dataframe\">\n  <thead>\n    <tr style=\"text-align: right;\">\n      <th></th>\n      <th>support</th>\n      <th>itemsets</th>\n      <th>length</th>\n    </tr>\n  </thead>\n  <tbody>\n    <tr>\n      <th>0</th>\n      <td>0.157923</td>\n      <td>(whole milk)</td>\n      <td>1</td>\n    </tr>\n    <tr>\n      <th>17</th>\n      <td>0.122101</td>\n      <td>(other vegetables)</td>\n      <td>1</td>\n    </tr>\n    <tr>\n      <th>13</th>\n      <td>0.110005</td>\n      <td>(rolls/buns)</td>\n      <td>1</td>\n    </tr>\n    <tr>\n      <th>9</th>\n      <td>0.097106</td>\n      <td>(soda)</td>\n      <td>1</td>\n    </tr>\n    <tr>\n      <th>1</th>\n      <td>0.085879</td>\n      <td>(yogurt)</td>\n      <td>1</td>\n    </tr>\n    <tr>\n      <th>...</th>\n      <td>...</td>\n      <td>...</td>\n      <td>...</td>\n    </tr>\n    <tr>\n      <th>552</th>\n      <td>0.001002</td>\n      <td>(canned beer, coffee)</td>\n      <td>2</td>\n    </tr>\n    <tr>\n      <th>209</th>\n      <td>0.001002</td>\n      <td>(root vegetables, hygiene articles)</td>\n      <td>2</td>\n    </tr>\n    <tr>\n      <th>215</th>\n      <td>0.001002</td>\n      <td>(whole milk, soda, rolls/buns)</td>\n      <td>3</td>\n    </tr>\n    <tr>\n      <th>217</th>\n      <td>0.001002</td>\n      <td>(whole milk, pickled vegetables)</td>\n      <td>2</td>\n    </tr>\n    <tr>\n      <th>749</th>\n      <td>0.001002</td>\n      <td>(rolls/buns, seasonal products)</td>\n      <td>2</td>\n    </tr>\n  </tbody>\n</table>\n<p>750 rows × 3 columns</p>\n</div>"
     },
     "execution_count": 56,
     "metadata": {},
     "output_type": "execute_result"
    }
   ],
   "source": [
    "freq_items = fpgrowth(df_encoded, min_support=0.001, use_colnames=True)\n",
    "freq_items['length'] = freq_items['itemsets'].apply(lambda x: len(x))\n",
    "freq_items.sort_values(by=['support'], ascending=False)"
   ],
   "metadata": {
    "collapsed": false,
    "pycharm": {
     "name": "#%%\n"
    }
   }
  },
  {
   "cell_type": "code",
   "execution_count": 57,
   "outputs": [
    {
     "data": {
      "text/plain": "                      antecedents   consequents  antecedent support  \\\n0                    (whole milk)      (yogurt)            0.157923   \n1                        (yogurt)  (whole milk)            0.085879   \n2                    (rolls/buns)      (yogurt)            0.110005   \n3                        (yogurt)  (rolls/buns)            0.085879   \n4  (whole milk, other vegetables)      (yogurt)            0.014837   \n\n   consequent support   support  confidence      lift  leverage  conviction  \n0            0.085879  0.011161    0.070673  0.822940 -0.002401    0.983638  \n1            0.157923  0.011161    0.129961  0.822940 -0.002401    0.967861  \n2            0.085879  0.007819    0.071081  0.827697 -0.001628    0.984071  \n3            0.110005  0.007819    0.091051  0.827697 -0.001628    0.979147  \n4            0.085879  0.001136    0.076577  0.891685 -0.000138    0.989927  ",
      "text/html": "<div>\n<style scoped>\n    .dataframe tbody tr th:only-of-type {\n        vertical-align: middle;\n    }\n\n    .dataframe tbody tr th {\n        vertical-align: top;\n    }\n\n    .dataframe thead th {\n        text-align: right;\n    }\n</style>\n<table border=\"1\" class=\"dataframe\">\n  <thead>\n    <tr style=\"text-align: right;\">\n      <th></th>\n      <th>antecedents</th>\n      <th>consequents</th>\n      <th>antecedent support</th>\n      <th>consequent support</th>\n      <th>support</th>\n      <th>confidence</th>\n      <th>lift</th>\n      <th>leverage</th>\n      <th>conviction</th>\n    </tr>\n  </thead>\n  <tbody>\n    <tr>\n      <th>0</th>\n      <td>(whole milk)</td>\n      <td>(yogurt)</td>\n      <td>0.157923</td>\n      <td>0.085879</td>\n      <td>0.011161</td>\n      <td>0.070673</td>\n      <td>0.822940</td>\n      <td>-0.002401</td>\n      <td>0.983638</td>\n    </tr>\n    <tr>\n      <th>1</th>\n      <td>(yogurt)</td>\n      <td>(whole milk)</td>\n      <td>0.085879</td>\n      <td>0.157923</td>\n      <td>0.011161</td>\n      <td>0.129961</td>\n      <td>0.822940</td>\n      <td>-0.002401</td>\n      <td>0.967861</td>\n    </tr>\n    <tr>\n      <th>2</th>\n      <td>(rolls/buns)</td>\n      <td>(yogurt)</td>\n      <td>0.110005</td>\n      <td>0.085879</td>\n      <td>0.007819</td>\n      <td>0.071081</td>\n      <td>0.827697</td>\n      <td>-0.001628</td>\n      <td>0.984071</td>\n    </tr>\n    <tr>\n      <th>3</th>\n      <td>(yogurt)</td>\n      <td>(rolls/buns)</td>\n      <td>0.085879</td>\n      <td>0.110005</td>\n      <td>0.007819</td>\n      <td>0.091051</td>\n      <td>0.827697</td>\n      <td>-0.001628</td>\n      <td>0.979147</td>\n    </tr>\n    <tr>\n      <th>4</th>\n      <td>(whole milk, other vegetables)</td>\n      <td>(yogurt)</td>\n      <td>0.014837</td>\n      <td>0.085879</td>\n      <td>0.001136</td>\n      <td>0.076577</td>\n      <td>0.891685</td>\n      <td>-0.000138</td>\n      <td>0.989927</td>\n    </tr>\n  </tbody>\n</table>\n</div>"
     },
     "execution_count": 57,
     "metadata": {},
     "output_type": "execute_result"
    }
   ],
   "source": [
    "# Create the association based on  criteria(rules), lift > 80%\n",
    "fpgrowth_rules  = association_rules(freq_items, metric='lift', min_threshold=0.8)\n",
    "fpgrowth_rules_filtered = fpgrowth_rules[fpgrowth_rules['confidence'] > 0.01]\n",
    "fpgrowth_rules_filtered.head()"
   ],
   "metadata": {
    "collapsed": false,
    "pycharm": {
     "name": "#%%\n"
    }
   }
  },
  {
   "cell_type": "code",
   "execution_count": 58,
   "outputs": [
    {
     "name": "stdout",
     "output_type": "stream",
     "text": [
      "shopping bags\n",
      "frankfurter\n",
      "root vegetables\n",
      "domestic eggs\n",
      "soda\n",
      "pastry\n",
      "bottled water\n"
     ]
    }
   ],
   "source": [
    "product_name = {'coffee'}\n",
    "recommendations = make_recommendations(fpgrowth_rules_filtered, product_name)\n",
    "for item in recommendations:\n",
    "    print(list(item)[0])\n"
   ],
   "metadata": {
    "collapsed": false,
    "pycharm": {
     "name": "#%%\n"
    }
   }
  }
 ],
 "metadata": {
  "kernelspec": {
   "name": "python3",
   "language": "python",
   "display_name": "Python 3"
  },
  "language_info": {
   "codemirror_mode": {
    "name": "ipython",
    "version": 2
   },
   "file_extension": ".py",
   "mimetype": "text/x-python",
   "name": "python",
   "nbconvert_exporter": "python",
   "pygments_lexer": "ipython2",
   "version": "2.7.6"
  }
 },
 "nbformat": 4,
 "nbformat_minor": 0
}