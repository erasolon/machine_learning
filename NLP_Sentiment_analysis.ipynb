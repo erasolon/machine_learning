{
 "cells": [
  {
   "cell_type": "code",
   "execution_count": 289,
   "metadata": {},
   "outputs": [],
   "source": [
    "import tensorflow as tf\n",
    "import pandas as pd\n",
    "import numpy as np\n",
    "import glob\n",
    "import re\n",
    "\n",
    "from sklearn.model_selection import train_test_split\n",
    "from tensorflow.keras.preprocessing.text import Tokenizer\n",
    "from tensorflow.keras.preprocessing.sequence import pad_sequences\n",
    "from tensorflow.keras.models import Sequential\n",
    "from tensorflow.keras.layers import Embedding, LSTM, Dense, Bidirectional"
   ]
  },
  {
   "cell_type": "code",
   "execution_count": 290,
   "metadata": {},
   "outputs": [],
   "source": [
    "#!unzip ./glove.6B.zip -d glove"
   ]
  },
  {
   "cell_type": "code",
   "execution_count": 291,
   "metadata": {
    "scrolled": false
   },
   "outputs": [],
   "source": [
    "#df = pd.concat(map(lambda x: pd.read_csv(x, sep=\"\\t\"), glob.glob('data/*.txt')), axis=0)"
   ]
  },
  {
   "cell_type": "code",
   "execution_count": 292,
   "metadata": {
    "scrolled": true
   },
   "outputs": [],
   "source": [
    "df = pd.read_csv(\"data/amazon_cells_labelled.txt\", sep=\"\\t\",header=None)\n",
    "df2 = pd.read_csv(\"data/imdb_labelled.txt\", sep=\"\\t\",header=None)\n",
    "df3 = pd.read_csv(\"data/yelp_labelled.txt\", sep=\"\\t\",header=None)\n",
    "df = df.append(df2)\n",
    "df = df.append(df3)"
   ]
  },
  {
   "cell_type": "code",
   "execution_count": 293,
   "metadata": {},
   "outputs": [],
   "source": [
    "def preprocess_text(sen):\n",
    "    # Removing html tags\n",
    "    sentence = remove_tags(sen)\n",
    "\n",
    "    # Remove punctuations and numbers\n",
    "    sentence = re.sub('[^a-zA-Z]', ' ', sentence)\n",
    "\n",
    "    # Single character removal\n",
    "    sentence = re.sub(r\"\\s+[a-zA-Z]\\s+\", ' ', sentence)\n",
    "\n",
    "    # Removing multiple spaces\n",
    "    sentence = re.sub(r'\\s+', ' ', sentence)\n",
    "\n",
    "    return sentence"
   ]
  },
  {
   "cell_type": "code",
   "execution_count": 294,
   "metadata": {},
   "outputs": [],
   "source": [
    "TAG_RE = re.compile(r'<[^>]+>')\n",
    "\n",
    "def remove_tags(text):\n",
    "    return TAG_RE.sub('', text)"
   ]
  },
  {
   "cell_type": "code",
   "execution_count": 311,
   "metadata": {},
   "outputs": [],
   "source": [
    "X = []\n",
    "sentences = list(df[0])\n",
    "y = df[1].to_numpy()\n",
    "for sen in sentences:\n",
    "    X.append(preprocess_text(sen))"
   ]
  },
  {
   "cell_type": "code",
   "execution_count": 312,
   "metadata": {},
   "outputs": [],
   "source": [
    "X_train, X_test, y_train, y_test = train_test_split(X, y, test_size=0.20, random_state=42)"
   ]
  },
  {
   "cell_type": "code",
   "execution_count": 314,
   "metadata": {},
   "outputs": [],
   "source": [
    "tokenizer = Tokenizer(num_words=50000)\n",
    "tokenizer.fit_on_texts(X_train)\n",
    "X_train = tokenizer.texts_to_sequences(X_train)\n",
    "X_test = tokenizer.texts_to_sequences(X_test)"
   ]
  },
  {
   "cell_type": "code",
   "execution_count": 315,
   "metadata": {},
   "outputs": [],
   "source": [
    "# Adding 1 because of reserved 0 index\n",
    "vocab_size = len(tokenizer.word_index) + 1\n",
    "maxlen = 300\n",
    "\n",
    "X_train = pad_sequences(X_train, padding='post', maxlen=maxlen)\n",
    "X_test = pad_sequences(X_test, padding='post', maxlen=maxlen)"
   ]
  },
  {
   "cell_type": "code",
   "execution_count": 316,
   "metadata": {},
   "outputs": [],
   "source": [
    "from numpy import array\n",
    "from numpy import asarray\n",
    "from numpy import zeros\n",
    "\n",
    "embeddings_dictionary = dict()\n",
    "glove_file = open('./glove/glove.6B.300d.txt', encoding=\"utf8\")\n",
    "\n",
    "for line in glove_file:\n",
    "    records = line.split()\n",
    "    word = records[0]\n",
    "    vector_dimensions = asarray(records[1:], dtype='float32')\n",
    "    embeddings_dictionary [word] = vector_dimensions\n",
    "glove_file.close()"
   ]
  },
  {
   "cell_type": "code",
   "execution_count": 317,
   "metadata": {},
   "outputs": [],
   "source": [
    "embedding_matrix = zeros((vocab_size, 300))\n",
    "for word, index in tokenizer.word_index.items():\n",
    "    embedding_vector = embeddings_dictionary.get(word)\n",
    "    if embedding_vector is not None:\n",
    "        embedding_matrix[index] = embedding_vector"
   ]
  },
  {
   "cell_type": "code",
   "execution_count": 318,
   "metadata": {},
   "outputs": [],
   "source": [
    "model = Sequential()\n",
    "embedding_layer = Embedding(vocab_size, 300, weights=[embedding_matrix], input_length=maxlen , trainable=False)\n",
    "model.add(embedding_layer)\n",
    "model.add(Bidirectional(LSTM(128, return_sequences=True)))\n",
    "model.add(Bidirectional(LSTM(128)))\n",
    "model.add(Dense(1, activation='sigmoid'))\n",
    "model.compile(optimizer='adam', loss='binary_crossentropy', metrics=['acc'])"
   ]
  },
  {
   "cell_type": "code",
   "execution_count": 319,
   "metadata": {},
   "outputs": [
    {
     "name": "stdout",
     "output_type": "stream",
     "text": [
      "Model: \"sequential_16\"\n",
      "_________________________________________________________________\n",
      "Layer (type)                 Output Shape              Param #   \n",
      "=================================================================\n",
      "embedding_15 (Embedding)     (None, 300, 300)          1352700   \n",
      "_________________________________________________________________\n",
      "bidirectional_11 (Bidirectio (None, 300, 256)          439296    \n",
      "_________________________________________________________________\n",
      "bidirectional_12 (Bidirectio (None, 256)               394240    \n",
      "_________________________________________________________________\n",
      "dense_11 (Dense)             (None, 1)                 257       \n",
      "=================================================================\n",
      "Total params: 2,186,493\n",
      "Trainable params: 833,793\n",
      "Non-trainable params: 1,352,700\n",
      "_________________________________________________________________\n",
      "None\n"
     ]
    }
   ],
   "source": [
    "print(model.summary())"
   ]
  },
  {
   "cell_type": "code",
   "execution_count": 320,
   "metadata": {},
   "outputs": [
    {
     "name": "stdout",
     "output_type": "stream",
     "text": [
      "Epoch 1/50\n",
      "18/18 [==============================] - 92s 5s/step - loss: 0.6353 - acc: 0.6473 - val_loss: 0.5149 - val_acc: 0.7727\n",
      "Epoch 2/50\n",
      "18/18 [==============================] - 83s 5s/step - loss: 0.4376 - acc: 0.8204 - val_loss: 0.5111 - val_acc: 0.7500\n",
      "Epoch 3/50\n",
      "18/18 [==============================] - 83s 5s/step - loss: 0.3789 - acc: 0.8399 - val_loss: 0.4414 - val_acc: 0.7864\n",
      "Epoch 4/50\n",
      "18/18 [==============================] - 83s 5s/step - loss: 0.3080 - acc: 0.8822 - val_loss: 0.4202 - val_acc: 0.7955\n",
      "Epoch 5/50\n",
      "18/18 [==============================] - 83s 5s/step - loss: 0.2524 - acc: 0.8987 - val_loss: 0.4224 - val_acc: 0.8045\n",
      "Epoch 6/50\n",
      "18/18 [==============================] - 83s 5s/step - loss: 0.2269 - acc: 0.9239 - val_loss: 0.4609 - val_acc: 0.8136\n",
      "Epoch 7/50\n",
      "18/18 [==============================] - 83s 5s/step - loss: 0.1896 - acc: 0.9326 - val_loss: 0.5129 - val_acc: 0.8068\n",
      "Epoch 8/50\n",
      "18/18 [==============================] - 82s 5s/step - loss: 0.1557 - acc: 0.9414 - val_loss: 0.5406 - val_acc: 0.8136\n",
      "Epoch 9/50\n",
      "18/18 [==============================] - 81s 5s/step - loss: 0.1285 - acc: 0.9518 - val_loss: 0.4888 - val_acc: 0.8023\n",
      "Epoch 10/50\n",
      "18/18 [==============================] - 81s 5s/step - loss: 0.1511 - acc: 0.9480 - val_loss: 0.4797 - val_acc: 0.7977\n",
      "Epoch 11/50\n",
      "18/18 [==============================] - 81s 5s/step - loss: 0.1567 - acc: 0.9409 - val_loss: 0.6325 - val_acc: 0.8205\n",
      "Epoch 12/50\n",
      "18/18 [==============================] - 81s 5s/step - loss: 0.0739 - acc: 0.9758 - val_loss: 0.7028 - val_acc: 0.8182\n",
      "Epoch 13/50\n",
      "18/18 [==============================] - 82s 5s/step - loss: 0.0555 - acc: 0.9833 - val_loss: 0.6773 - val_acc: 0.8159\n",
      "Epoch 14/50\n",
      "18/18 [==============================] - 81s 5s/step - loss: 0.0508 - acc: 0.9871 - val_loss: 0.7292 - val_acc: 0.7909\n",
      "Epoch 15/50\n",
      "18/18 [==============================] - 81s 5s/step - loss: 0.0543 - acc: 0.9810 - val_loss: 0.7635 - val_acc: 0.7909\n",
      "Epoch 16/50\n",
      "18/18 [==============================] - 81s 5s/step - loss: 0.1009 - acc: 0.9609 - val_loss: 0.7494 - val_acc: 0.8114\n",
      "Epoch 17/50\n",
      "18/18 [==============================] - 82s 5s/step - loss: 0.0829 - acc: 0.9672 - val_loss: 0.6329 - val_acc: 0.8182\n",
      "Epoch 18/50\n",
      "18/18 [==============================] - 84s 5s/step - loss: 0.0365 - acc: 0.9925 - val_loss: 0.8077 - val_acc: 0.8114\n",
      "Epoch 19/50\n",
      "18/18 [==============================] - 89s 5s/step - loss: 0.0156 - acc: 0.9955 - val_loss: 0.8339 - val_acc: 0.8159\n",
      "Epoch 20/50\n",
      "18/18 [==============================] - 93s 5s/step - loss: 0.0113 - acc: 0.9979 - val_loss: 1.0063 - val_acc: 0.8045\n",
      "Epoch 21/50\n",
      "18/18 [==============================] - 93s 5s/step - loss: 0.0023 - acc: 0.9997 - val_loss: 1.0972 - val_acc: 0.8068\n",
      "Epoch 22/50\n",
      "18/18 [==============================] - 94s 5s/step - loss: 0.0017 - acc: 1.0000 - val_loss: 1.1721 - val_acc: 0.8091\n",
      "Epoch 23/50\n",
      "18/18 [==============================] - 90s 5s/step - loss: 8.9028e-04 - acc: 1.0000 - val_loss: 1.2091 - val_acc: 0.8068\n",
      "Epoch 24/50\n",
      "18/18 [==============================] - 83s 5s/step - loss: 6.4013e-04 - acc: 1.0000 - val_loss: 1.2385 - val_acc: 0.8091\n",
      "Epoch 25/50\n",
      "18/18 [==============================] - 83s 5s/step - loss: 4.6472e-04 - acc: 1.0000 - val_loss: 1.2513 - val_acc: 0.8114\n",
      "Epoch 26/50\n",
      "18/18 [==============================] - 83s 5s/step - loss: 4.5738e-04 - acc: 1.0000 - val_loss: 1.2732 - val_acc: 0.8114\n",
      "Epoch 27/50\n",
      "18/18 [==============================] - 83s 5s/step - loss: 3.0254e-04 - acc: 1.0000 - val_loss: 1.2916 - val_acc: 0.8114\n",
      "Epoch 28/50\n",
      "18/18 [==============================] - 83s 5s/step - loss: 2.6290e-04 - acc: 1.0000 - val_loss: 1.3163 - val_acc: 0.8136\n",
      "Epoch 29/50\n",
      "18/18 [==============================] - 83s 5s/step - loss: 2.2148e-04 - acc: 1.0000 - val_loss: 1.3438 - val_acc: 0.8159\n",
      "Epoch 30/50\n",
      "18/18 [==============================] - 83s 5s/step - loss: 2.2715e-04 - acc: 1.0000 - val_loss: 1.3587 - val_acc: 0.8159\n",
      "Epoch 31/50\n",
      "18/18 [==============================] - 81s 5s/step - loss: 1.8343e-04 - acc: 1.0000 - val_loss: 1.3739 - val_acc: 0.8159\n",
      "Epoch 32/50\n",
      "18/18 [==============================] - 81s 4s/step - loss: 2.1110e-04 - acc: 1.0000 - val_loss: 1.3903 - val_acc: 0.8136\n",
      "Epoch 33/50\n",
      "18/18 [==============================] - 81s 5s/step - loss: 1.3613e-04 - acc: 1.0000 - val_loss: 1.4028 - val_acc: 0.8114\n",
      "Epoch 34/50\n",
      "18/18 [==============================] - 83s 5s/step - loss: 1.4461e-04 - acc: 1.0000 - val_loss: 1.4180 - val_acc: 0.8114\n",
      "Epoch 35/50\n",
      "18/18 [==============================] - 82s 5s/step - loss: 1.3555e-04 - acc: 1.0000 - val_loss: 1.4337 - val_acc: 0.8114\n",
      "Epoch 36/50\n",
      "18/18 [==============================] - 83s 5s/step - loss: 1.2560e-04 - acc: 1.0000 - val_loss: 1.4418 - val_acc: 0.8136\n",
      "Epoch 37/50\n",
      "18/18 [==============================] - 88s 5s/step - loss: 1.3759e-04 - acc: 1.0000 - val_loss: 1.4560 - val_acc: 0.8114\n",
      "Epoch 38/50\n",
      "18/18 [==============================] - 89s 5s/step - loss: 1.2751e-04 - acc: 1.0000 - val_loss: 1.4674 - val_acc: 0.8114\n",
      "Epoch 39/50\n",
      "18/18 [==============================] - 99s 6s/step - loss: 9.7860e-05 - acc: 1.0000 - val_loss: 1.4774 - val_acc: 0.8114\n",
      "Epoch 40/50\n",
      "18/18 [==============================] - 106s 6s/step - loss: 1.1847e-04 - acc: 1.0000 - val_loss: 1.4889 - val_acc: 0.8091\n",
      "Epoch 41/50\n",
      "18/18 [==============================] - 88s 5s/step - loss: 9.8143e-05 - acc: 1.0000 - val_loss: 1.4974 - val_acc: 0.8091\n",
      "Epoch 42/50\n",
      "18/18 [==============================] - 86s 5s/step - loss: 9.9766e-05 - acc: 1.0000 - val_loss: 1.5066 - val_acc: 0.8068\n",
      "Epoch 43/50\n",
      "18/18 [==============================] - 101s 6s/step - loss: 8.4998e-05 - acc: 1.0000 - val_loss: 1.5154 - val_acc: 0.8114\n",
      "Epoch 44/50\n",
      "18/18 [==============================] - 105s 6s/step - loss: 7.9410e-05 - acc: 1.0000 - val_loss: 1.5250 - val_acc: 0.8091\n",
      "Epoch 45/50\n",
      "18/18 [==============================] - 106s 6s/step - loss: 6.8579e-05 - acc: 1.0000 - val_loss: 1.5348 - val_acc: 0.8068\n",
      "Epoch 46/50\n",
      "18/18 [==============================] - 99s 5s/step - loss: 6.7905e-05 - acc: 1.0000 - val_loss: 1.5389 - val_acc: 0.8114\n",
      "Epoch 47/50\n",
      "18/18 [==============================] - 84s 5s/step - loss: 6.1266e-05 - acc: 1.0000 - val_loss: 1.5502 - val_acc: 0.8068\n",
      "Epoch 48/50\n",
      "18/18 [==============================] - 88s 5s/step - loss: 6.3044e-05 - acc: 1.0000 - val_loss: 1.5590 - val_acc: 0.8068\n",
      "Epoch 49/50\n",
      "18/18 [==============================] - 89s 5s/step - loss: 7.4999e-05 - acc: 1.0000 - val_loss: 1.5642 - val_acc: 0.8091\n",
      "Epoch 50/50\n",
      "18/18 [==============================] - 111s 6s/step - loss: 5.1054e-05 - acc: 1.0000 - val_loss: 1.5735 - val_acc: 0.8068\n",
      "18/18 [==============================] - 10s 542ms/step - loss: 1.3213 - acc: 0.8400\n"
     ]
    }
   ],
   "source": [
    "history = model.fit(X_train, y_train, batch_size=100, epochs=50, verbose=1, validation_split=0.2)\n",
    "\n",
    "score = model.evaluate(X_test, y_test, verbose=1)"
   ]
  },
  {
   "cell_type": "code",
   "execution_count": 321,
   "metadata": {
    "scrolled": true
   },
   "outputs": [
    {
     "name": "stdout",
     "output_type": "stream",
     "text": [
      "Test Score: 1.3212981224060059\n",
      "Test Accuracy: 0.8399999737739563\n"
     ]
    }
   ],
   "source": [
    "print(\"Test Score:\", score[0])\n",
    "print(\"Test Accuracy:\", score[1])"
   ]
  },
  {
   "cell_type": "code",
   "execution_count": 322,
   "metadata": {},
   "outputs": [
    {
     "data": {
      "image/png": "[encoded data removed]",
      "text/plain": [
       "<Figure size 432x288 with 1 Axes>"
      ]
     },
     "metadata": {
      "needs_background": "light"
     },
     "output_type": "display_data"
    },
    {
     "data": {
      "image/png": "[encoded data removed]",
      "text/plain": [
       "<Figure size 432x288 with 1 Axes>"
      ]
     },
     "metadata": {
      "needs_background": "light"
     },
     "output_type": "display_data"
    }
   ],
   "source": [
    "import matplotlib.pyplot as plt\n",
    "\n",
    "plt.plot(history.history['acc'])\n",
    "plt.plot(history.history['val_acc'])\n",
    "\n",
    "plt.title('model accuracy')\n",
    "plt.ylabel('accuracy')\n",
    "plt.xlabel('epoch')\n",
    "plt.legend(['train','test'], loc='upper left')\n",
    "plt.show()\n",
    "\n",
    "plt.plot(history.history['loss'])\n",
    "plt.plot(history.history['val_loss'])\n",
    "\n",
    "plt.title('model loss')\n",
    "plt.ylabel('loss')\n",
    "plt.xlabel('epoch')\n",
    "plt.legend(['train','test'], loc='upper left')\n",
    "plt.show()"
   ]
  },
  {
   "cell_type": "code",
   "execution_count": 344,
   "metadata": {},
   "outputs": [
    {
     "name": "stdout",
     "output_type": "stream",
     "text": [
      "The Greek dressing was very creamy and flavorful \n"
     ]
    }
   ],
   "source": [
    "instance = X[2000]\n",
    "print(instance)"
   ]
  },
  {
   "cell_type": "code",
   "execution_count": 345,
   "metadata": {},
   "outputs": [
    {
     "data": {
      "text/plain": [
       "array([[9.464328e-06]], dtype=float32)"
      ]
     },
     "execution_count": 345,
     "metadata": {},
     "output_type": "execute_result"
    }
   ],
   "source": [
    "instance = tokenizer.texts_to_sequences(instance)\n",
    "\n",
    "flat_list = []\n",
    "for sublist in instance:\n",
    "    for item in sublist:\n",
    "        flat_list.append(item)\n",
    "\n",
    "flat_list = [flat_list]\n",
    "\n",
    "instance = pad_sequences(flat_list, padding='post', maxlen=maxlen)\n",
    "\n",
    "model.predict(instance)"
   ]
  }
 ],
 "metadata": {
  "kernelspec": {
   "display_name": "Python 3",
   "language": "python",
   "name": "python3"
  },
  "language_info": {
   "codemirror_mode": {
    "name": "ipython",
    "version": 3
   },
   "file_extension": ".py",
   "mimetype": "text/x-python",
   "name": "python",
   "nbconvert_exporter": "python",
   "pygments_lexer": "ipython3",
   "version": "3.8.6"
  }
 },
 "nbformat": 4,
 "nbformat_minor": 4
}
