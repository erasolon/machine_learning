{
 "cells": [
  {
   "cell_type": "code",
   "execution_count": 119,
   "metadata": {},
   "outputs": [],
   "source": [
    "import pandas as pd\n",
    "import numpy as np\n",
    "import re\n",
    "import matplotlib.pyplot as plt\n",
    "from sklearn.impute import SimpleImputer\n",
    "import seaborn as sns\n",
    "from sklearn.feature_selection import VarianceThreshold\n",
    "from sklearn.preprocessing import LabelEncoder\n",
    "from sklearn.feature_selection import chi2\n",
    "import math\n",
    "import pickle"
   ]
  },
  {
   "cell_type": "markdown",
   "metadata": {},
   "source": [
    "#### Dataset Overview"
   ]
  },
  {
   "cell_type": "code",
   "execution_count": 120,
   "metadata": {},
   "outputs": [],
   "source": [
    "columns_name = [ 'symboling', 'losses', 'make', 'fuel_type', 'aspiration', 'num_of_doors',\n",
    "               'body_style', 'drive_wheels', 'engine_location', 'wheel_base', 'length',\n",
    "               'width', 'height', 'curb_weight', 'engine_type', 'num_of_cylinders',\n",
    "               'engine_size', 'fuel_system', 'bore', 'stroke', 'compression_ratio',\n",
    "               'horsepower', 'peak_rpm', 'city_mpg', 'highway_mpg', 'price']\n",
    "\n",
    "URL = 'https://archive.ics.uci.edu/ml/machine-learning-databases/autos/imports-85.data'"
   ]
  },
  {
   "cell_type": "code",
   "execution_count": 121,
   "metadata": {},
   "outputs": [],
   "source": [
    "# Load the dataset\n",
    "df = pd.read_csv(URL,header = None, names = columns_name)"
   ]
  },
  {
   "cell_type": "code",
   "execution_count": 122,
   "metadata": {
    "scrolled": true
   },
   "outputs": [
    {
     "data": {
      "text/html": [
       "<div>\n",
       "<style scoped>\n",
       "    .dataframe tbody tr th:only-of-type {\n",
       "        vertical-align: middle;\n",
       "    }\n",
       "\n",
       "    .dataframe tbody tr th {\n",
       "        vertical-align: top;\n",
       "    }\n",
       "\n",
       "    .dataframe thead th {\n",
       "        text-align: right;\n",
       "    }\n",
       "</style>\n",
       "<table border=\"1\" class=\"dataframe\">\n",
       "  <thead>\n",
       "    <tr style=\"text-align: right;\">\n",
       "      <th></th>\n",
       "      <th>symboling</th>\n",
       "      <th>losses</th>\n",
       "      <th>make</th>\n",
       "      <th>fuel_type</th>\n",
       "      <th>aspiration</th>\n",
       "      <th>num_of_doors</th>\n",
       "      <th>body_style</th>\n",
       "      <th>drive_wheels</th>\n",
       "      <th>engine_location</th>\n",
       "      <th>wheel_base</th>\n",
       "      <th>...</th>\n",
       "      <th>engine_size</th>\n",
       "      <th>fuel_system</th>\n",
       "      <th>bore</th>\n",
       "      <th>stroke</th>\n",
       "      <th>compression_ratio</th>\n",
       "      <th>horsepower</th>\n",
       "      <th>peak_rpm</th>\n",
       "      <th>city_mpg</th>\n",
       "      <th>highway_mpg</th>\n",
       "      <th>price</th>\n",
       "    </tr>\n",
       "  </thead>\n",
       "  <tbody>\n",
       "    <tr>\n",
       "      <th>0</th>\n",
       "      <td>3</td>\n",
       "      <td>?</td>\n",
       "      <td>alfa-romero</td>\n",
       "      <td>gas</td>\n",
       "      <td>std</td>\n",
       "      <td>two</td>\n",
       "      <td>convertible</td>\n",
       "      <td>rwd</td>\n",
       "      <td>front</td>\n",
       "      <td>88.6</td>\n",
       "      <td>...</td>\n",
       "      <td>130</td>\n",
       "      <td>mpfi</td>\n",
       "      <td>3.47</td>\n",
       "      <td>2.68</td>\n",
       "      <td>9.0</td>\n",
       "      <td>111</td>\n",
       "      <td>5000</td>\n",
       "      <td>21</td>\n",
       "      <td>27</td>\n",
       "      <td>13495</td>\n",
       "    </tr>\n",
       "    <tr>\n",
       "      <th>1</th>\n",
       "      <td>3</td>\n",
       "      <td>?</td>\n",
       "      <td>alfa-romero</td>\n",
       "      <td>gas</td>\n",
       "      <td>std</td>\n",
       "      <td>two</td>\n",
       "      <td>convertible</td>\n",
       "      <td>rwd</td>\n",
       "      <td>front</td>\n",
       "      <td>88.6</td>\n",
       "      <td>...</td>\n",
       "      <td>130</td>\n",
       "      <td>mpfi</td>\n",
       "      <td>3.47</td>\n",
       "      <td>2.68</td>\n",
       "      <td>9.0</td>\n",
       "      <td>111</td>\n",
       "      <td>5000</td>\n",
       "      <td>21</td>\n",
       "      <td>27</td>\n",
       "      <td>16500</td>\n",
       "    </tr>\n",
       "    <tr>\n",
       "      <th>2</th>\n",
       "      <td>1</td>\n",
       "      <td>?</td>\n",
       "      <td>alfa-romero</td>\n",
       "      <td>gas</td>\n",
       "      <td>std</td>\n",
       "      <td>two</td>\n",
       "      <td>hatchback</td>\n",
       "      <td>rwd</td>\n",
       "      <td>front</td>\n",
       "      <td>94.5</td>\n",
       "      <td>...</td>\n",
       "      <td>152</td>\n",
       "      <td>mpfi</td>\n",
       "      <td>2.68</td>\n",
       "      <td>3.47</td>\n",
       "      <td>9.0</td>\n",
       "      <td>154</td>\n",
       "      <td>5000</td>\n",
       "      <td>19</td>\n",
       "      <td>26</td>\n",
       "      <td>16500</td>\n",
       "    </tr>\n",
       "    <tr>\n",
       "      <th>3</th>\n",
       "      <td>2</td>\n",
       "      <td>164</td>\n",
       "      <td>audi</td>\n",
       "      <td>gas</td>\n",
       "      <td>std</td>\n",
       "      <td>four</td>\n",
       "      <td>sedan</td>\n",
       "      <td>fwd</td>\n",
       "      <td>front</td>\n",
       "      <td>99.8</td>\n",
       "      <td>...</td>\n",
       "      <td>109</td>\n",
       "      <td>mpfi</td>\n",
       "      <td>3.19</td>\n",
       "      <td>3.40</td>\n",
       "      <td>10.0</td>\n",
       "      <td>102</td>\n",
       "      <td>5500</td>\n",
       "      <td>24</td>\n",
       "      <td>30</td>\n",
       "      <td>13950</td>\n",
       "    </tr>\n",
       "    <tr>\n",
       "      <th>4</th>\n",
       "      <td>2</td>\n",
       "      <td>164</td>\n",
       "      <td>audi</td>\n",
       "      <td>gas</td>\n",
       "      <td>std</td>\n",
       "      <td>four</td>\n",
       "      <td>sedan</td>\n",
       "      <td>4wd</td>\n",
       "      <td>front</td>\n",
       "      <td>99.4</td>\n",
       "      <td>...</td>\n",
       "      <td>136</td>\n",
       "      <td>mpfi</td>\n",
       "      <td>3.19</td>\n",
       "      <td>3.40</td>\n",
       "      <td>8.0</td>\n",
       "      <td>115</td>\n",
       "      <td>5500</td>\n",
       "      <td>18</td>\n",
       "      <td>22</td>\n",
       "      <td>17450</td>\n",
       "    </tr>\n",
       "  </tbody>\n",
       "</table>\n",
       "<p>5 rows × 26 columns</p>\n",
       "</div>"
      ],
      "text/plain": [
       "   symboling losses         make fuel_type aspiration num_of_doors  \\\n",
       "0          3      ?  alfa-romero       gas        std          two   \n",
       "1          3      ?  alfa-romero       gas        std          two   \n",
       "2          1      ?  alfa-romero       gas        std          two   \n",
       "3          2    164         audi       gas        std         four   \n",
       "4          2    164         audi       gas        std         four   \n",
       "\n",
       "    body_style drive_wheels engine_location  wheel_base  ...  engine_size  \\\n",
       "0  convertible          rwd           front        88.6  ...          130   \n",
       "1  convertible          rwd           front        88.6  ...          130   \n",
       "2    hatchback          rwd           front        94.5  ...          152   \n",
       "3        sedan          fwd           front        99.8  ...          109   \n",
       "4        sedan          4wd           front        99.4  ...          136   \n",
       "\n",
       "   fuel_system  bore  stroke compression_ratio horsepower  peak_rpm city_mpg  \\\n",
       "0         mpfi  3.47    2.68               9.0        111      5000       21   \n",
       "1         mpfi  3.47    2.68               9.0        111      5000       21   \n",
       "2         mpfi  2.68    3.47               9.0        154      5000       19   \n",
       "3         mpfi  3.19    3.40              10.0        102      5500       24   \n",
       "4         mpfi  3.19    3.40               8.0        115      5500       18   \n",
       "\n",
       "  highway_mpg  price  \n",
       "0          27  13495  \n",
       "1          27  16500  \n",
       "2          26  16500  \n",
       "3          30  13950  \n",
       "4          22  17450  \n",
       "\n",
       "[5 rows x 26 columns]"
      ]
     },
     "execution_count": 122,
     "metadata": {},
     "output_type": "execute_result"
    }
   ],
   "source": [
    "# Verify the first few rows of the dataset and check the column headers\n",
    "df.head()"
   ]
  },
  {
   "cell_type": "code",
   "execution_count": 123,
   "metadata": {},
   "outputs": [
    {
     "data": {
      "text/plain": [
       "(205, 26)"
      ]
     },
     "execution_count": 123,
     "metadata": {},
     "output_type": "execute_result"
    }
   ],
   "source": [
    "df.shape"
   ]
  },
  {
   "cell_type": "code",
   "execution_count": 124,
   "metadata": {},
   "outputs": [
    {
     "name": "stdout",
     "output_type": "stream",
     "text": [
      "<class 'pandas.core.frame.DataFrame'>\n",
      "RangeIndex: 205 entries, 0 to 204\n",
      "Data columns (total 26 columns):\n",
      " #   Column             Non-Null Count  Dtype  \n",
      "---  ------             --------------  -----  \n",
      " 0   symboling          205 non-null    int64  \n",
      " 1   losses             205 non-null    object \n",
      " 2   make               205 non-null    object \n",
      " 3   fuel_type          205 non-null    object \n",
      " 4   aspiration         205 non-null    object \n",
      " 5   num_of_doors       205 non-null    object \n",
      " 6   body_style         205 non-null    object \n",
      " 7   drive_wheels       205 non-null    object \n",
      " 8   engine_location    205 non-null    object \n",
      " 9   wheel_base         205 non-null    float64\n",
      " 10  length             205 non-null    float64\n",
      " 11  width              205 non-null    float64\n",
      " 12  height             205 non-null    float64\n",
      " 13  curb_weight        205 non-null    int64  \n",
      " 14  engine_type        205 non-null    object \n",
      " 15  num_of_cylinders   205 non-null    object \n",
      " 16  engine_size        205 non-null    int64  \n",
      " 17  fuel_system        205 non-null    object \n",
      " 18  bore               205 non-null    object \n",
      " 19  stroke             205 non-null    object \n",
      " 20  compression_ratio  205 non-null    float64\n",
      " 21  horsepower         205 non-null    object \n",
      " 22  peak_rpm           205 non-null    object \n",
      " 23  city_mpg           205 non-null    int64  \n",
      " 24  highway_mpg        205 non-null    int64  \n",
      " 25  price              205 non-null    object \n",
      "dtypes: float64(5), int64(5), object(16)\n",
      "memory usage: 41.8+ KB\n"
     ]
    }
   ],
   "source": [
    "df.info()"
   ]
  },
  {
   "cell_type": "code",
   "execution_count": 125,
   "metadata": {},
   "outputs": [
    {
     "data": {
      "text/html": [
       "<div>\n",
       "<style scoped>\n",
       "    .dataframe tbody tr th:only-of-type {\n",
       "        vertical-align: middle;\n",
       "    }\n",
       "\n",
       "    .dataframe tbody tr th {\n",
       "        vertical-align: top;\n",
       "    }\n",
       "\n",
       "    .dataframe thead th {\n",
       "        text-align: right;\n",
       "    }\n",
       "</style>\n",
       "<table border=\"1\" class=\"dataframe\">\n",
       "  <thead>\n",
       "    <tr style=\"text-align: right;\">\n",
       "      <th></th>\n",
       "      <th>symboling</th>\n",
       "      <th>wheel_base</th>\n",
       "      <th>length</th>\n",
       "      <th>width</th>\n",
       "      <th>height</th>\n",
       "      <th>curb_weight</th>\n",
       "      <th>engine_size</th>\n",
       "      <th>compression_ratio</th>\n",
       "      <th>city_mpg</th>\n",
       "      <th>highway_mpg</th>\n",
       "    </tr>\n",
       "  </thead>\n",
       "  <tbody>\n",
       "    <tr>\n",
       "      <th>count</th>\n",
       "      <td>205.000000</td>\n",
       "      <td>205.000000</td>\n",
       "      <td>205.000000</td>\n",
       "      <td>205.000000</td>\n",
       "      <td>205.000000</td>\n",
       "      <td>205.000000</td>\n",
       "      <td>205.000000</td>\n",
       "      <td>205.000000</td>\n",
       "      <td>205.000000</td>\n",
       "      <td>205.000000</td>\n",
       "    </tr>\n",
       "    <tr>\n",
       "      <th>mean</th>\n",
       "      <td>0.834146</td>\n",
       "      <td>98.756585</td>\n",
       "      <td>174.049268</td>\n",
       "      <td>65.907805</td>\n",
       "      <td>53.724878</td>\n",
       "      <td>2555.565854</td>\n",
       "      <td>126.907317</td>\n",
       "      <td>10.142537</td>\n",
       "      <td>25.219512</td>\n",
       "      <td>30.751220</td>\n",
       "    </tr>\n",
       "    <tr>\n",
       "      <th>std</th>\n",
       "      <td>1.245307</td>\n",
       "      <td>6.021776</td>\n",
       "      <td>12.337289</td>\n",
       "      <td>2.145204</td>\n",
       "      <td>2.443522</td>\n",
       "      <td>520.680204</td>\n",
       "      <td>41.642693</td>\n",
       "      <td>3.972040</td>\n",
       "      <td>6.542142</td>\n",
       "      <td>6.886443</td>\n",
       "    </tr>\n",
       "    <tr>\n",
       "      <th>min</th>\n",
       "      <td>-2.000000</td>\n",
       "      <td>86.600000</td>\n",
       "      <td>141.100000</td>\n",
       "      <td>60.300000</td>\n",
       "      <td>47.800000</td>\n",
       "      <td>1488.000000</td>\n",
       "      <td>61.000000</td>\n",
       "      <td>7.000000</td>\n",
       "      <td>13.000000</td>\n",
       "      <td>16.000000</td>\n",
       "    </tr>\n",
       "    <tr>\n",
       "      <th>25%</th>\n",
       "      <td>0.000000</td>\n",
       "      <td>94.500000</td>\n",
       "      <td>166.300000</td>\n",
       "      <td>64.100000</td>\n",
       "      <td>52.000000</td>\n",
       "      <td>2145.000000</td>\n",
       "      <td>97.000000</td>\n",
       "      <td>8.600000</td>\n",
       "      <td>19.000000</td>\n",
       "      <td>25.000000</td>\n",
       "    </tr>\n",
       "    <tr>\n",
       "      <th>50%</th>\n",
       "      <td>1.000000</td>\n",
       "      <td>97.000000</td>\n",
       "      <td>173.200000</td>\n",
       "      <td>65.500000</td>\n",
       "      <td>54.100000</td>\n",
       "      <td>2414.000000</td>\n",
       "      <td>120.000000</td>\n",
       "      <td>9.000000</td>\n",
       "      <td>24.000000</td>\n",
       "      <td>30.000000</td>\n",
       "    </tr>\n",
       "    <tr>\n",
       "      <th>75%</th>\n",
       "      <td>2.000000</td>\n",
       "      <td>102.400000</td>\n",
       "      <td>183.100000</td>\n",
       "      <td>66.900000</td>\n",
       "      <td>55.500000</td>\n",
       "      <td>2935.000000</td>\n",
       "      <td>141.000000</td>\n",
       "      <td>9.400000</td>\n",
       "      <td>30.000000</td>\n",
       "      <td>34.000000</td>\n",
       "    </tr>\n",
       "    <tr>\n",
       "      <th>max</th>\n",
       "      <td>3.000000</td>\n",
       "      <td>120.900000</td>\n",
       "      <td>208.100000</td>\n",
       "      <td>72.300000</td>\n",
       "      <td>59.800000</td>\n",
       "      <td>4066.000000</td>\n",
       "      <td>326.000000</td>\n",
       "      <td>23.000000</td>\n",
       "      <td>49.000000</td>\n",
       "      <td>54.000000</td>\n",
       "    </tr>\n",
       "  </tbody>\n",
       "</table>\n",
       "</div>"
      ],
      "text/plain": [
       "        symboling  wheel_base      length       width      height  \\\n",
       "count  205.000000  205.000000  205.000000  205.000000  205.000000   \n",
       "mean     0.834146   98.756585  174.049268   65.907805   53.724878   \n",
       "std      1.245307    6.021776   12.337289    2.145204    2.443522   \n",
       "min     -2.000000   86.600000  141.100000   60.300000   47.800000   \n",
       "25%      0.000000   94.500000  166.300000   64.100000   52.000000   \n",
       "50%      1.000000   97.000000  173.200000   65.500000   54.100000   \n",
       "75%      2.000000  102.400000  183.100000   66.900000   55.500000   \n",
       "max      3.000000  120.900000  208.100000   72.300000   59.800000   \n",
       "\n",
       "       curb_weight  engine_size  compression_ratio    city_mpg  highway_mpg  \n",
       "count   205.000000   205.000000         205.000000  205.000000   205.000000  \n",
       "mean   2555.565854   126.907317          10.142537   25.219512    30.751220  \n",
       "std     520.680204    41.642693           3.972040    6.542142     6.886443  \n",
       "min    1488.000000    61.000000           7.000000   13.000000    16.000000  \n",
       "25%    2145.000000    97.000000           8.600000   19.000000    25.000000  \n",
       "50%    2414.000000   120.000000           9.000000   24.000000    30.000000  \n",
       "75%    2935.000000   141.000000           9.400000   30.000000    34.000000  \n",
       "max    4066.000000   326.000000          23.000000   49.000000    54.000000  "
      ]
     },
     "execution_count": 125,
     "metadata": {},
     "output_type": "execute_result"
    }
   ],
   "source": [
    "df.describe()"
   ]
  },
  {
   "cell_type": "code",
   "execution_count": 126,
   "metadata": {},
   "outputs": [],
   "source": [
    "train_data = df.replace('^\\?{1}', np.nan, regex=True)\n",
    "train_data.drop([\"losses\"],axis='columns', inplace=True)"
   ]
  },
  {
   "cell_type": "code",
   "execution_count": 127,
   "metadata": {
    "scrolled": true
   },
   "outputs": [
    {
     "data": {
      "text/plain": [
       "symboling            0\n",
       "make                 0\n",
       "fuel_type            0\n",
       "aspiration           0\n",
       "num_of_doors         2\n",
       "body_style           0\n",
       "drive_wheels         0\n",
       "engine_location      0\n",
       "wheel_base           0\n",
       "length               0\n",
       "width                0\n",
       "height               0\n",
       "curb_weight          0\n",
       "engine_type          0\n",
       "num_of_cylinders     0\n",
       "engine_size          0\n",
       "fuel_system          0\n",
       "bore                 4\n",
       "stroke               4\n",
       "compression_ratio    0\n",
       "horsepower           2\n",
       "peak_rpm             2\n",
       "city_mpg             0\n",
       "highway_mpg          0\n",
       "price                4\n",
       "dtype: int64"
      ]
     },
     "execution_count": 127,
     "metadata": {},
     "output_type": "execute_result"
    }
   ],
   "source": [
    "train_data.isnull().sum()"
   ]
  },
  {
   "cell_type": "code",
   "execution_count": 128,
   "metadata": {},
   "outputs": [],
   "source": [
    "idx = np.where(train_data[\"price\"].isnull())\n",
    "train_data = train_data.drop(train_data.index[idx])"
   ]
  },
  {
   "cell_type": "code",
   "execution_count": 129,
   "metadata": {},
   "outputs": [],
   "source": [
    "categorical_columns = [ 'symboling', 'make', 'fuel_type', 'aspiration', 'num_of_doors',\n",
    "               'body_style', 'drive_wheels', 'engine_location', 'engine_type', 'num_of_cylinders',\n",
    "               'fuel_system']\n",
    "\n",
    "continuous_columns = [ 'wheel_base', 'length',\n",
    "               'width', 'height', 'curb_weight', 'engine_size', 'bore', 'stroke', 'compression_ratio',\n",
    "               'horsepower', 'peak_rpm', 'city_mpg', 'highway_mpg']"
   ]
  },
  {
   "cell_type": "markdown",
   "metadata": {},
   "source": [
    "#check the distribution of categorical variables"
   ]
  },
  {
   "cell_type": "code",
   "execution_count": 130,
   "metadata": {},
   "outputs": [],
   "source": [
    "#Check the distribution of values in categorical columns\n",
    "#Training data and Categorical columns list\n",
    "def get_category_distribution(train_data,categorical_columns):\n",
    "    categorical_column_distribution = list()\n",
    "    for cat_column in categorical_columns:\n",
    "        categorical_column_distribution.append(train_data[cat_column].value_counts())\n",
    "    return(categorical_column_distribution)"
   ]
  },
  {
   "cell_type": "code",
   "execution_count": 131,
   "metadata": {},
   "outputs": [],
   "source": [
    "categorical_column_distribution = get_category_distribution(train_data,categorical_columns)"
   ]
  },
  {
   "cell_type": "code",
   "execution_count": 132,
   "metadata": {},
   "outputs": [
    {
     "data": {
      "text/plain": [
       "[ 0    65\n",
       "  1    52\n",
       "  2    32\n",
       "  3    27\n",
       " -1    22\n",
       " -2     3\n",
       " Name: symboling, dtype: int64,\n",
       " toyota           32\n",
       " nissan           18\n",
       " mazda            17\n",
       " mitsubishi       13\n",
       " honda            13\n",
       " subaru           12\n",
       " volkswagen       12\n",
       " peugot           11\n",
       " volvo            11\n",
       " dodge             9\n",
       " mercedes-benz     8\n",
       " bmw               8\n",
       " plymouth          7\n",
       " saab              6\n",
       " audi              6\n",
       " porsche           4\n",
       " alfa-romero       3\n",
       " jaguar            3\n",
       " chevrolet         3\n",
       " renault           2\n",
       " isuzu             2\n",
       " mercury           1\n",
       " Name: make, dtype: int64,\n",
       " gas       181\n",
       " diesel     20\n",
       " Name: fuel_type, dtype: int64,\n",
       " std      165\n",
       " turbo     36\n",
       " Name: aspiration, dtype: int64,\n",
       " four    113\n",
       " two      86\n",
       " Name: num_of_doors, dtype: int64,\n",
       " sedan          94\n",
       " hatchback      68\n",
       " wagon          25\n",
       " hardtop         8\n",
       " convertible     6\n",
       " Name: body_style, dtype: int64,\n",
       " fwd    118\n",
       " rwd     75\n",
       " 4wd      8\n",
       " Name: drive_wheels, dtype: int64,\n",
       " front    198\n",
       " rear       3\n",
       " Name: engine_location, dtype: int64,\n",
       " ohc      145\n",
       " ohcf      15\n",
       " ohcv      13\n",
       " dohc      12\n",
       " l         12\n",
       " rotor      4\n",
       " Name: engine_type, dtype: int64,\n",
       " four      157\n",
       " six        24\n",
       " five       10\n",
       " eight       4\n",
       " two         4\n",
       " twelve      1\n",
       " three       1\n",
       " Name: num_of_cylinders, dtype: int64,\n",
       " mpfi    92\n",
       " 2bbl    64\n",
       " idi     20\n",
       " 1bbl    11\n",
       " spdi     9\n",
       " 4bbl     3\n",
       " spfi     1\n",
       " mfi      1\n",
       " Name: fuel_system, dtype: int64]"
      ]
     },
     "execution_count": 132,
     "metadata": {},
     "output_type": "execute_result"
    }
   ],
   "source": [
    "categorical_column_distribution"
   ]
  },
  {
   "cell_type": "code",
   "execution_count": 133,
   "metadata": {},
   "outputs": [],
   "source": [
    "length_categorical_columns = list(map(lambda x:len(x),categorical_column_distribution))"
   ]
  },
  {
   "cell_type": "code",
   "execution_count": 134,
   "metadata": {},
   "outputs": [],
   "source": [
    "#count the number of columns having the same number of unique values\n",
    "distribution_dict = dict()\n",
    "for val in length_categorical_columns:\n",
    "    if val in distribution_dict.keys():\n",
    "        count = distribution_dict[val]\n",
    "        distribution_dict[val] = count+1\n",
    "    else:\n",
    "        distribution_dict[val]=1"
   ]
  },
  {
   "cell_type": "code",
   "execution_count": 135,
   "metadata": {},
   "outputs": [
    {
     "data": {
      "text/plain": [
       "{6: 2, 22: 1, 2: 4, 5: 1, 3: 1, 7: 1, 8: 1}"
      ]
     },
     "execution_count": 135,
     "metadata": {},
     "output_type": "execute_result"
    }
   ],
   "source": [
    "distribution_dict"
   ]
  },
  {
   "cell_type": "code",
   "execution_count": 136,
   "metadata": {},
   "outputs": [],
   "source": [
    "##Plot a bar-graph"
   ]
  },
  {
   "cell_type": "code",
   "execution_count": 137,
   "metadata": {},
   "outputs": [
    {
     "data": {
      "image/png": "[encoded data removed]",
      "text/plain": [
       "<Figure size 1360.63x283.465 with 1 Axes>"
      ]
     },
     "metadata": {
      "needs_background": "light"
     },
     "output_type": "display_data"
    }
   ],
   "source": [
    "#plot showing the count of columns having same number of unique values\n",
    "keys = distribution_dict.keys()\n",
    "values = distribution_dict.values()\n",
    "plt.bar(keys, values,width=0.8)\n",
    "plt.xlabel('Distinct Values in Categorical Variable', fontsize=15)\n",
    "plt.ylabel('Count', fontsize=15)\n",
    "plt.title('Categorical Labels with Same Unique Values',fontsize=20)\n",
    "plt.rcParams['figure.figsize'] = [48/2.54, 10/2.54]\n",
    "plt.show()"
   ]
  },
  {
   "cell_type": "code",
   "execution_count": 138,
   "metadata": {},
   "outputs": [],
   "source": [
    "##check the distribution of continuous variables"
   ]
  },
  {
   "cell_type": "code",
   "execution_count": 139,
   "metadata": {
    "scrolled": true
   },
   "outputs": [
    {
     "data": {
      "text/html": [
       "<div>\n",
       "<style scoped>\n",
       "    .dataframe tbody tr th:only-of-type {\n",
       "        vertical-align: middle;\n",
       "    }\n",
       "\n",
       "    .dataframe tbody tr th {\n",
       "        vertical-align: top;\n",
       "    }\n",
       "\n",
       "    .dataframe thead th {\n",
       "        text-align: right;\n",
       "    }\n",
       "</style>\n",
       "<table border=\"1\" class=\"dataframe\">\n",
       "  <thead>\n",
       "    <tr style=\"text-align: right;\">\n",
       "      <th></th>\n",
       "      <th>wheel_base</th>\n",
       "      <th>length</th>\n",
       "      <th>width</th>\n",
       "      <th>height</th>\n",
       "      <th>curb_weight</th>\n",
       "      <th>engine_size</th>\n",
       "      <th>compression_ratio</th>\n",
       "      <th>city_mpg</th>\n",
       "      <th>highway_mpg</th>\n",
       "    </tr>\n",
       "  </thead>\n",
       "  <tbody>\n",
       "    <tr>\n",
       "      <th>count</th>\n",
       "      <td>201.000000</td>\n",
       "      <td>201.000000</td>\n",
       "      <td>201.000000</td>\n",
       "      <td>201.000000</td>\n",
       "      <td>201.000000</td>\n",
       "      <td>201.000000</td>\n",
       "      <td>201.000000</td>\n",
       "      <td>201.000000</td>\n",
       "      <td>201.000000</td>\n",
       "    </tr>\n",
       "    <tr>\n",
       "      <th>mean</th>\n",
       "      <td>98.797015</td>\n",
       "      <td>174.200995</td>\n",
       "      <td>65.889055</td>\n",
       "      <td>53.766667</td>\n",
       "      <td>2555.666667</td>\n",
       "      <td>126.875622</td>\n",
       "      <td>10.164279</td>\n",
       "      <td>25.179104</td>\n",
       "      <td>30.686567</td>\n",
       "    </tr>\n",
       "    <tr>\n",
       "      <th>std</th>\n",
       "      <td>6.066366</td>\n",
       "      <td>12.322175</td>\n",
       "      <td>2.101471</td>\n",
       "      <td>2.447822</td>\n",
       "      <td>517.296727</td>\n",
       "      <td>41.546834</td>\n",
       "      <td>4.004965</td>\n",
       "      <td>6.423220</td>\n",
       "      <td>6.815150</td>\n",
       "    </tr>\n",
       "    <tr>\n",
       "      <th>min</th>\n",
       "      <td>86.600000</td>\n",
       "      <td>141.100000</td>\n",
       "      <td>60.300000</td>\n",
       "      <td>47.800000</td>\n",
       "      <td>1488.000000</td>\n",
       "      <td>61.000000</td>\n",
       "      <td>7.000000</td>\n",
       "      <td>13.000000</td>\n",
       "      <td>16.000000</td>\n",
       "    </tr>\n",
       "    <tr>\n",
       "      <th>25%</th>\n",
       "      <td>94.500000</td>\n",
       "      <td>166.800000</td>\n",
       "      <td>64.100000</td>\n",
       "      <td>52.000000</td>\n",
       "      <td>2169.000000</td>\n",
       "      <td>98.000000</td>\n",
       "      <td>8.600000</td>\n",
       "      <td>19.000000</td>\n",
       "      <td>25.000000</td>\n",
       "    </tr>\n",
       "    <tr>\n",
       "      <th>50%</th>\n",
       "      <td>97.000000</td>\n",
       "      <td>173.200000</td>\n",
       "      <td>65.500000</td>\n",
       "      <td>54.100000</td>\n",
       "      <td>2414.000000</td>\n",
       "      <td>120.000000</td>\n",
       "      <td>9.000000</td>\n",
       "      <td>24.000000</td>\n",
       "      <td>30.000000</td>\n",
       "    </tr>\n",
       "    <tr>\n",
       "      <th>75%</th>\n",
       "      <td>102.400000</td>\n",
       "      <td>183.500000</td>\n",
       "      <td>66.600000</td>\n",
       "      <td>55.500000</td>\n",
       "      <td>2926.000000</td>\n",
       "      <td>141.000000</td>\n",
       "      <td>9.400000</td>\n",
       "      <td>30.000000</td>\n",
       "      <td>34.000000</td>\n",
       "    </tr>\n",
       "    <tr>\n",
       "      <th>max</th>\n",
       "      <td>120.900000</td>\n",
       "      <td>208.100000</td>\n",
       "      <td>72.000000</td>\n",
       "      <td>59.800000</td>\n",
       "      <td>4066.000000</td>\n",
       "      <td>326.000000</td>\n",
       "      <td>23.000000</td>\n",
       "      <td>49.000000</td>\n",
       "      <td>54.000000</td>\n",
       "    </tr>\n",
       "  </tbody>\n",
       "</table>\n",
       "</div>"
      ],
      "text/plain": [
       "       wheel_base      length       width      height  curb_weight  \\\n",
       "count  201.000000  201.000000  201.000000  201.000000   201.000000   \n",
       "mean    98.797015  174.200995   65.889055   53.766667  2555.666667   \n",
       "std      6.066366   12.322175    2.101471    2.447822   517.296727   \n",
       "min     86.600000  141.100000   60.300000   47.800000  1488.000000   \n",
       "25%     94.500000  166.800000   64.100000   52.000000  2169.000000   \n",
       "50%     97.000000  173.200000   65.500000   54.100000  2414.000000   \n",
       "75%    102.400000  183.500000   66.600000   55.500000  2926.000000   \n",
       "max    120.900000  208.100000   72.000000   59.800000  4066.000000   \n",
       "\n",
       "       engine_size  compression_ratio    city_mpg  highway_mpg  \n",
       "count   201.000000         201.000000  201.000000   201.000000  \n",
       "mean    126.875622          10.164279   25.179104    30.686567  \n",
       "std      41.546834           4.004965    6.423220     6.815150  \n",
       "min      61.000000           7.000000   13.000000    16.000000  \n",
       "25%      98.000000           8.600000   19.000000    25.000000  \n",
       "50%     120.000000           9.000000   24.000000    30.000000  \n",
       "75%     141.000000           9.400000   30.000000    34.000000  \n",
       "max     326.000000          23.000000   49.000000    54.000000  "
      ]
     },
     "execution_count": 139,
     "metadata": {},
     "output_type": "execute_result"
    }
   ],
   "source": [
    "#filter out the continous columns and view the descriptive statistics\n",
    "train_data[continuous_columns].describe()"
   ]
  },
  {
   "cell_type": "code",
   "execution_count": 140,
   "metadata": {},
   "outputs": [],
   "source": [
    "##Data cleaning and pre-processing"
   ]
  },
  {
   "cell_type": "code",
   "execution_count": 141,
   "metadata": {},
   "outputs": [
    {
     "data": {
      "text/plain": [
       "4"
      ]
     },
     "execution_count": 141,
     "metadata": {},
     "output_type": "execute_result"
    }
   ],
   "source": [
    "#Check if there is any missing value in the columuns\n",
    "#value of 0 indicates no missing values\n",
    "missing_values = train_data.isnull().sum()\n",
    "np.max(missing_values)"
   ]
  },
  {
   "cell_type": "code",
   "execution_count": 142,
   "metadata": {},
   "outputs": [
    {
     "name": "stdout",
     "output_type": "stream",
     "text": [
      "Index(['num_of_doors', 'bore', 'stroke', 'horsepower', 'peak_rpm'], dtype='object')\n"
     ]
    }
   ],
   "source": [
    "#Displaying the columns with missing values\n",
    "columns_with_missing = train_data.columns[train_data.isnull().any()]\n",
    "print(columns_with_missing)"
   ]
  },
  {
   "cell_type": "code",
   "execution_count": 143,
   "metadata": {},
   "outputs": [],
   "source": [
    "class Data_preprocessing_handling:\n",
    "    def __init__(self,train_data):\n",
    "        self.train_data = train_data\n",
    "    \n",
    "    def handle_missing_value_continuous(self,column_names_with_specific_type,imputation_type=\"mean\"):\n",
    "        if imputation_type==\"mean\":\n",
    "            mean_imputer = SimpleImputer(missing_values=np.nan, strategy='mean')\n",
    "            mean_imputer.fit(self.train_data[column_names_with_specific_type])\n",
    "            self.train_data[column_names_with_specific_type]=mean_imputer.transform(self.train_data[column_names_with_specific_type])\n",
    "        if imputation_type==\"median\":\n",
    "            median_imputer = SimpleImputer(missing_values=np.nan, strategy='median')\n",
    "            median_imputer.fit(self.train_data[column_names_with_specific_type])\n",
    "            self.train_data[column_names_with_specific_type]=median_imputer.transform(self.train_data[column_names_with_specific_type])\n",
    "        return self.train_data\n",
    "    \n",
    "    def handle_missing_value_categorical(self,column_names_with_specific_type,imputation_type=\"most_frequent\"):\n",
    "        most_frequent = SimpleImputer(strategy=\"most_frequent\")\n",
    "        most_frequent.fit(self.train_data[column_names_with_specific_type])\n",
    "        self.train_data[column_names_with_specific_type] = most_frequent.transform(train_data[column_names_with_specific_type])\n",
    "        return self.train_data\n",
    "    \n",
    "    def handle_outlier_treatment(self,Q1,Q3,IQR,columns_with_outlier,action):\n",
    "        if action==\"median\":\n",
    "            for i in range(len(columns_with_outlier)):\n",
    "                column_name = columns_with_outlier[i]\n",
    "                meadian_outlier = np.median(self.train_data[column_name])\n",
    "                self.train_data.loc[self.train_data[((self.train_data[column_name]<(Q1[column_name]-(1.5*IQR[column_name])))|(self.train_data[column_name]>(Q3[column_name]+(1.5*IQR[column_name]))))].index,column_name]=meadian_outlier\n",
    "        if action==\"mean\":\n",
    "            for i in range(len(columns_with_outlier)):\n",
    "                column_name = columns_with_outlier[i]\n",
    "                mean_outlier = np.mean(self.train_data[column_name])\n",
    "                self.train_data.loc[self.train_data[((self.train_data[column_name]<(Q1[column_name]-(1.5*IQR[column_name])))|(self.train_data[column_name]>(Q3[column_name]+(1.5*IQR[column_name]))))].index,column_name]=mean_outlier\n",
    "        if action==\"remove\":\n",
    "            for i in range(len(columns_with_outlier)):\n",
    "                column_name = columns_with_outlier[i]\n",
    "                self.train_data = self.train_data[~((self.train_data[column_name]<(Q1[column_name]-(1.5*IQR[column_name])))|(self.train_data[column_name]>(Q3[column_name]+(1.5*IQR[column_name]))))]\n",
    "        return self.train_data"
   ]
  },
  {
   "cell_type": "code",
   "execution_count": 144,
   "metadata": {},
   "outputs": [],
   "source": [
    "Data_preprocessing_obj = Data_preprocessing_handling(train_data)\n",
    "train_data = Data_preprocessing_obj.handle_missing_value_continuous(continuous_columns,\"median\")\n",
    "train_data = Data_preprocessing_obj.handle_missing_value_categorical(categorical_columns)\n",
    "train_data[\"price\"] = train_data['price'].astype(float)"
   ]
  },
  {
   "cell_type": "markdown",
   "metadata": {},
   "source": [
    "# Section on handling outliers in the dataset"
   ]
  },
  {
   "cell_type": "code",
   "execution_count": 145,
   "metadata": {},
   "outputs": [
    {
     "data": {
      "image/png": "[encoded data removed]",
      "text/plain": [
       "<Figure size 1360.63x283.465 with 1 Axes>"
      ]
     },
     "metadata": {
      "needs_background": "light"
     },
     "output_type": "display_data"
    }
   ],
   "source": [
    "ax = sns.boxplot(data=train_data[continuous_columns], orient=\"h\", palette=\"Set2\")"
   ]
  },
  {
   "cell_type": "code",
   "execution_count": 146,
   "metadata": {},
   "outputs": [],
   "source": [
    "columns_with_outlier = [ 'wheel_base', 'length',\n",
    "               'width', 'height', 'curb_weight', 'engine_size', 'bore', 'stroke', 'compression_ratio',\n",
    "               'horsepower', 'peak_rpm', 'city_mpg', 'highway_mpg']"
   ]
  },
  {
   "cell_type": "code",
   "execution_count": 147,
   "metadata": {},
   "outputs": [],
   "source": [
    "#compute the interquartile range for all continuous columns\n",
    "Q1 = train_data[continuous_columns].quantile(0.25)\n",
    "Q3 = train_data[continuous_columns].quantile(0.75)\n",
    "IQR = (Q3-Q1)\n",
    "train_data = Data_preprocessing_obj.handle_outlier_treatment(Q1,Q3,IQR,columns_with_outlier,\"median\")"
   ]
  },
  {
   "cell_type": "code",
   "execution_count": 148,
   "metadata": {},
   "outputs": [
    {
     "data": {
      "image/png": "[encoded data removed]",
      "text/plain": [
       "<Figure size 1360.63x283.465 with 1 Axes>"
      ]
     },
     "metadata": {
      "needs_background": "light"
     },
     "output_type": "display_data"
    }
   ],
   "source": [
    "ax = sns.boxplot(data=train_data[continuous_columns], orient=\"h\", palette=\"Set2\")"
   ]
  },
  {
   "cell_type": "code",
   "execution_count": 149,
   "metadata": {},
   "outputs": [],
   "source": [
    "##Feature elimination techniques for continuous and categorical features¶"
   ]
  },
  {
   "cell_type": "code",
   "execution_count": 150,
   "metadata": {},
   "outputs": [],
   "source": [
    "#Function for feature selection of numeric variables\n",
    "#Remove variables with constant variance\n",
    "#Remove variables with Quasi-Constant variance with a fixed threshold\n",
    "#Remove correlated variables\n",
    "\n",
    "def feature_selection_numerical_variables(train_data,qthreshold,corr_threshold,exclude_numerical_cols_list):\n",
    "    num_colums = ['int16', 'int32', 'int64', 'float16', 'float32', 'float64']\n",
    "    numerical_columns = list(train_data.select_dtypes(include=num_colums).columns)\n",
    "    numerical_columns = [column for column in numerical_columns if column not in exclude_numerical_cols_list]\n",
    "    \n",
    "    #remove variables with constant variance\n",
    "    constant_filter = VarianceThreshold(threshold=0)\n",
    "    constant_filter.fit(train_data[numerical_columns])\n",
    "    constant_columns = [column for column in train_data[numerical_columns].columns \n",
    "                    if column not in train_data[numerical_columns].columns[constant_filter.get_support()]]\n",
    "    if len(constant_columns)>0:\n",
    "        train_data.drop(labels=constant_columns, axis=1, inplace=True)\n",
    "\n",
    "    #remove deleted columns from dataframe\n",
    "    numerical_columns = [column for column in numerical_columns if column not in constant_columns]\n",
    "        \n",
    "    #remove variables with qconstant variance\n",
    "    #Remove quasi-constant variables\n",
    "    qconstant_filter = VarianceThreshold(threshold=qthreshold)\n",
    "    qconstant_filter.fit(train_data[numerical_columns])\n",
    "    qconstant_columns = [column for column in train_data[numerical_columns].columns \n",
    "                         if column not in train_data[numerical_columns].columns[constant_filter.get_support()]]\n",
    "    if len(qconstant_columns)>0:\n",
    "        train_data.drop(labels=qconstant_columns, axis=1, inplace=True)\n",
    "    \n",
    "    #remove deleted columns from dataframe\n",
    "    numerical_columns = [column for column in numerical_columns if column not in qconstant_columns]\n",
    "    \n",
    "    #remove correlated variables\n",
    "    correlated_features = set()\n",
    "    correlation_matrix = train_data[numerical_columns].corr()\n",
    "    ax = sns.heatmap(\n",
    "    correlation_matrix, \n",
    "    vmin=-1, vmax=1, center=0,\n",
    "    cmap=sns.diverging_palette(20, 220, n=200),\n",
    "    square=True)\n",
    "    ax.set_xticklabels(\n",
    "        ax.get_xticklabels(),\n",
    "        rotation=45,\n",
    "        horizontalalignment='right');\n",
    "    #print(correlation_matrix)\n",
    "    \n",
    "    for i in range(len(correlation_matrix.columns)):\n",
    "        for j in range(i):\n",
    "            if abs(correlation_matrix.iloc[i, j]) > corr_threshold:\n",
    "                colname = correlation_matrix.columns[i]\n",
    "                colcompared = correlation_matrix.columns[j]\n",
    "                #check if the column compared against is not in the columns excluded list\n",
    "                if colcompared not in correlated_features:\n",
    "                    correlated_features.add(colname)\n",
    "    train_data.drop(labels=correlated_features, axis=1, inplace=True)\n",
    "    \n",
    "    return train_data,constant_columns,qconstant_columns,correlated_features\n",
    "    "
   ]
  },
  {
   "cell_type": "code",
   "execution_count": 151,
   "metadata": {},
   "outputs": [
    {
     "data": {
      "image/png": "[encoded data removed]",
      "text/plain": [
       "<Figure size 1360.63x283.465 with 2 Axes>"
      ]
     },
     "metadata": {
      "needs_background": "light"
     },
     "output_type": "display_data"
    }
   ],
   "source": [
    "train_data,constant_columns,qconstant_columns,correlated_features =feature_selection_numerical_variables(train_data,0.01,0.75,['price'],)"
   ]
  },
  {
   "cell_type": "code",
   "execution_count": 152,
   "metadata": {},
   "outputs": [
    {
     "data": {
      "text/plain": [
       "{'city_mpg', 'highway_mpg', 'length', 'width'}"
      ]
     },
     "execution_count": 152,
     "metadata": {},
     "output_type": "execute_result"
    }
   ],
   "source": [
    "correlated_features"
   ]
  },
  {
   "cell_type": "code",
   "execution_count": 153,
   "metadata": {},
   "outputs": [],
   "source": [
    "##Handling correlation between categorical variables¶"
   ]
  },
  {
   "cell_type": "code",
   "execution_count": 154,
   "metadata": {},
   "outputs": [],
   "source": [
    "# save the encoders to disk to be fitted on test data\n",
    "for cf1 in categorical_columns:\n",
    "    le = LabelEncoder()\n",
    "    le.fit(train_data[cf1].unique())\n",
    "    filename = cf1+\".sav\"\n",
    "    pickle.dump(le, open(filename, 'wb'))\n",
    "    train_data[cf1] = le.transform(train_data[cf1])"
   ]
  },
  {
   "cell_type": "code",
   "execution_count": 155,
   "metadata": {},
   "outputs": [],
   "source": [
    "#snippet to calculate the unique values with a categorical columns\n",
    "df = pd.DataFrame(columns=[\"Column_Name\",\"Count\"])\n",
    "for cat in categorical_columns:\n",
    "    unique_value_count = len(train_data[cat].unique())\n",
    "    df = df.append({'Column_Name': cat, \"Count\":int(unique_value_count)}, ignore_index=True)\n",
    "columns_unique_value = np.array(df.Count.value_counts().index)"
   ]
  },
  {
   "cell_type": "code",
   "execution_count": 156,
   "metadata": {},
   "outputs": [],
   "source": [
    "#snippet to identify the dependent/correlated categorical variables and drop them\n",
    "columns_to_drop_cat = set()\n",
    "correlated_columns = dict()\n",
    "for unique_value_count in columns_unique_value:\n",
    "    if unique_value_count>1:\n",
    "        categorical_columns = df.loc[df.Count==unique_value_count,'Column_Name']\n",
    "        categorical_columns = categorical_columns.reset_index(drop=True)\n",
    "        columns_length=len(categorical_columns)\n",
    "        for col in range(columns_length-1):\n",
    "            column_to_compare = categorical_columns[col]\n",
    "            columns_compare_against = categorical_columns[(col+1):columns_length]\n",
    "            chi_scores = chi2(train_data[columns_compare_against],train_data[column_to_compare])\n",
    "            if column_to_compare not in columns_to_drop_cat:\n",
    "                columns_to_be_dropped = [i for i in range(len(columns_compare_against)) if chi_scores[1][i]<=0.05]\n",
    "                columns_to_drop_array = np.array(columns_compare_against)[columns_to_be_dropped]\n",
    "                correlated_columns[column_to_compare]=columns_to_drop_array\n",
    "                columns_to_drop_cat.update(columns_to_drop_array)"
   ]
  },
  {
   "cell_type": "code",
   "execution_count": 157,
   "metadata": {},
   "outputs": [],
   "source": [
    "train_data = train_data.drop(columns_to_drop_cat,axis=1)"
   ]
  },
  {
   "cell_type": "code",
   "execution_count": 158,
   "metadata": {},
   "outputs": [],
   "source": [
    "correlated_features = list(correlated_features)\n",
    "columns_to_drop_cat = list(columns_to_drop_cat)\n",
    "columns_to_drop_cat.extend(correlated_features)\n",
    "columns_to_drop = columns_to_drop_cat.copy()\n",
    "\n",
    "#output the columns_to_drop file to a csv\n",
    "columns_to_drop_df=pd.DataFrame(columns_to_drop,columns=['colnames'])\n",
    "columns_to_drop_df.to_csv(\"./model/columns_to_drop.csv\",index=False)"
   ]
  },
  {
   "cell_type": "markdown",
   "metadata": {},
   "source": [
    "# Visualizing the Output Variable"
   ]
  },
  {
   "cell_type": "code",
   "execution_count": 159,
   "metadata": {},
   "outputs": [
    {
     "name": "stderr",
     "output_type": "stream",
     "text": [
      "/opt/conda/lib/python3.8/site-packages/seaborn/distributions.py:2557: FutureWarning: `distplot` is a deprecated function and will be removed in a future version. Please adapt your code to use either `displot` (a figure-level function with similar flexibility) or `histplot` (an axes-level function for histograms).\n",
      "  warnings.warn(msg, FutureWarning)\n"
     ]
    },
    {
     "data": {
      "text/plain": [
       "<AxesSubplot:xlabel='price', ylabel='Density'>"
      ]
     },
     "execution_count": 159,
     "metadata": {},
     "output_type": "execute_result"
    },
    {
     "data": {
      "image/png": "[encoded data removed]",
      "text/plain": [
       "<Figure size 1360.63x283.465 with 1 Axes>"
      ]
     },
     "metadata": {
      "needs_background": "light"
     },
     "output_type": "display_data"
    }
   ],
   "source": [
    "# Visualizing the distribution of price value\n",
    "# Density Plot and Histogram of price\n",
    "sns.distplot(train_data['price'], hist=True, kde=True, \n",
    "             bins=int(180/5), color = 'darkblue', \n",
    "             hist_kws={'edgecolor':'black'},\n",
    "             kde_kws={'linewidth': 4})"
   ]
  },
  {
   "cell_type": "code",
   "execution_count": 160,
   "metadata": {},
   "outputs": [],
   "source": [
    "#We will use a log transformation on the dependent variable to reduce the scale\n",
    "train_data['price'] = np.log(train_data['price'])"
   ]
  },
  {
   "cell_type": "code",
   "execution_count": 161,
   "metadata": {},
   "outputs": [
    {
     "name": "stderr",
     "output_type": "stream",
     "text": [
      "/opt/conda/lib/python3.8/site-packages/seaborn/distributions.py:2557: FutureWarning: `distplot` is a deprecated function and will be removed in a future version. Please adapt your code to use either `displot` (a figure-level function with similar flexibility) or `histplot` (an axes-level function for histograms).\n",
      "  warnings.warn(msg, FutureWarning)\n"
     ]
    },
    {
     "data": {
      "text/plain": [
       "<AxesSubplot:xlabel='price', ylabel='Density'>"
      ]
     },
     "execution_count": 161,
     "metadata": {},
     "output_type": "execute_result"
    },
    {
     "data": {
      "image/png": "[encoded data removed]",
      "text/plain": [
       "<Figure size 1360.63x283.465 with 1 Axes>"
      ]
     },
     "metadata": {
      "needs_background": "light"
     },
     "output_type": "display_data"
    }
   ],
   "source": [
    "# Visualizing the distribution of price value\n",
    "# Density Plot and Histogram of price\n",
    "sns.distplot(train_data['price'], hist=True, kde=True, \n",
    "             bins=int(180/5), color = 'darkblue', \n",
    "             hist_kws={'edgecolor':'black'},\n",
    "             kde_kws={'linewidth': 4})"
   ]
  },
  {
   "cell_type": "markdown",
   "metadata": {},
   "source": [
    "# MODEL"
   ]
  },
  {
   "cell_type": "code",
   "execution_count": 162,
   "metadata": {},
   "outputs": [],
   "source": [
    "from sklearn.ensemble import RandomForestRegressor\n",
    "from sklearn.datasets import make_regression\n",
    "from sklearn.model_selection import train_test_split\n",
    "from sklearn.metrics import mean_squared_error\n",
    "from sklearn.model_selection import RandomizedSearchCV"
   ]
  },
  {
   "cell_type": "code",
   "execution_count": 163,
   "metadata": {},
   "outputs": [],
   "source": [
    "#convert the int64 columns categorical\n",
    "Column_datatypes= train_data.dtypes\n",
    "Integer_columns = list(Column_datatypes.where(lambda x: x ==\"int64\").dropna().index.values)\n",
    "train_data[Integer_columns] = train_data[Integer_columns].astype('category',copy=False)\n",
    "X,y = train_data.drop(['price'],axis=1),train_data['price']\n",
    "X_train, X_test, y_train, y_test = train_test_split(X, y, test_size=0.33, random_state=42)"
   ]
  },
  {
   "cell_type": "code",
   "execution_count": 164,
   "metadata": {},
   "outputs": [
    {
     "data": {
      "text/plain": [
       "RandomForestRegressor(oob_score=True, random_state=42)"
      ]
     },
     "execution_count": 164,
     "metadata": {},
     "output_type": "execute_result"
    }
   ],
   "source": [
    "# Instantiate model with 100 decision trees\n",
    "rf_base = RandomForestRegressor(n_estimators = 100, random_state = 42,oob_score = True)\n",
    "rf_base.fit(X_train, y_train)"
   ]
  },
  {
   "cell_type": "code",
   "execution_count": 165,
   "metadata": {},
   "outputs": [],
   "source": [
    "#save the model output\n",
    "pickle.dump(rf_base, open(\"basemodel_rf\", 'wb'))"
   ]
  },
  {
   "cell_type": "code",
   "execution_count": 166,
   "metadata": {},
   "outputs": [],
   "source": [
    "#load the saved model and predict on the test data\n",
    "basedmodel_rf = pickle.load(open(\"basemodel_rf\", 'rb'))"
   ]
  },
  {
   "cell_type": "code",
   "execution_count": 167,
   "metadata": {},
   "outputs": [
    {
     "name": "stdout",
     "output_type": "stream",
     "text": [
      "Base model accuracy: 0.18418222362932035\n"
     ]
    }
   ],
   "source": [
    "#validate the accuracy of the base model\n",
    "#compare the model accuracies\n",
    "Y_test_predict_base = basedmodel_rf.predict(X_test)\n",
    "print(\"Base model accuracy:\",np.sqrt(mean_squared_error(y_test, Y_test_predict_base)))"
   ]
  },
  {
   "cell_type": "markdown",
   "metadata": {},
   "source": [
    "# HyperParameter Tuning Using RandomSearchCV"
   ]
  },
  {
   "cell_type": "code",
   "execution_count": 168,
   "metadata": {},
   "outputs": [],
   "source": [
    "#number of trees\n",
    "n_estimators = [100,200,300,400,500]\n",
    "# Number of features to consider at every split\n",
    "max_features = ['auto', 'sqrt']\n",
    "# Maximum number of levels in tree\n",
    "max_depth = [int(x) for x in np.linspace(10, 110, num = 11)]\n",
    "# Minimum number of samples required to split a node\n",
    "min_samples_split = [200,400,600]\n",
    "# Minimum number of samples required at each leaf node\n",
    "min_samples_leaf = [1, 2, 4]\n",
    "# Method of selecting samples for training each tree\n",
    "bootstrap = [True, False]\n",
    "\n",
    "# Create the random grid\n",
    "random_grid = {'n_estimators': n_estimators,\n",
    "               'max_features': max_features,\n",
    "               'max_depth': max_depth,\n",
    "               'min_samples_split': min_samples_split,\n",
    "               'min_samples_leaf': min_samples_leaf,\n",
    "               'bootstrap': bootstrap}"
   ]
  },
  {
   "cell_type": "code",
   "execution_count": 169,
   "metadata": {},
   "outputs": [
    {
     "name": "stdout",
     "output_type": "stream",
     "text": [
      "Fitting 3 folds for each of 5 candidates, totalling 15 fits\n"
     ]
    }
   ],
   "source": [
    "# Use the random grid to search for best hyperparameters\n",
    "# base model to tune\n",
    "rf = RandomForestRegressor()\n",
    "\n",
    "# 5 fold cross validation, \n",
    "# search across 150 different combinations, and use all available cores\n",
    "rf_tuned = RandomizedSearchCV(estimator = rf, param_distributions = random_grid, cv = 3,n_iter = 5, verbose=2, random_state=42, n_jobs = -1)\n",
    "\n",
    "# Fit the random search model\n",
    "rf_tuned.fit(X_train, y_train)\n",
    "\n",
    "#save the model output\n",
    "pickle.dump(rf_tuned, open(\"tunedmodel_rf\", 'wb'))"
   ]
  },
  {
   "cell_type": "code",
   "execution_count": 170,
   "metadata": {},
   "outputs": [
    {
     "data": {
      "text/plain": [
       "{'n_estimators': 100,\n",
       " 'min_samples_split': 400,\n",
       " 'min_samples_leaf': 1,\n",
       " 'max_features': 'sqrt',\n",
       " 'max_depth': 100,\n",
       " 'bootstrap': True}"
      ]
     },
     "execution_count": 170,
     "metadata": {},
     "output_type": "execute_result"
    }
   ],
   "source": [
    "#check the best params\n",
    "rf_tuned.best_params_"
   ]
  },
  {
   "cell_type": "code",
   "execution_count": 171,
   "metadata": {},
   "outputs": [
    {
     "name": "stdout",
     "output_type": "stream",
     "text": [
      "Tuned model accuracy: 0.5733295838115159\n"
     ]
    }
   ],
   "source": [
    "#load the saved model and predict on the test data\n",
    "tunedmodel_rf = pickle.load(open(\"tunedmodel_rf\", 'rb'))\n",
    "\n",
    "Y_test_predict_tuned = tunedmodel_rf.predict(X_test)\n",
    "print(\"Tuned model accuracy:\",np.sqrt(mean_squared_error(y_test, Y_test_predict_tuned)))"
   ]
  },
  {
   "cell_type": "markdown",
   "metadata": {},
   "source": [
    "# fit a GBM model"
   ]
  },
  {
   "cell_type": "code",
   "execution_count": 172,
   "metadata": {},
   "outputs": [],
   "source": [
    "from sklearn.ensemble import GradientBoostingRegressor  #GBM algorithm\n",
    "gbm_base = GradientBoostingRegressor(\n",
    "    max_depth=2,\n",
    "    n_estimators=3,\n",
    "    learning_rate=1.0)\n",
    "\n",
    "gbm_base.fit(X_train,y_train)\n",
    "\n",
    "#save the GBM model\n",
    "pickle.dump(gbm_base, open(\"basemodel_GBM\", 'wb'))"
   ]
  },
  {
   "cell_type": "code",
   "execution_count": 173,
   "metadata": {},
   "outputs": [
    {
     "name": "stdout",
     "output_type": "stream",
     "text": [
      "Base model GBM accuracy: 0.23408075513141224\n"
     ]
    }
   ],
   "source": [
    "#load the saved model and predict on the test data\n",
    "basemodel_GBM = pickle.load(open(\"basemodel_GBM\", 'rb'))\n",
    "\n",
    "Y_test_predict_tuned = basemodel_GBM.predict(X_test)\n",
    "print(\"Base model GBM accuracy:\",np.sqrt(mean_squared_error(y_test, Y_test_predict_tuned)))"
   ]
  }
 ],
 "metadata": {
  "kernelspec": {
   "display_name": "Python 3",
   "language": "python",
   "name": "python3"
  },
  "language_info": {
   "codemirror_mode": {
    "name": "ipython",
    "version": 3
   },
   "file_extension": ".py",
   "mimetype": "text/x-python",
   "name": "python",
   "nbconvert_exporter": "python",
   "pygments_lexer": "ipython3",
   "version": "3.8.6"
  }
 },
 "nbformat": 4,
 "nbformat_minor": 4
}
