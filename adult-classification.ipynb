{
 "cells": [
  {
   "cell_type": "markdown",
   "metadata": {},
   "source": [
    "# Predict income"
   ]
  },
  {
   "cell_type": "markdown",
   "metadata": {},
   "source": [
    "* **Business Context**: Prediction task is to determine whether a person makes over 50K a year based. \n",
    "* **Associated tasks**: Classification. \n",
    "\n",
    "* **Dataset**: The dataset is taken from UCI machine learning repository https://archive.ics.uci.edu/ml/datasets/Adult . The number of instances is 48842. \n",
    "* **Attributes**: Multivariate categorical and Integer\n",
    " \n",
    "    * class : >50K, <=50K\n",
    "    * age: continuous.\n",
    "    * workclass: Private, Self-emp-not-inc, Self-emp-inc, Federal-gov, Local-gov, State-gov, Without-pay, Never-worked.\n",
    "    * fnlwgt: continuous.\n",
    "    * education: Bachelors, Some-college, 11th, HS-grad, Prof-school, Assoc-acdm, Assoc-voc, 9th, 7th-8th, 12th, Masters, 1st-4th, 10th, Doctorate, 5th-6th, Preschool.\n",
    "    * education-num: continuous.\n",
    "    * marital-status: Married-civ-spouse, Divorced, Never-married, Separated, Widowed, Married-spouse-absent, Married-AF-spouse.\n",
    "    * occupation: Tech-support, Craft-repair, Other-service, Sales, Exec-managerial, Prof-specialty, Handlers-cleaners, Machine-op-inspct, Adm-clerical, Farming-fishing, Transport-moving, Priv-house-serv, Protective-serv, Armed-Forces.\n",
    "    * relationship: Wife, Own-child, Husband, Not-in-family, Other-relative, Unmarried.\n",
    "    * race: White, Asian-Pac-Islander, Amer-Indian-Eskimo, Other, Black.\n",
    "    * sex: Female, Male.\n",
    "    * capital-gain: continuous.\n",
    "    * capital-loss: continuous.\n",
    "    * hours-per-week: continuous.\n",
    "    * native-country: United-States, Cambodia, England, Puerto-Rico, Canada, Germany, Outlying-US(Guam-USVI-etc), India, Japan, Greece, South, China, Cuba, Iran, Honduras, Philippines, Italy, Poland, Jamaica, Vietnam, Mexico, Portugal, Ireland, France, Dominican-Republic, Laos, Ecuador, Taiwan, Haiti, Columbia, Hungary, Guatemala, Nicaragua, Scotland, Thailand, Yugoslavia, El-Salvador, Trinadad&Tobago, Peru, Hong, Holand-Netherlands.>50K, <=50K.\n",
    "* Missing values are represented by '?'"
   ]
  },
  {
   "cell_type": "code",
   "execution_count": 370,
   "metadata": {},
   "outputs": [],
   "source": [
    "!pip -q install keras\n",
    "!pip -q install imblearn\n",
    "!pip -q install xgboost\n",
    "!pip -q install lightgbm\n",
    "!pip -q install shap\n",
    "!pip -q install lime"
   ]
  },
  {
   "cell_type": "code",
   "execution_count": 428,
   "metadata": {},
   "outputs": [],
   "source": [
    "#Loading the necessary libraries and setting them up\n",
    "\n",
    "import pandas as pd\n",
    "import numpy as np\n",
    "import seaborn as sns\n",
    "import matplotlib.pyplot as plt\n",
    "import pickle\n",
    "import warnings\n",
    "import tensorflow as tf\n",
    "import keras\n",
    "import keras.backend as K\n",
    "import shap\n",
    "\n",
    "from scipy.stats import kurtosis\n",
    "from scipy import stats, special\n",
    "from scipy.stats import skew, tstd\n",
    "\n",
    "from lime.lime_tabular import LimeTabularExplainer\n",
    "\n",
    "from sklearn.impute import SimpleImputer\n",
    "from sklearn import preprocessing\n",
    "from sklearn.feature_selection import VarianceThreshold, chi2\n",
    "from sklearn.model_selection import train_test_split, cross_val_score\n",
    "from sklearn.metrics import mean_squared_error, accuracy_score,confusion_matrix, roc_curve, auc,classification_report, recall_score, precision_score, f1_score,roc_auc_score,auc,roc_curve\n",
    "from sklearn.ensemble import RandomForestClassifier,GradientBoostingClassifier\n",
    "from sklearn.linear_model import LogisticRegression\n",
    "from sklearn.preprocessing import MinMaxScaler\n",
    "\n",
    "from keras.callbacks import EarlyStopping, ModelCheckpoint\n",
    "from keras import models\n",
    "from keras import layers\n",
    "\n",
    "from imblearn.over_sampling import SMOTE\n",
    "\n",
    "from xgboost import XGBClassifier\n",
    "\n",
    "from lightgbm import LGBMClassifier\n",
    "\n",
    "from IPython.core.interactiveshell import InteractiveShell"
   ]
  },
  {
   "cell_type": "code",
   "execution_count": 372,
   "metadata": {},
   "outputs": [],
   "source": [
    "# Setting libraries up\n",
    "\n",
    "warnings.filterwarnings('ignore')\n",
    "warnings.filterwarnings(action='ignore')\n",
    "InteractiveShell.ast_node_interactivity = \"all\""
   ]
  },
  {
   "cell_type": "markdown",
   "metadata": {},
   "source": [
    "## Exploratory Data Analysis (EDA)"
   ]
  },
  {
   "cell_type": "code",
   "execution_count": 373,
   "metadata": {},
   "outputs": [
    {
     "data": {
      "text/html": [
       "<div>\n",
       "<style scoped>\n",
       "    .dataframe tbody tr th:only-of-type {\n",
       "        vertical-align: middle;\n",
       "    }\n",
       "\n",
       "    .dataframe tbody tr th {\n",
       "        vertical-align: top;\n",
       "    }\n",
       "\n",
       "    .dataframe thead th {\n",
       "        text-align: right;\n",
       "    }\n",
       "</style>\n",
       "<table border=\"1\" class=\"dataframe\">\n",
       "  <thead>\n",
       "    <tr style=\"text-align: right;\">\n",
       "      <th></th>\n",
       "      <th>age</th>\n",
       "      <th>workclass</th>\n",
       "      <th>fnlwgt</th>\n",
       "      <th>education</th>\n",
       "      <th>education-num</th>\n",
       "      <th>marital-status</th>\n",
       "      <th>occupation</th>\n",
       "      <th>relationship</th>\n",
       "      <th>race</th>\n",
       "      <th>sex</th>\n",
       "      <th>capital-gain</th>\n",
       "      <th>capital-loss</th>\n",
       "      <th>hours-per-week</th>\n",
       "      <th>native-country</th>\n",
       "      <th>class</th>\n",
       "    </tr>\n",
       "  </thead>\n",
       "  <tbody>\n",
       "    <tr>\n",
       "      <th>0</th>\n",
       "      <td>39</td>\n",
       "      <td>State-gov</td>\n",
       "      <td>77516</td>\n",
       "      <td>Bachelors</td>\n",
       "      <td>13</td>\n",
       "      <td>Never-married</td>\n",
       "      <td>Adm-clerical</td>\n",
       "      <td>Not-in-family</td>\n",
       "      <td>White</td>\n",
       "      <td>Male</td>\n",
       "      <td>2174</td>\n",
       "      <td>0</td>\n",
       "      <td>40</td>\n",
       "      <td>United-States</td>\n",
       "      <td>&lt;=50K</td>\n",
       "    </tr>\n",
       "    <tr>\n",
       "      <th>1</th>\n",
       "      <td>50</td>\n",
       "      <td>Self-emp-not-inc</td>\n",
       "      <td>83311</td>\n",
       "      <td>Bachelors</td>\n",
       "      <td>13</td>\n",
       "      <td>Married-civ-spouse</td>\n",
       "      <td>Exec-managerial</td>\n",
       "      <td>Husband</td>\n",
       "      <td>White</td>\n",
       "      <td>Male</td>\n",
       "      <td>0</td>\n",
       "      <td>0</td>\n",
       "      <td>13</td>\n",
       "      <td>United-States</td>\n",
       "      <td>&lt;=50K</td>\n",
       "    </tr>\n",
       "    <tr>\n",
       "      <th>2</th>\n",
       "      <td>38</td>\n",
       "      <td>Private</td>\n",
       "      <td>215646</td>\n",
       "      <td>HS-grad</td>\n",
       "      <td>9</td>\n",
       "      <td>Divorced</td>\n",
       "      <td>Handlers-cleaners</td>\n",
       "      <td>Not-in-family</td>\n",
       "      <td>White</td>\n",
       "      <td>Male</td>\n",
       "      <td>0</td>\n",
       "      <td>0</td>\n",
       "      <td>40</td>\n",
       "      <td>United-States</td>\n",
       "      <td>&lt;=50K</td>\n",
       "    </tr>\n",
       "    <tr>\n",
       "      <th>3</th>\n",
       "      <td>53</td>\n",
       "      <td>Private</td>\n",
       "      <td>234721</td>\n",
       "      <td>11th</td>\n",
       "      <td>7</td>\n",
       "      <td>Married-civ-spouse</td>\n",
       "      <td>Handlers-cleaners</td>\n",
       "      <td>Husband</td>\n",
       "      <td>Black</td>\n",
       "      <td>Male</td>\n",
       "      <td>0</td>\n",
       "      <td>0</td>\n",
       "      <td>40</td>\n",
       "      <td>United-States</td>\n",
       "      <td>&lt;=50K</td>\n",
       "    </tr>\n",
       "    <tr>\n",
       "      <th>4</th>\n",
       "      <td>28</td>\n",
       "      <td>Private</td>\n",
       "      <td>338409</td>\n",
       "      <td>Bachelors</td>\n",
       "      <td>13</td>\n",
       "      <td>Married-civ-spouse</td>\n",
       "      <td>Prof-specialty</td>\n",
       "      <td>Wife</td>\n",
       "      <td>Black</td>\n",
       "      <td>Female</td>\n",
       "      <td>0</td>\n",
       "      <td>0</td>\n",
       "      <td>40</td>\n",
       "      <td>Cuba</td>\n",
       "      <td>&lt;=50K</td>\n",
       "    </tr>\n",
       "  </tbody>\n",
       "</table>\n",
       "</div>"
      ],
      "text/plain": [
       "   age          workclass  fnlwgt   education  education-num  \\\n",
       "0   39          State-gov   77516   Bachelors             13   \n",
       "1   50   Self-emp-not-inc   83311   Bachelors             13   \n",
       "2   38            Private  215646     HS-grad              9   \n",
       "3   53            Private  234721        11th              7   \n",
       "4   28            Private  338409   Bachelors             13   \n",
       "\n",
       "        marital-status          occupation    relationship    race      sex  \\\n",
       "0        Never-married        Adm-clerical   Not-in-family   White     Male   \n",
       "1   Married-civ-spouse     Exec-managerial         Husband   White     Male   \n",
       "2             Divorced   Handlers-cleaners   Not-in-family   White     Male   \n",
       "3   Married-civ-spouse   Handlers-cleaners         Husband   Black     Male   \n",
       "4   Married-civ-spouse      Prof-specialty            Wife   Black   Female   \n",
       "\n",
       "   capital-gain  capital-loss  hours-per-week  native-country   class  \n",
       "0          2174             0              40   United-States   <=50K  \n",
       "1             0             0              13   United-States   <=50K  \n",
       "2             0             0              40   United-States   <=50K  \n",
       "3             0             0              40   United-States   <=50K  \n",
       "4             0             0              40            Cuba   <=50K  "
      ]
     },
     "execution_count": 373,
     "metadata": {},
     "output_type": "execute_result"
    }
   ],
   "source": [
    "# Load Dataset\n",
    "\n",
    "COLUMNS =  ['age', 'workclass', 'fnlwgt', 'education', 'education-num', 'marital-status', 'occupation', 'relationship',\n",
    "            'race', 'sex', 'capital-gain', 'capital-loss', 'hours-per-week', 'native-country', 'class' ]\n",
    "\n",
    "URL = 'https://archive.ics.uci.edu/ml/machine-learning-databases/adult/adult.data'\n",
    "\n",
    "df = pd.read_csv(URL, header=None, names=COLUMNS)\n",
    "df.head()"
   ]
  },
  {
   "cell_type": "code",
   "execution_count": 374,
   "metadata": {},
   "outputs": [
    {
     "data": {
      "text/html": [
       "<div>\n",
       "<style scoped>\n",
       "    .dataframe tbody tr th:only-of-type {\n",
       "        vertical-align: middle;\n",
       "    }\n",
       "\n",
       "    .dataframe tbody tr th {\n",
       "        vertical-align: top;\n",
       "    }\n",
       "\n",
       "    .dataframe thead th {\n",
       "        text-align: right;\n",
       "    }\n",
       "</style>\n",
       "<table border=\"1\" class=\"dataframe\">\n",
       "  <thead>\n",
       "    <tr style=\"text-align: right;\">\n",
       "      <th></th>\n",
       "      <th>age</th>\n",
       "      <th>fnlwgt</th>\n",
       "      <th>education-num</th>\n",
       "      <th>capital-gain</th>\n",
       "      <th>capital-loss</th>\n",
       "      <th>hours-per-week</th>\n",
       "    </tr>\n",
       "  </thead>\n",
       "  <tbody>\n",
       "    <tr>\n",
       "      <th>count</th>\n",
       "      <td>32561.000000</td>\n",
       "      <td>3.256100e+04</td>\n",
       "      <td>32561.000000</td>\n",
       "      <td>32561.000000</td>\n",
       "      <td>32561.000000</td>\n",
       "      <td>32561.000000</td>\n",
       "    </tr>\n",
       "    <tr>\n",
       "      <th>mean</th>\n",
       "      <td>38.581647</td>\n",
       "      <td>1.897784e+05</td>\n",
       "      <td>10.080679</td>\n",
       "      <td>1077.648844</td>\n",
       "      <td>87.303830</td>\n",
       "      <td>40.437456</td>\n",
       "    </tr>\n",
       "    <tr>\n",
       "      <th>std</th>\n",
       "      <td>13.640433</td>\n",
       "      <td>1.055500e+05</td>\n",
       "      <td>2.572720</td>\n",
       "      <td>7385.292085</td>\n",
       "      <td>402.960219</td>\n",
       "      <td>12.347429</td>\n",
       "    </tr>\n",
       "    <tr>\n",
       "      <th>min</th>\n",
       "      <td>17.000000</td>\n",
       "      <td>1.228500e+04</td>\n",
       "      <td>1.000000</td>\n",
       "      <td>0.000000</td>\n",
       "      <td>0.000000</td>\n",
       "      <td>1.000000</td>\n",
       "    </tr>\n",
       "    <tr>\n",
       "      <th>25%</th>\n",
       "      <td>28.000000</td>\n",
       "      <td>1.178270e+05</td>\n",
       "      <td>9.000000</td>\n",
       "      <td>0.000000</td>\n",
       "      <td>0.000000</td>\n",
       "      <td>40.000000</td>\n",
       "    </tr>\n",
       "    <tr>\n",
       "      <th>50%</th>\n",
       "      <td>37.000000</td>\n",
       "      <td>1.783560e+05</td>\n",
       "      <td>10.000000</td>\n",
       "      <td>0.000000</td>\n",
       "      <td>0.000000</td>\n",
       "      <td>40.000000</td>\n",
       "    </tr>\n",
       "    <tr>\n",
       "      <th>75%</th>\n",
       "      <td>48.000000</td>\n",
       "      <td>2.370510e+05</td>\n",
       "      <td>12.000000</td>\n",
       "      <td>0.000000</td>\n",
       "      <td>0.000000</td>\n",
       "      <td>45.000000</td>\n",
       "    </tr>\n",
       "    <tr>\n",
       "      <th>max</th>\n",
       "      <td>90.000000</td>\n",
       "      <td>1.484705e+06</td>\n",
       "      <td>16.000000</td>\n",
       "      <td>99999.000000</td>\n",
       "      <td>4356.000000</td>\n",
       "      <td>99.000000</td>\n",
       "    </tr>\n",
       "  </tbody>\n",
       "</table>\n",
       "</div>"
      ],
      "text/plain": [
       "                age        fnlwgt  education-num  capital-gain  capital-loss  \\\n",
       "count  32561.000000  3.256100e+04   32561.000000  32561.000000  32561.000000   \n",
       "mean      38.581647  1.897784e+05      10.080679   1077.648844     87.303830   \n",
       "std       13.640433  1.055500e+05       2.572720   7385.292085    402.960219   \n",
       "min       17.000000  1.228500e+04       1.000000      0.000000      0.000000   \n",
       "25%       28.000000  1.178270e+05       9.000000      0.000000      0.000000   \n",
       "50%       37.000000  1.783560e+05      10.000000      0.000000      0.000000   \n",
       "75%       48.000000  2.370510e+05      12.000000      0.000000      0.000000   \n",
       "max       90.000000  1.484705e+06      16.000000  99999.000000   4356.000000   \n",
       "\n",
       "       hours-per-week  \n",
       "count    32561.000000  \n",
       "mean        40.437456  \n",
       "std         12.347429  \n",
       "min          1.000000  \n",
       "25%         40.000000  \n",
       "50%         40.000000  \n",
       "75%         45.000000  \n",
       "max         99.000000  "
      ]
     },
     "execution_count": 374,
     "metadata": {},
     "output_type": "execute_result"
    }
   ],
   "source": [
    "df.describe()"
   ]
  },
  {
   "cell_type": "code",
   "execution_count": 375,
   "metadata": {},
   "outputs": [
    {
     "name": "stdout",
     "output_type": "stream",
     "text": [
      "<class 'pandas.core.frame.DataFrame'>\n",
      "RangeIndex: 32561 entries, 0 to 32560\n",
      "Data columns (total 15 columns):\n",
      " #   Column          Non-Null Count  Dtype \n",
      "---  ------          --------------  ----- \n",
      " 0   age             32561 non-null  int64 \n",
      " 1   workclass       32561 non-null  object\n",
      " 2   fnlwgt          32561 non-null  int64 \n",
      " 3   education       32561 non-null  object\n",
      " 4   education-num   32561 non-null  int64 \n",
      " 5   marital-status  32561 non-null  object\n",
      " 6   occupation      32561 non-null  object\n",
      " 7   relationship    32561 non-null  object\n",
      " 8   race            32561 non-null  object\n",
      " 9   sex             32561 non-null  object\n",
      " 10  capital-gain    32561 non-null  int64 \n",
      " 11  capital-loss    32561 non-null  int64 \n",
      " 12  hours-per-week  32561 non-null  int64 \n",
      " 13  native-country  32561 non-null  object\n",
      " 14  class           32561 non-null  object\n",
      "dtypes: int64(6), object(9)\n",
      "memory usage: 3.7+ MB\n"
     ]
    }
   ],
   "source": [
    "df.info()"
   ]
  },
  {
   "cell_type": "markdown",
   "metadata": {},
   "source": [
    "## Feature understanding"
   ]
  },
  {
   "cell_type": "markdown",
   "metadata": {},
   "source": [
    "#### Univariate visualisation"
   ]
  },
  {
   "cell_type": "code",
   "execution_count": 376,
   "metadata": {},
   "outputs": [],
   "source": [
    "# Missing values are represented by '?'.  They might be present in object type columns\n",
    "train_data = df.replace('(^\\s+|\\s+$)', '', regex=True)\n",
    "train_data = train_data.replace('^\\?{1}', np.nan, regex=True)"
   ]
  },
  {
   "cell_type": "code",
   "execution_count": 377,
   "metadata": {},
   "outputs": [],
   "source": [
    "data_count = train_data['workclass'].value_counts().head()"
   ]
  },
  {
   "cell_type": "code",
   "execution_count": 378,
   "metadata": {},
   "outputs": [],
   "source": [
    "def plot_nominal_columns(df, columns):\n",
    "    for column in columns:        \n",
    "        data = df[df[column].isnull() == False]\n",
    "        data_count = data[column].value_counts().head()\n",
    "        labels = data_count.keys()\n",
    "        fig, ax = plt.subplots(figsize=(10,6))\n",
    "        ax.set_title(column + ' Percentile')\n",
    "        ax  = plt.pie(x=data_count, autopct=\"%.1f%%\", labels=labels, pctdistance=0.5) \n",
    "        print(\"---- \" + column + \" ----\")\n",
    "        print ('Null(%): ' + str(round(df[column].isnull().sum()/len(df)*100)))\n",
    "        print (f'Mode: {df[column].mode()[0]}')\n",
    "        plt.show()        "
   ]
  },
  {
   "cell_type": "code",
   "execution_count": 379,
   "metadata": {
    "scrolled": true
   },
   "outputs": [
    {
     "name": "stdout",
     "output_type": "stream",
     "text": [
      "---- workclass ----\n",
      "Null(%): 6\n",
      "Mode: Private\n"
     ]
    },
    {
     "data": {
      "image/png": "[encoded data removed]",
      "text/plain": [
       "<Figure size 720x432 with 1 Axes>"
      ]
     },
     "metadata": {},
     "output_type": "display_data"
    },
    {
     "name": "stdout",
     "output_type": "stream",
     "text": [
      "---- education ----\n",
      "Null(%): 0\n",
      "Mode: HS-grad\n"
     ]
    },
    {
     "data": {
      "image/png": "[encoded data removed]",
      "text/plain": [
       "<Figure size 720x432 with 1 Axes>"
      ]
     },
     "metadata": {},
     "output_type": "display_data"
    },
    {
     "name": "stdout",
     "output_type": "stream",
     "text": [
      "---- marital-status ----\n",
      "Null(%): 0\n",
      "Mode: Married-civ-spouse\n"
     ]
    },
    {
     "data": {
      "image/png": "[encoded data removed]",
      "text/plain": [
       "<Figure size 720x432 with 1 Axes>"
      ]
     },
     "metadata": {},
     "output_type": "display_data"
    },
    {
     "name": "stdout",
     "output_type": "stream",
     "text": [
      "---- occupation ----\n",
      "Null(%): 6\n",
      "Mode: Prof-specialty\n"
     ]
    },
    {
     "data": {
      "image/png": "[encoded data removed]",
      "text/plain": [
       "<Figure size 720x432 with 1 Axes>"
      ]
     },
     "metadata": {},
     "output_type": "display_data"
    },
    {
     "name": "stdout",
     "output_type": "stream",
     "text": [
      "---- relationship ----\n",
      "Null(%): 0\n",
      "Mode: Husband\n"
     ]
    },
    {
     "data": {
      "image/png": "[encoded data removed]",
      "text/plain": [
       "<Figure size 720x432 with 1 Axes>"
      ]
     },
     "metadata": {},
     "output_type": "display_data"
    },
    {
     "name": "stdout",
     "output_type": "stream",
     "text": [
      "---- race ----\n",
      "Null(%): 0\n",
      "Mode: White\n"
     ]
    },
    {
     "data": {
      "image/png": "[encoded data removed]",
      "text/plain": [
       "<Figure size 720x432 with 1 Axes>"
      ]
     },
     "metadata": {},
     "output_type": "display_data"
    },
    {
     "name": "stdout",
     "output_type": "stream",
     "text": [
      "---- sex ----\n",
      "Null(%): 0\n",
      "Mode: Male\n"
     ]
    },
    {
     "data": {
      "image/png": "[encoded data removed]",
      "text/plain": [
       "<Figure size 720x432 with 1 Axes>"
      ]
     },
     "metadata": {},
     "output_type": "display_data"
    },
    {
     "name": "stdout",
     "output_type": "stream",
     "text": [
      "---- native-country ----\n",
      "Null(%): 2\n",
      "Mode: United-States\n"
     ]
    },
    {
     "data": {
      "image/png": "[encoded data removed]",
      "text/plain": [
       "<Figure size 720x432 with 1 Axes>"
      ]
     },
     "metadata": {},
     "output_type": "display_data"
    }
   ],
   "source": [
    "#describe data for Nominal data\n",
    "\n",
    "nominal_columns = ['workclass', 'education', 'marital-status', 'occupation', 'relationship', 'race', 'sex', 'native-country']\n",
    "plot_nominal_columns(train_data, nominal_columns)"
   ]
  },
  {
   "cell_type": "markdown",
   "metadata": {},
   "source": [
    "* **Key takeaways:**\n",
    "* **\n",
    "    * workclass : Null value to be handled\n",
    "    * occupation : Null value to be handled\n",
    "    * native-country : Null value to be handled\n",
    "    \n",
    "* **   "
   ]
  },
  {
   "cell_type": "code",
   "execution_count": 380,
   "metadata": {},
   "outputs": [],
   "source": [
    "def plot_ordinal_columns(df, columns):\n",
    "    for column in columns:        \n",
    "        data = df[df[column].isnull() == False]\n",
    "        data_count = data[column].value_counts()\n",
    "        labels = data_count.keys()\n",
    "        fig, ax = plt.subplots(figsize=(10,6))   \n",
    "        ax.grid(False)\n",
    "        ax.set_title(column + ' Stem')\n",
    "        ax  = plt.stem(labels, data_count.values) \n",
    "        print(\"---- \" + column + \" ----\")\n",
    "        print ('Null(%): ' + str(round(df[column].isnull().sum()/len(df)*100)))        \n",
    "        print (f'Mode: {df[column].mode()[0]}')\n",
    "        print (f'Median: {df[column].median()}')\n",
    "        plt.show()"
   ]
  },
  {
   "cell_type": "code",
   "execution_count": 381,
   "metadata": {},
   "outputs": [
    {
     "name": "stdout",
     "output_type": "stream",
     "text": [
      "---- age ----\n",
      "Null(%): 0\n",
      "Mode: 36\n",
      "Median: 37.0\n"
     ]
    },
    {
     "data": {
      "image/png": "[encoded data removed]",
      "text/plain": [
       "<Figure size 720x432 with 1 Axes>"
      ]
     },
     "metadata": {
      "needs_background": "light"
     },
     "output_type": "display_data"
    },
    {
     "name": "stdout",
     "output_type": "stream",
     "text": [
      "---- education-num ----\n",
      "Null(%): 0\n",
      "Mode: 9\n",
      "Median: 10.0\n"
     ]
    },
    {
     "data": {
      "image/png": "[encoded data removed]",
      "text/plain": [
       "<Figure size 720x432 with 1 Axes>"
      ]
     },
     "metadata": {
      "needs_background": "light"
     },
     "output_type": "display_data"
    }
   ],
   "source": [
    "# Ordinal values and describe\n",
    "ordinal_columns = ['age', 'education-num']\n",
    "\n",
    "plot_ordinal_columns(train_data, ordinal_columns)"
   ]
  },
  {
   "cell_type": "code",
   "execution_count": 382,
   "metadata": {},
   "outputs": [],
   "source": [
    "def plot_ratio_hist_boxplot(df, columns):\n",
    "    for column in columns:      \n",
    "        fig,[ax1,ax2]=plt.subplots(1,2,figsize=(12,5))\n",
    "        ax1.grid(False)\n",
    "        ax2.grid(False)\n",
    "        sns.distplot(df[df[column].notnull()][column],ax=ax1)\n",
    "        sns.boxplot(y=df[df[column].notnull()][column],ax=ax2)\n",
    "        print(\"---- \" + column + \" ----\")\n",
    "        print(\"skewness : \",skew(df[df[column].notnull()][column]))\n",
    "        print(\"kurtosis : \",kurtosis(df[df[column].notnull()][column]))\n",
    "        print(\"standard : \",tstd(df[df[column].notnull()][column]))\n",
    "        plt.show()"
   ]
  },
  {
   "cell_type": "code",
   "execution_count": 383,
   "metadata": {},
   "outputs": [],
   "source": [
    "def plot_ratio_count_boxplot(df, columns):\n",
    "    for column in columns:\n",
    "        fig,[ax1,ax2]=plt.subplots(1,2,figsize=(12,6))\n",
    "        ax1.grid(False)\n",
    "        ax2.grid(False)\n",
    "        sns.countplot(df[df[column].notnull()][column],ax=ax1)\n",
    "        sns.boxplot(y=df[train_data[column].notnull()][column],ax=ax2)\n",
    "        print(\"---- \" + column + \" ----\")\n",
    "        print(\"skewness : \",skew(df[df[column].notnull()][column]))\n",
    "        print(\"kurtosis : \",kurtosis(df[df[column].notnull()][column]))\n",
    "        print(\"standard : \",tstd(df[df[column].notnull()][column]))\n",
    "        plt.show()"
   ]
  },
  {
   "cell_type": "code",
   "execution_count": 384,
   "metadata": {},
   "outputs": [],
   "source": [
    "#plot continuous(ratio) column\n",
    "\n",
    "ratio_columns = ['fnlwgt', 'capital-gain', 'capital-loss', 'hours-per-week']"
   ]
  },
  {
   "cell_type": "code",
   "execution_count": 385,
   "metadata": {},
   "outputs": [
    {
     "name": "stdout",
     "output_type": "stream",
     "text": [
      "---- fnlwgt ----\n",
      "skewness :  1.446913435142329\n",
      "kurtosis :  6.217671807559244\n",
      "standard :  105549.97769702224\n"
     ]
    },
    {
     "data": {
      "image/png": "[encoded data removed]",
      "text/plain": [
       "<Figure size 864x360 with 2 Axes>"
      ]
     },
     "metadata": {
      "needs_background": "light"
     },
     "output_type": "display_data"
    },
    {
     "name": "stdout",
     "output_type": "stream",
     "text": [
      "---- capital-gain ----\n",
      "skewness :  11.953296998194332\n",
      "kurtosis :  154.7754839300255\n",
      "standard :  7385.292084840338\n"
     ]
    },
    {
     "data": {
      "image/png": "[encoded data removed]",
      "text/plain": [
       "<Figure size 864x360 with 2 Axes>"
      ]
     },
     "metadata": {
      "needs_background": "light"
     },
     "output_type": "display_data"
    },
    {
     "name": "stdout",
     "output_type": "stream",
     "text": [
      "---- capital-loss ----\n",
      "skewness :  4.59441745643977\n",
      "kurtosis :  20.373488564437295\n",
      "standard :  402.9602186489998\n"
     ]
    },
    {
     "data": {
      "image/png": "[encoded data removed]",
      "text/plain": [
       "<Figure size 864x360 with 2 Axes>"
      ]
     },
     "metadata": {
      "needs_background": "light"
     },
     "output_type": "display_data"
    },
    {
     "name": "stdout",
     "output_type": "stream",
     "text": [
      "---- hours-per-week ----\n",
      "skewness :  0.227632049774777\n",
      "kurtosis :  2.9160546709844883\n",
      "standard :  12.347428681731843\n"
     ]
    },
    {
     "data": {
      "image/png": "[encoded data removed]",
      "text/plain": [
       "<Figure size 864x360 with 2 Axes>"
      ]
     },
     "metadata": {
      "needs_background": "light"
     },
     "output_type": "display_data"
    }
   ],
   "source": [
    "plot_ratio_hist_boxplot(train_data, ratio_columns)"
   ]
  },
  {
   "cell_type": "markdown",
   "metadata": {},
   "source": [
    "* **Key takeaways:**\n",
    "* **\n",
    "    * fnlwgt : non-normal data\n",
    "    * capital-gain : non-normal data\n",
    "    \n",
    "* **   "
   ]
  },
  {
   "cell_type": "markdown",
   "metadata": {},
   "source": [
    "## Feature Improvement"
   ]
  },
  {
   "cell_type": "code",
   "execution_count": 386,
   "metadata": {},
   "outputs": [],
   "source": [
    "categorical_columns = ['workclass', 'education', 'marital-status', 'occupation', 'relationship','race', 'sex','native-country']\n",
    "continuous_columns = ['age', 'fnlwgt', 'education-num', 'capital-gain', 'capital-loss', 'hours-per-week']"
   ]
  },
  {
   "cell_type": "markdown",
   "metadata": {},
   "source": [
    "#### Handling missing values"
   ]
  },
  {
   "cell_type": "code",
   "execution_count": 387,
   "metadata": {},
   "outputs": [],
   "source": [
    "def MissingHandler(df):    \n",
    "    DataMissing = df.isnull().sum()*100/len(df)\n",
    "    DataMissingByColumn = pd.DataFrame({'Percentage Nulls':DataMissing})\n",
    "    DataMissingByColumn.sort_values(by='Percentage Nulls',ascending=False,inplace=True)\n",
    "    return DataMissingByColumn[DataMissingByColumn['Percentage Nulls']>0]"
   ]
  },
  {
   "cell_type": "code",
   "execution_count": 388,
   "metadata": {},
   "outputs": [
    {
     "data": {
      "text/html": [
       "<div>\n",
       "<style scoped>\n",
       "    .dataframe tbody tr th:only-of-type {\n",
       "        vertical-align: middle;\n",
       "    }\n",
       "\n",
       "    .dataframe tbody tr th {\n",
       "        vertical-align: top;\n",
       "    }\n",
       "\n",
       "    .dataframe thead th {\n",
       "        text-align: right;\n",
       "    }\n",
       "</style>\n",
       "<table border=\"1\" class=\"dataframe\">\n",
       "  <thead>\n",
       "    <tr style=\"text-align: right;\">\n",
       "      <th></th>\n",
       "      <th>Percentage Nulls</th>\n",
       "    </tr>\n",
       "  </thead>\n",
       "  <tbody>\n",
       "    <tr>\n",
       "      <th>occupation</th>\n",
       "      <td>5.660146</td>\n",
       "    </tr>\n",
       "    <tr>\n",
       "      <th>workclass</th>\n",
       "      <td>5.638647</td>\n",
       "    </tr>\n",
       "    <tr>\n",
       "      <th>native-country</th>\n",
       "      <td>1.790486</td>\n",
       "    </tr>\n",
       "  </tbody>\n",
       "</table>\n",
       "</div>"
      ],
      "text/plain": [
       "                Percentage Nulls\n",
       "occupation              5.660146\n",
       "workclass               5.638647\n",
       "native-country          1.790486"
      ]
     },
     "execution_count": 388,
     "metadata": {},
     "output_type": "execute_result"
    }
   ],
   "source": [
    "MissingHandler(train_data)"
   ]
  },
  {
   "cell_type": "code",
   "execution_count": 389,
   "metadata": {},
   "outputs": [],
   "source": [
    "class Data_preprocessing_handling:\n",
    "    def __init__(self,train_data):\n",
    "        self.train_data = train_data\n",
    "    \n",
    "    def handle_missing_value_continuous(self,column_names_with_specific_type,imputation_type=\"mean\"):\n",
    "        if imputation_type==\"mean\":\n",
    "            mean_imputer = SimpleImputer(missing_values=np.nan, strategy='mean')\n",
    "            mean_imputer.fit(self.train_data[column_names_with_specific_type])\n",
    "            self.train_data[column_names_with_specific_type]=mean_imputer.transform(self.train_data[column_names_with_specific_type])\n",
    "        if imputation_type==\"median\":\n",
    "            median_imputer = SimpleImputer(missing_values=np.nan, strategy='median')\n",
    "            median_imputer.fit(self.train_data[column_names_with_specific_type])\n",
    "            self.train_data[column_names_with_specific_type]=median_imputer.transform(self.train_data[column_names_with_specific_type])\n",
    "        return self.train_data\n",
    "    \n",
    "    def handle_missing_value_categorical(self,column_names_with_specific_type,imputation_type=\"most_frequent\"):\n",
    "        most_frequent = SimpleImputer(strategy=\"most_frequent\")\n",
    "        most_frequent.fit(self.train_data[column_names_with_specific_type])\n",
    "        self.train_data[column_names_with_specific_type] = most_frequent.transform(train_data[column_names_with_specific_type])\n",
    "        return self.train_data\n",
    "    \n",
    "    def handle_outlier_treatment(self,Q1,Q3,IQR,columns_with_outlier,action):\n",
    "        if action==\"median\":\n",
    "            for i in range(len(columns_with_outlier)):\n",
    "                column_name = columns_with_outlier[i]\n",
    "                meadian_outlier = np.median(self.train_data[column_name])\n",
    "                self.train_data.loc[self.train_data[((self.train_data[column_name]<(Q1[column_name]-(1.5*IQR[column_name])))|(self.train_data[column_name]>(Q3[column_name]+(1.5*IQR[column_name]))))].index,column_name]=meadian_outlier\n",
    "        if action==\"mean\":\n",
    "            for i in range(len(columns_with_outlier)):\n",
    "                column_name = columns_with_outlier[i]\n",
    "                mean_outlier = np.mean(self.train_data[column_name])\n",
    "                self.train_data.loc[self.train_data[((self.train_data[column_name]<(Q1[column_name]-(1.5*IQR[column_name])))|(self.train_data[column_name]>(Q3[column_name]+(1.5*IQR[column_name]))))].index,column_name]=mean_outlier\n",
    "        if action==\"remove\":\n",
    "            for i in range(len(columns_with_outlier)):\n",
    "                column_name = columns_with_outlier[i]\n",
    "                self.train_data = self.train_data[~((self.train_data[column_name]<(Q1[column_name]-(1.5*IQR[column_name])))|(self.train_data[column_name]>(Q3[column_name]+(1.5*IQR[column_name]))))]\n",
    "        return self.train_data"
   ]
  },
  {
   "cell_type": "code",
   "execution_count": 390,
   "metadata": {},
   "outputs": [],
   "source": [
    "missing_categorical_columns = ['workclass', 'occupation', 'native-country']"
   ]
  },
  {
   "cell_type": "code",
   "execution_count": 391,
   "metadata": {},
   "outputs": [],
   "source": [
    "Data_preprocessing_obj = Data_preprocessing_handling(train_data)\n",
    "train_data = Data_preprocessing_obj.handle_missing_value_categorical(missing_categorical_columns)"
   ]
  },
  {
   "cell_type": "code",
   "execution_count": 392,
   "metadata": {},
   "outputs": [
    {
     "data": {
      "text/plain": [
       "0"
      ]
     },
     "execution_count": 392,
     "metadata": {},
     "output_type": "execute_result"
    }
   ],
   "source": [
    "#Check if there is any missing value in the columuns\n",
    "#value of 0 indicates no missing values\n",
    "missing_values = train_data.isnull().sum()\n",
    "np.max(missing_values)"
   ]
  },
  {
   "cell_type": "markdown",
   "metadata": {},
   "source": [
    "#### Feature scaling"
   ]
  },
  {
   "cell_type": "code",
   "execution_count": 403,
   "metadata": {},
   "outputs": [
    {
     "data": {
      "text/html": [
       "<div>\n",
       "<style scoped>\n",
       "    .dataframe tbody tr th:only-of-type {\n",
       "        vertical-align: middle;\n",
       "    }\n",
       "\n",
       "    .dataframe tbody tr th {\n",
       "        vertical-align: top;\n",
       "    }\n",
       "\n",
       "    .dataframe thead th {\n",
       "        text-align: right;\n",
       "    }\n",
       "</style>\n",
       "<table border=\"1\" class=\"dataframe\">\n",
       "  <thead>\n",
       "    <tr style=\"text-align: right;\">\n",
       "      <th></th>\n",
       "      <th>Skewness</th>\n",
       "      <th>Kurtosis</th>\n",
       "    </tr>\n",
       "  </thead>\n",
       "  <tbody>\n",
       "    <tr>\n",
       "      <th>age</th>\n",
       "      <td>0.558718</td>\n",
       "      <td>-0.166286</td>\n",
       "    </tr>\n",
       "    <tr>\n",
       "      <th>fnlwgt</th>\n",
       "      <td>0.419184</td>\n",
       "      <td>-0.141071</td>\n",
       "    </tr>\n",
       "    <tr>\n",
       "      <th>hours-per-week</th>\n",
       "      <td>0.227632</td>\n",
       "      <td>2.916055</td>\n",
       "    </tr>\n",
       "    <tr>\n",
       "      <th>capital-gain</th>\n",
       "      <td>0.000000</td>\n",
       "      <td>-3.000000</td>\n",
       "    </tr>\n",
       "    <tr>\n",
       "      <th>capital-loss</th>\n",
       "      <td>0.000000</td>\n",
       "      <td>-3.000000</td>\n",
       "    </tr>\n",
       "    <tr>\n",
       "      <th>education-num</th>\n",
       "      <td>-0.311662</td>\n",
       "      <td>0.623164</td>\n",
       "    </tr>\n",
       "  </tbody>\n",
       "</table>\n",
       "</div>"
      ],
      "text/plain": [
       "                Skewness  Kurtosis\n",
       "age             0.558718 -0.166286\n",
       "fnlwgt          0.419184 -0.141071\n",
       "hours-per-week  0.227632  2.916055\n",
       "capital-gain    0.000000 -3.000000\n",
       "capital-loss    0.000000 -3.000000\n",
       "education-num  -0.311662  0.623164"
      ]
     },
     "execution_count": 403,
     "metadata": {},
     "output_type": "execute_result"
    }
   ],
   "source": [
    "#checking for outliers\n",
    "\n",
    "skewness  = [] ; kurt = []\n",
    "for column in continuous_columns:\n",
    "    skewness.append(skew(train_data[train_data[column].notnull()][column]))\n",
    "    kurt.append(kurtosis(train_data[train_data[column].notnull()][column]))\n",
    "    \n",
    "stats = pd.DataFrame({'Skewness' : skewness, 'Kurtosis' : kurt},index=[col for col in continuous_columns])\n",
    "stats.sort_values(by=['Skewness'], ascending=False)"
   ]
  },
  {
   "cell_type": "markdown",
   "metadata": {},
   "source": [
    "** No significant outlier so we will do a regular normalisation instead of standardisation"
   ]
  },
  {
   "cell_type": "markdown",
   "metadata": {},
   "source": [
    "## Feature Selection"
   ]
  },
  {
   "cell_type": "markdown",
   "metadata": {},
   "source": [
    "** The whole purpose of the feature selection is to improve the accuracy of the model and also to reduce the time cost. There are 2 umbrellas of feature selection : statistical-based and model-based. Statistical-based relies on statistical tests like IQR, chi2/p-values, correlation test,etc... and it is done prior to modeling step.  Model-based consists of preprocessing model which will allow to assess the relevance of each feature before running the definitive model with less feature. Here, we will use statistical-based approach"
   ]
  },
  {
   "cell_type": "code",
   "execution_count": 404,
   "metadata": {},
   "outputs": [],
   "source": [
    "#Function for feature selection of numeric variables\n",
    "#Remove variables with constant variance\n",
    "#Remove variables with Quasi-Constant variance with a fixed threshold\n",
    "#Remove correlated variables\n",
    "\n",
    "def feature_selection_numerical_variables(train_data,qthreshold,corr_threshold,exclude_numerical_cols_list):\n",
    "    num_colums = ['int16', 'int32', 'int64', 'float16', 'float32', 'float64']\n",
    "    numerical_columns = list(train_data.select_dtypes(include=num_colums).columns)\n",
    "    numerical_columns = [column for column in numerical_columns if column not in exclude_numerical_cols_list]\n",
    "    \n",
    "    #remove variables with constant variance\n",
    "    constant_filter = VarianceThreshold(threshold=0)\n",
    "    constant_filter.fit(train_data[numerical_columns])\n",
    "    constant_columns = [column for column in train_data[numerical_columns].columns \n",
    "                    if column not in train_data[numerical_columns].columns[constant_filter.get_support()]]\n",
    "    if len(constant_columns)>0:\n",
    "        train_data.drop(labels=constant_columns, axis=1, inplace=True)\n",
    "\n",
    "    #remove deleted columns from dataframe\n",
    "    numerical_columns = [column for column in numerical_columns if column not in constant_columns]\n",
    "        \n",
    "    #remove variables with qconstant variance\n",
    "    #Remove quasi-constant variables\n",
    "    qconstant_filter = VarianceThreshold(threshold=qthreshold)\n",
    "    qconstant_filter.fit(train_data[numerical_columns])\n",
    "    qconstant_columns = [column for column in train_data[numerical_columns].columns \n",
    "                         if column not in train_data[numerical_columns].columns[qconstant_filter.get_support()]]\n",
    "    if len(qconstant_columns)>0:\n",
    "        train_data.drop(labels=qconstant_columns, axis=1, inplace=True)\n",
    "    \n",
    "    #remove deleted columns from dataframe\n",
    "    numerical_columns = [column for column in numerical_columns if column not in qconstant_columns]\n",
    "    \n",
    "    #remove correlated variables\n",
    "    correlated_features = set()\n",
    "    correlation_matrix = train_data[numerical_columns].corr()\n",
    "    ax = sns.heatmap(\n",
    "    correlation_matrix, annot=True, \n",
    "    vmin=-1, vmax=1, center=0,\n",
    "    cmap=plt.cm.CMRmap_r)\n",
    "    ax.set_xticklabels(\n",
    "        ax.get_xticklabels(),\n",
    "        rotation=45,\n",
    "        horizontalalignment='right');\n",
    "    #print(correlation_matrix)\n",
    "    \n",
    "    for i in range(len(correlation_matrix.columns)):\n",
    "        for j in range(i):\n",
    "            if abs(correlation_matrix.iloc[i, j]) > corr_threshold:\n",
    "                colname = correlation_matrix.columns[i]\n",
    "                colcompared = correlation_matrix.columns[j]\n",
    "                #check if the column compared against is not in the columns excluded list\n",
    "                if colcompared not in correlated_features:\n",
    "                    correlated_features.add(colname)\n",
    "    train_data.drop(labels=correlated_features, axis=1, inplace=True)\n",
    "    \n",
    "    return train_data,constant_columns,qconstant_columns,correlated_features\n",
    "    "
   ]
  },
  {
   "cell_type": "code",
   "execution_count": 405,
   "metadata": {},
   "outputs": [
    {
     "name": "stdout",
     "output_type": "stream",
     "text": [
      "['age', 'fnlwgt', 'education-num', 'capital-gain', 'capital-loss', 'hours-per-week']\n"
     ]
    },
    {
     "data": {
      "image/png": "[encoded data removed]",
      "text/plain": [
       "<Figure size 432x288 with 2 Axes>"
      ]
     },
     "metadata": {
      "needs_background": "light"
     },
     "output_type": "display_data"
    }
   ],
   "source": [
    "train_data,constant_columns,qconstant_columns,correlated_features =feature_selection_numerical_variables(train_data,0.01,0.75,[])"
   ]
  },
  {
   "cell_type": "code",
   "execution_count": 406,
   "metadata": {},
   "outputs": [
    {
     "data": {
      "text/plain": [
       "['capital-gain', 'capital-loss']"
      ]
     },
     "execution_count": 406,
     "metadata": {},
     "output_type": "execute_result"
    }
   ],
   "source": [
    "#  checking for constant columns\n",
    "constant_columns"
   ]
  },
  {
   "cell_type": "code",
   "execution_count": 407,
   "metadata": {},
   "outputs": [],
   "source": [
    "for col in constant_columns:\n",
    "    continuous_columns.remove(col)"
   ]
  },
  {
   "cell_type": "code",
   "execution_count": 408,
   "metadata": {},
   "outputs": [
    {
     "data": {
      "text/plain": [
       "[]"
      ]
     },
     "execution_count": 408,
     "metadata": {},
     "output_type": "execute_result"
    }
   ],
   "source": [
    "# checking quasi-constant values\n",
    "qconstant_columns"
   ]
  },
  {
   "cell_type": "code",
   "execution_count": 409,
   "metadata": {},
   "outputs": [],
   "source": [
    "for col in qconstant_columns:\n",
    "    continuous_columns.remove(col)"
   ]
  },
  {
   "cell_type": "code",
   "execution_count": 410,
   "metadata": {},
   "outputs": [
    {
     "data": {
      "text/plain": [
       "set()"
      ]
     },
     "execution_count": 410,
     "metadata": {},
     "output_type": "execute_result"
    }
   ],
   "source": [
    "# checking for correlated feature\n",
    "correlated_features"
   ]
  },
  {
   "cell_type": "code",
   "execution_count": 411,
   "metadata": {},
   "outputs": [],
   "source": [
    "for col in correlated_features:\n",
    "    continuous_columns.remove(col)"
   ]
  },
  {
   "cell_type": "code",
   "execution_count": 412,
   "metadata": {},
   "outputs": [
    {
     "data": {
      "text/plain": [
       "['age', 'fnlwgt', 'education-num', 'hours-per-week']"
      ]
     },
     "execution_count": 412,
     "metadata": {},
     "output_type": "execute_result"
    }
   ],
   "source": [
    "continuous_columns"
   ]
  },
  {
   "cell_type": "markdown",
   "metadata": {},
   "source": [
    "* **Key takeaways:**\n",
    "* **\n",
    "    * 2 constant variables removed : capital-gain, capital-loss\n",
    "    * No correlated column. Correlation < 0.5\n",
    "    \n",
    "* **   "
   ]
  },
  {
   "cell_type": "code",
   "execution_count": 413,
   "metadata": {},
   "outputs": [
    {
     "data": {
      "text/plain": [
       "LabelEncoder()"
      ]
     },
     "execution_count": 413,
     "metadata": {},
     "output_type": "execute_result"
    },
    {
     "data": {
      "text/plain": [
       "LabelEncoder()"
      ]
     },
     "execution_count": 413,
     "metadata": {},
     "output_type": "execute_result"
    },
    {
     "data": {
      "text/plain": [
       "LabelEncoder()"
      ]
     },
     "execution_count": 413,
     "metadata": {},
     "output_type": "execute_result"
    },
    {
     "data": {
      "text/plain": [
       "LabelEncoder()"
      ]
     },
     "execution_count": 413,
     "metadata": {},
     "output_type": "execute_result"
    },
    {
     "data": {
      "text/plain": [
       "LabelEncoder()"
      ]
     },
     "execution_count": 413,
     "metadata": {},
     "output_type": "execute_result"
    },
    {
     "data": {
      "text/plain": [
       "LabelEncoder()"
      ]
     },
     "execution_count": 413,
     "metadata": {},
     "output_type": "execute_result"
    },
    {
     "data": {
      "text/plain": [
       "LabelEncoder()"
      ]
     },
     "execution_count": 413,
     "metadata": {},
     "output_type": "execute_result"
    },
    {
     "data": {
      "text/plain": [
       "LabelEncoder()"
      ]
     },
     "execution_count": 413,
     "metadata": {},
     "output_type": "execute_result"
    },
    {
     "data": {
      "text/plain": [
       "LabelEncoder()"
      ]
     },
     "execution_count": 413,
     "metadata": {},
     "output_type": "execute_result"
    }
   ],
   "source": [
    "# Label encoding for features \n",
    "# required before chi2 test\n",
    "# save the encoders to disk to be fitted on test data\n",
    "for cf1 in categorical_columns:\n",
    "    le = preprocessing.LabelEncoder()\n",
    "    le.fit(train_data[cf1].unique())\n",
    "    filename = cf1+\".sav\"\n",
    "    pickle.dump(le, open(filename, 'wb'))\n",
    "    train_data[cf1] = le.transform(train_data[cf1])\n",
    "\n",
    "# Encode the class\n",
    "le = preprocessing.LabelEncoder()\n",
    "le.fit(train_data['class'].unique())\n",
    "filename = \"class.sav\"\n",
    "pickle.dump(le, open(filename, 'wb'))\n",
    "train_data['class'] = le.transform(train_data['class'])"
   ]
  },
  {
   "cell_type": "code",
   "execution_count": 414,
   "metadata": {},
   "outputs": [
    {
     "data": {
      "text/html": [
       "<div>\n",
       "<style scoped>\n",
       "    .dataframe tbody tr th:only-of-type {\n",
       "        vertical-align: middle;\n",
       "    }\n",
       "\n",
       "    .dataframe tbody tr th {\n",
       "        vertical-align: top;\n",
       "    }\n",
       "\n",
       "    .dataframe thead th {\n",
       "        text-align: right;\n",
       "    }\n",
       "</style>\n",
       "<table border=\"1\" class=\"dataframe\">\n",
       "  <thead>\n",
       "    <tr style=\"text-align: right;\">\n",
       "      <th></th>\n",
       "      <th>Column_Name</th>\n",
       "      <th>Count</th>\n",
       "    </tr>\n",
       "  </thead>\n",
       "  <tbody>\n",
       "    <tr>\n",
       "      <th>0</th>\n",
       "      <td>workclass</td>\n",
       "      <td>8</td>\n",
       "    </tr>\n",
       "    <tr>\n",
       "      <th>1</th>\n",
       "      <td>education</td>\n",
       "      <td>16</td>\n",
       "    </tr>\n",
       "    <tr>\n",
       "      <th>2</th>\n",
       "      <td>marital-status</td>\n",
       "      <td>7</td>\n",
       "    </tr>\n",
       "    <tr>\n",
       "      <th>3</th>\n",
       "      <td>occupation</td>\n",
       "      <td>14</td>\n",
       "    </tr>\n",
       "    <tr>\n",
       "      <th>4</th>\n",
       "      <td>relationship</td>\n",
       "      <td>6</td>\n",
       "    </tr>\n",
       "    <tr>\n",
       "      <th>5</th>\n",
       "      <td>race</td>\n",
       "      <td>5</td>\n",
       "    </tr>\n",
       "    <tr>\n",
       "      <th>6</th>\n",
       "      <td>sex</td>\n",
       "      <td>2</td>\n",
       "    </tr>\n",
       "    <tr>\n",
       "      <th>7</th>\n",
       "      <td>native-country</td>\n",
       "      <td>41</td>\n",
       "    </tr>\n",
       "  </tbody>\n",
       "</table>\n",
       "</div>"
      ],
      "text/plain": [
       "      Column_Name Count\n",
       "0       workclass     8\n",
       "1       education    16\n",
       "2  marital-status     7\n",
       "3      occupation    14\n",
       "4    relationship     6\n",
       "5            race     5\n",
       "6             sex     2\n",
       "7  native-country    41"
      ]
     },
     "execution_count": 414,
     "metadata": {},
     "output_type": "execute_result"
    }
   ],
   "source": [
    "#snippet to calculate the unique values with a categorical columns\n",
    "df = pd.DataFrame(columns=[\"Column_Name\",\"Count\"])\n",
    "for cat in categorical_columns:\n",
    "    unique_value_count = len(train_data[cat].unique())\n",
    "    df = df.append({'Column_Name': cat, \"Count\":int(unique_value_count)}, ignore_index=True)\n",
    "columns_unique_value = np.array(df.Count.value_counts().index)\n",
    "\n",
    "df"
   ]
  },
  {
   "cell_type": "code",
   "execution_count": 415,
   "metadata": {},
   "outputs": [],
   "source": [
    "#snippet to identify the dependent/correlated categorical variables and drop them\n",
    "columns_to_drop_cat = set()\n",
    "correlated_columns = dict()\n",
    "df = df[df['Count']>1]\n",
    "for column_to_compare in df['Column_Name']:\n",
    "    if column_to_compare not in columns_to_drop_cat:\n",
    "        columns_compare_against = df[df['Column_Name'] != column_to_compare]['Column_Name']\n",
    "        chi_scores = chi2(train_data[columns_compare_against],train_data[column_to_compare])\n",
    "        # if p-values <= 0.05 then is it highly correlated so must be removed out\n",
    "        columns_to_be_dropped = [i for i in range(len(columns_compare_against)) if chi_scores[1][i]<=0.05]\n",
    "        columns_to_drop_array = np.array(columns_compare_against)[columns_to_be_dropped]\n",
    "        correlated_columns[column_to_compare]=columns_to_drop_array\n",
    "        columns_to_drop_cat.update(columns_to_drop_array)"
   ]
  },
  {
   "cell_type": "code",
   "execution_count": 416,
   "metadata": {},
   "outputs": [
    {
     "data": {
      "text/plain": [
       "{'workclass': array(['education', 'marital-status', 'occupation', 'relationship',\n",
       "        'race', 'sex', 'native-country'], dtype=object)}"
      ]
     },
     "execution_count": 416,
     "metadata": {},
     "output_type": "execute_result"
    }
   ],
   "source": [
    "correlated_columns"
   ]
  },
  {
   "cell_type": "code",
   "execution_count": 417,
   "metadata": {},
   "outputs": [
    {
     "data": {
      "text/plain": [
       "{'education',\n",
       " 'marital-status',\n",
       " 'native-country',\n",
       " 'occupation',\n",
       " 'race',\n",
       " 'relationship',\n",
       " 'sex'}"
      ]
     },
     "execution_count": 417,
     "metadata": {},
     "output_type": "execute_result"
    }
   ],
   "source": [
    "columns_to_drop_cat"
   ]
  },
  {
   "cell_type": "code",
   "execution_count": 418,
   "metadata": {},
   "outputs": [],
   "source": [
    "for col in columns_to_drop_cat:\n",
    "    categorical_columns.remove(col)"
   ]
  },
  {
   "cell_type": "code",
   "execution_count": 419,
   "metadata": {},
   "outputs": [
    {
     "data": {
      "text/plain": [
       "['workclass']"
      ]
     },
     "execution_count": 419,
     "metadata": {},
     "output_type": "execute_result"
    }
   ],
   "source": [
    "#left  categorical column\n",
    "categorical_columns"
   ]
  },
  {
   "cell_type": "code",
   "execution_count": 420,
   "metadata": {},
   "outputs": [],
   "source": [
    "train_data = train_data.drop(columns_to_drop_cat, axis=1)"
   ]
  },
  {
   "cell_type": "markdown",
   "metadata": {},
   "source": [
    "## Feature Construction"
   ]
  },
  {
   "cell_type": "code",
   "execution_count": 421,
   "metadata": {},
   "outputs": [],
   "source": [
    "y = train_data['class']\n",
    "X = train_data.drop('class', axis=1)"
   ]
  },
  {
   "cell_type": "code",
   "execution_count": 422,
   "metadata": {},
   "outputs": [
    {
     "data": {
      "text/plain": [
       "((6512, 5), (26049, 5))"
      ]
     },
     "execution_count": 422,
     "metadata": {},
     "output_type": "execute_result"
    }
   ],
   "source": [
    "# Splitting the dataset into train and test validation\n",
    "df_test, df_train, y_test, y_train = train_test_split(X, y, test_size = 0.8, random_state=42, stratify = y)\n",
    "df_test.shape, df_train.shape"
   ]
  },
  {
   "cell_type": "code",
   "execution_count": 424,
   "metadata": {},
   "outputs": [
    {
     "name": "stdout",
     "output_type": "stream",
     "text": [
      "Event rate in the training dataset :  0.24081538638719335\n",
      "\n",
      "Event rate in the test dataset :  0.24078624078624078\n",
      "\n",
      "Event rate in the entire dataset :  0.2408095574460244\n"
     ]
    }
   ],
   "source": [
    "# check the proportion of the train vs test\n",
    "print('Event rate in the training dataset : ',np.mean(y_train))\n",
    "print()\n",
    "print('Event rate in the test dataset : ',np.mean(y_test))\n",
    "print()\n",
    "print('Event rate in the entire dataset : ',np.mean(y))"
   ]
  },
  {
   "cell_type": "markdown",
   "metadata": {},
   "source": [
    "* ratio is kept while splitting to test and train"
   ]
  },
  {
   "cell_type": "markdown",
   "metadata": {},
   "source": [
    "#### Addressing class imbalance with SMOTE "
   ]
  },
  {
   "cell_type": "markdown",
   "metadata": {},
   "source": [
    "* SMOTE : Synthetic Minority OverSampling Technique"
   ]
  },
  {
   "cell_type": "code",
   "execution_count": 425,
   "metadata": {},
   "outputs": [
    {
     "data": {
      "text/plain": [
       "((26049, 5), 24)"
      ]
     },
     "execution_count": 425,
     "metadata": {},
     "output_type": "execute_result"
    }
   ],
   "source": [
    "df_train.shape, int(sum(y_train)/len(y_train)*100)"
   ]
  },
  {
   "cell_type": "code",
   "execution_count": 426,
   "metadata": {},
   "outputs": [],
   "source": [
    "smote = SMOTE(sampling_strategy = 'minority',k_neighbors = 2,random_state=42)\n",
    "\n",
    "X_train_smote,y_train_smote=smote.fit_resample(df_train,y_train)"
   ]
  },
  {
   "cell_type": "code",
   "execution_count": 427,
   "metadata": {},
   "outputs": [
    {
     "data": {
      "text/plain": [
       "((39552, 5), 50)"
      ]
     },
     "execution_count": 427,
     "metadata": {},
     "output_type": "execute_result"
    }
   ],
   "source": [
    "X_train_smote.shape, int(sum(y_train_smote)/len(y_train_smote)*100)"
   ]
  },
  {
   "cell_type": "markdown",
   "metadata": {},
   "source": [
    "#### Normalisation"
   ]
  },
  {
   "cell_type": "code",
   "execution_count": 430,
   "metadata": {},
   "outputs": [],
   "source": [
    "norm = MinMaxScaler().fit(X_train_smote)\n",
    "X_train_smote_scaled = norm.transform(X_train_smote)\n",
    "X_test_scaled = norm.transform(df_test)"
   ]
  },
  {
   "cell_type": "markdown",
   "metadata": {},
   "source": [
    "## Modeling"
   ]
  },
  {
   "cell_type": "markdown",
   "metadata": {},
   "source": [
    "#### Neural Network"
   ]
  },
  {
   "cell_type": "code",
   "execution_count": 432,
   "metadata": {},
   "outputs": [],
   "source": [
    "# custom metrics\n",
    "def precision(y_true, y_pred): \n",
    "    true_positives = K.sum(K.round(K.clip(y_true * y_pred, 0, 1)))\n",
    "    predicted_positives = K.sum(K.round(K.clip(y_pred, 0, 1)))\n",
    "    precision = true_positives / (predicted_positives + K.epsilon())\n",
    "    return precision\n",
    "def recall(y_true, y_pred): \n",
    "    true_positives = K.sum(K.round(K.clip(y_true * y_pred, 0, 1)))\n",
    "    possible_positives = K.sum(K.round(K.clip(y_true, 0, 1)))\n",
    "    recall = true_positives / (possible_positives + K.epsilon())\n",
    "    return recall"
   ]
  },
  {
   "cell_type": "code",
   "execution_count": 433,
   "metadata": {},
   "outputs": [],
   "source": [
    "def fit_model(data, labels, test_data,test_label, epochs, batch_size):\n",
    "    \n",
    "    n_inputs = data.shape[1]\n",
    "    model    = keras.Sequential()\n",
    "    model.add(layers.Dense(16, activation ='relu', input_shape =(n_inputs, )))\n",
    "    model.add(layers.Dropout(0.25))\n",
    "    model.add(layers.Dense(32,activation = 'relu'))\n",
    "    model.add(layers.Dropout(0.25))\n",
    "    model.add(layers.Dense(1,activation ='sigmoid'))\n",
    "    \n",
    "    model_file_name = 'MLP_predict_default_case_study.hdf5'\n",
    "    ckpt = ModelCheckpoint(model_file_name, monitor='val_precision',\n",
    "                           save_best_only=True, mode='max')\n",
    "    early = EarlyStopping(monitor=\"val_recall\", mode=\"max\", patience=15)\n",
    "\n",
    "    model.compile(optimizer = 'adam',\n",
    "                 loss= 'binary_crossentropy',\n",
    "                 metrics = [precision,recall])\n",
    "    \n",
    "    history = model.fit(data,\n",
    "                       labels,\n",
    "                       epochs=epochs,\n",
    "                       batch_size=batch_size,\n",
    "                       callbacks=[ckpt, early],\n",
    "                       verbose = 0,\n",
    "                       validation_data=(test_data,test_label))\n",
    "    \n",
    "    return model"
   ]
  },
  {
   "cell_type": "code",
   "execution_count": 434,
   "metadata": {},
   "outputs": [],
   "source": [
    "def compute_precisions_thresolds(data, labels, test_data, test_label, epochs, batch_size):\n",
    "    trained_model = fit_model(data, labels, test_data, test_label, epochs=epochs, batch_size=batch_size)\n",
    "    y_test_pred   = trained_model.predict(test_data)\n",
    "    \n",
    "    P_weighted = [] ; P_macro = [] ; P_micro = [];  R_macro = [] ;R_micro = []; R_weighted = [] ; F1_weighted = [] ; F1_macro = [] ;F1_micro = []; cut_off = [] ; metrics = pd.DataFrame()\n",
    "    threshold_list = [0.25,0.3,0.4,0.5,0.6,0.7,0.8,0.9,0.95,0.96]\n",
    "    for thres in threshold_list:\n",
    "        cut_off.append(thres)\n",
    "        y_test_pred_new = [1 if el>thres else 0 for el in y_test_pred]\n",
    "        \n",
    "        \n",
    "        prec_weighted         = round(precision_score(test_label, y_test_pred_new, pos_label=1, average='weighted'),2)\n",
    "        P_weighted.append(prec_weighted)        \n",
    "        prec_macro            = round(precision_score(test_label, y_test_pred_new, pos_label=1, average='macro'),2)\n",
    "        P_macro.append(prec_macro)\n",
    "        prec_micro            = round(precision_score(test_label, y_test_pred_new, pos_label=1, average='micro'),2)\n",
    "        P_micro.append(prec_micro)\n",
    "        \n",
    "        rec_weighted          = round(recall_score(test_label, y_test_pred_new, pos_label=1,average='weighted'),2)\n",
    "        R_weighted.append(rec_weighted)        \n",
    "        rec_macro             = round(recall_score(test_label, y_test_pred_new, pos_label=1,average='macro'),2)\n",
    "        R_macro.append(rec_macro)\n",
    "        rec_micro             = round(recall_score(test_label, y_test_pred_new, pos_label=1,average='micro'),2)\n",
    "        R_micro.append(rec_micro)\n",
    "        \n",
    "        f1_weighted           = round(f1_score(test_label, y_test_pred_new, average='weighted'),2)\n",
    "        F1_weighted.append(f1_weighted)        \n",
    "        f1_macro              = round(f1_score(test_label, y_test_pred_new, average='macro'),2)\n",
    "        F1_macro.append(f1_macro)\n",
    "        f1_micro              = round(f1_score(test_label, y_test_pred_new, average='micro'),2)\n",
    "        F1_micro.append(f1_micro)\n",
    "        \n",
    "    metrics = pd.DataFrame({'Threshold' : cut_off, 'Precision weighted' : P_weighted , 'Precision Macro' : P_macro, 'Precision Micro' : P_micro, 'Recall weighted' : R_weighted , 'Recall Macro' : R_macro, 'Recall Micro' : R_micro, 'F1 Score weighted' : F1_weighted,'F1 Score Macro' : F1_macro, 'F1 Score Micro' : F1_micro})\n",
    "    return metrics.sort_values(by=['Threshold'], ascending=False)"
   ]
  },
  {
   "cell_type": "code",
   "execution_count": 435,
   "metadata": {},
   "outputs": [],
   "source": [
    "metrics = compute_precisions_thresolds(df_train, y_train, df_test, y_test,epochs=15, batch_size=128)"
   ]
  },
  {
   "cell_type": "code",
   "execution_count": 436,
   "metadata": {},
   "outputs": [
    {
     "data": {
      "text/html": [
       "<div>\n",
       "<style scoped>\n",
       "    .dataframe tbody tr th:only-of-type {\n",
       "        vertical-align: middle;\n",
       "    }\n",
       "\n",
       "    .dataframe tbody tr th {\n",
       "        vertical-align: top;\n",
       "    }\n",
       "\n",
       "    .dataframe thead th {\n",
       "        text-align: right;\n",
       "    }\n",
       "</style>\n",
       "<table border=\"1\" class=\"dataframe\">\n",
       "  <thead>\n",
       "    <tr style=\"text-align: right;\">\n",
       "      <th></th>\n",
       "      <th>Threshold</th>\n",
       "      <th>Precision weighted</th>\n",
       "      <th>Precision Macro</th>\n",
       "      <th>Precision Micro</th>\n",
       "      <th>Recall weighted</th>\n",
       "      <th>Recall Macro</th>\n",
       "      <th>Recall Micro</th>\n",
       "      <th>F1 Score weighted</th>\n",
       "      <th>F1 Score Macro</th>\n",
       "      <th>F1 Score Micro</th>\n",
       "    </tr>\n",
       "  </thead>\n",
       "  <tbody>\n",
       "    <tr>\n",
       "      <th>9</th>\n",
       "      <td>0.96</td>\n",
       "      <td>0.58</td>\n",
       "      <td>0.38</td>\n",
       "      <td>0.76</td>\n",
       "      <td>0.76</td>\n",
       "      <td>0.5</td>\n",
       "      <td>0.76</td>\n",
       "      <td>0.66</td>\n",
       "      <td>0.43</td>\n",
       "      <td>0.76</td>\n",
       "    </tr>\n",
       "    <tr>\n",
       "      <th>8</th>\n",
       "      <td>0.95</td>\n",
       "      <td>0.58</td>\n",
       "      <td>0.38</td>\n",
       "      <td>0.76</td>\n",
       "      <td>0.76</td>\n",
       "      <td>0.5</td>\n",
       "      <td>0.76</td>\n",
       "      <td>0.66</td>\n",
       "      <td>0.43</td>\n",
       "      <td>0.76</td>\n",
       "    </tr>\n",
       "    <tr>\n",
       "      <th>7</th>\n",
       "      <td>0.90</td>\n",
       "      <td>0.58</td>\n",
       "      <td>0.38</td>\n",
       "      <td>0.76</td>\n",
       "      <td>0.76</td>\n",
       "      <td>0.5</td>\n",
       "      <td>0.76</td>\n",
       "      <td>0.66</td>\n",
       "      <td>0.43</td>\n",
       "      <td>0.76</td>\n",
       "    </tr>\n",
       "    <tr>\n",
       "      <th>6</th>\n",
       "      <td>0.80</td>\n",
       "      <td>0.58</td>\n",
       "      <td>0.38</td>\n",
       "      <td>0.76</td>\n",
       "      <td>0.76</td>\n",
       "      <td>0.5</td>\n",
       "      <td>0.76</td>\n",
       "      <td>0.66</td>\n",
       "      <td>0.43</td>\n",
       "      <td>0.76</td>\n",
       "    </tr>\n",
       "    <tr>\n",
       "      <th>5</th>\n",
       "      <td>0.70</td>\n",
       "      <td>0.58</td>\n",
       "      <td>0.38</td>\n",
       "      <td>0.76</td>\n",
       "      <td>0.76</td>\n",
       "      <td>0.5</td>\n",
       "      <td>0.76</td>\n",
       "      <td>0.66</td>\n",
       "      <td>0.43</td>\n",
       "      <td>0.76</td>\n",
       "    </tr>\n",
       "    <tr>\n",
       "      <th>4</th>\n",
       "      <td>0.60</td>\n",
       "      <td>0.58</td>\n",
       "      <td>0.38</td>\n",
       "      <td>0.76</td>\n",
       "      <td>0.76</td>\n",
       "      <td>0.5</td>\n",
       "      <td>0.76</td>\n",
       "      <td>0.66</td>\n",
       "      <td>0.43</td>\n",
       "      <td>0.76</td>\n",
       "    </tr>\n",
       "    <tr>\n",
       "      <th>3</th>\n",
       "      <td>0.50</td>\n",
       "      <td>0.58</td>\n",
       "      <td>0.38</td>\n",
       "      <td>0.76</td>\n",
       "      <td>0.76</td>\n",
       "      <td>0.5</td>\n",
       "      <td>0.76</td>\n",
       "      <td>0.66</td>\n",
       "      <td>0.43</td>\n",
       "      <td>0.76</td>\n",
       "    </tr>\n",
       "    <tr>\n",
       "      <th>2</th>\n",
       "      <td>0.40</td>\n",
       "      <td>0.58</td>\n",
       "      <td>0.38</td>\n",
       "      <td>0.76</td>\n",
       "      <td>0.76</td>\n",
       "      <td>0.5</td>\n",
       "      <td>0.76</td>\n",
       "      <td>0.66</td>\n",
       "      <td>0.43</td>\n",
       "      <td>0.76</td>\n",
       "    </tr>\n",
       "    <tr>\n",
       "      <th>1</th>\n",
       "      <td>0.30</td>\n",
       "      <td>0.64</td>\n",
       "      <td>0.51</td>\n",
       "      <td>0.76</td>\n",
       "      <td>0.76</td>\n",
       "      <td>0.5</td>\n",
       "      <td>0.76</td>\n",
       "      <td>0.66</td>\n",
       "      <td>0.44</td>\n",
       "      <td>0.76</td>\n",
       "    </tr>\n",
       "    <tr>\n",
       "      <th>0</th>\n",
       "      <td>0.25</td>\n",
       "      <td>0.63</td>\n",
       "      <td>0.50</td>\n",
       "      <td>0.74</td>\n",
       "      <td>0.74</td>\n",
       "      <td>0.5</td>\n",
       "      <td>0.74</td>\n",
       "      <td>0.66</td>\n",
       "      <td>0.46</td>\n",
       "      <td>0.74</td>\n",
       "    </tr>\n",
       "  </tbody>\n",
       "</table>\n",
       "</div>"
      ],
      "text/plain": [
       "   Threshold  Precision weighted  Precision Macro  Precision Micro  \\\n",
       "9       0.96                0.58             0.38             0.76   \n",
       "8       0.95                0.58             0.38             0.76   \n",
       "7       0.90                0.58             0.38             0.76   \n",
       "6       0.80                0.58             0.38             0.76   \n",
       "5       0.70                0.58             0.38             0.76   \n",
       "4       0.60                0.58             0.38             0.76   \n",
       "3       0.50                0.58             0.38             0.76   \n",
       "2       0.40                0.58             0.38             0.76   \n",
       "1       0.30                0.64             0.51             0.76   \n",
       "0       0.25                0.63             0.50             0.74   \n",
       "\n",
       "   Recall weighted  Recall Macro  Recall Micro  F1 Score weighted  \\\n",
       "9             0.76           0.5          0.76               0.66   \n",
       "8             0.76           0.5          0.76               0.66   \n",
       "7             0.76           0.5          0.76               0.66   \n",
       "6             0.76           0.5          0.76               0.66   \n",
       "5             0.76           0.5          0.76               0.66   \n",
       "4             0.76           0.5          0.76               0.66   \n",
       "3             0.76           0.5          0.76               0.66   \n",
       "2             0.76           0.5          0.76               0.66   \n",
       "1             0.76           0.5          0.76               0.66   \n",
       "0             0.74           0.5          0.74               0.66   \n",
       "\n",
       "   F1 Score Macro  F1 Score Micro  \n",
       "9            0.43            0.76  \n",
       "8            0.43            0.76  \n",
       "7            0.43            0.76  \n",
       "6            0.43            0.76  \n",
       "5            0.43            0.76  \n",
       "4            0.43            0.76  \n",
       "3            0.43            0.76  \n",
       "2            0.43            0.76  \n",
       "1            0.44            0.76  \n",
       "0            0.46            0.74  "
      ]
     },
     "execution_count": 436,
     "metadata": {},
     "output_type": "execute_result"
    }
   ],
   "source": [
    "metrics"
   ]
  },
  {
   "cell_type": "code",
   "execution_count": 437,
   "metadata": {},
   "outputs": [],
   "source": [
    "smote_metrics = compute_precisions_thresolds(X_train_smote, y_train_smote, df_test, y_test,epochs=15, batch_size=128)"
   ]
  },
  {
   "cell_type": "code",
   "execution_count": 438,
   "metadata": {},
   "outputs": [
    {
     "data": {
      "text/html": [
       "<div>\n",
       "<style scoped>\n",
       "    .dataframe tbody tr th:only-of-type {\n",
       "        vertical-align: middle;\n",
       "    }\n",
       "\n",
       "    .dataframe tbody tr th {\n",
       "        vertical-align: top;\n",
       "    }\n",
       "\n",
       "    .dataframe thead th {\n",
       "        text-align: right;\n",
       "    }\n",
       "</style>\n",
       "<table border=\"1\" class=\"dataframe\">\n",
       "  <thead>\n",
       "    <tr style=\"text-align: right;\">\n",
       "      <th></th>\n",
       "      <th>Threshold</th>\n",
       "      <th>Precision weighted</th>\n",
       "      <th>Precision Macro</th>\n",
       "      <th>Precision Micro</th>\n",
       "      <th>Recall weighted</th>\n",
       "      <th>Recall Macro</th>\n",
       "      <th>Recall Micro</th>\n",
       "      <th>F1 Score weighted</th>\n",
       "      <th>F1 Score Macro</th>\n",
       "      <th>F1 Score Micro</th>\n",
       "    </tr>\n",
       "  </thead>\n",
       "  <tbody>\n",
       "    <tr>\n",
       "      <th>9</th>\n",
       "      <td>0.96</td>\n",
       "      <td>0.58</td>\n",
       "      <td>0.38</td>\n",
       "      <td>0.76</td>\n",
       "      <td>0.76</td>\n",
       "      <td>0.5</td>\n",
       "      <td>0.76</td>\n",
       "      <td>0.66</td>\n",
       "      <td>0.43</td>\n",
       "      <td>0.76</td>\n",
       "    </tr>\n",
       "    <tr>\n",
       "      <th>8</th>\n",
       "      <td>0.95</td>\n",
       "      <td>0.58</td>\n",
       "      <td>0.38</td>\n",
       "      <td>0.76</td>\n",
       "      <td>0.76</td>\n",
       "      <td>0.5</td>\n",
       "      <td>0.76</td>\n",
       "      <td>0.66</td>\n",
       "      <td>0.43</td>\n",
       "      <td>0.76</td>\n",
       "    </tr>\n",
       "    <tr>\n",
       "      <th>7</th>\n",
       "      <td>0.90</td>\n",
       "      <td>0.64</td>\n",
       "      <td>0.52</td>\n",
       "      <td>0.75</td>\n",
       "      <td>0.75</td>\n",
       "      <td>0.5</td>\n",
       "      <td>0.75</td>\n",
       "      <td>0.66</td>\n",
       "      <td>0.45</td>\n",
       "      <td>0.75</td>\n",
       "    </tr>\n",
       "    <tr>\n",
       "      <th>6</th>\n",
       "      <td>0.80</td>\n",
       "      <td>0.63</td>\n",
       "      <td>0.50</td>\n",
       "      <td>0.65</td>\n",
       "      <td>0.65</td>\n",
       "      <td>0.5</td>\n",
       "      <td>0.65</td>\n",
       "      <td>0.64</td>\n",
       "      <td>0.50</td>\n",
       "      <td>0.65</td>\n",
       "    </tr>\n",
       "    <tr>\n",
       "      <th>5</th>\n",
       "      <td>0.70</td>\n",
       "      <td>0.64</td>\n",
       "      <td>0.50</td>\n",
       "      <td>0.42</td>\n",
       "      <td>0.42</td>\n",
       "      <td>0.5</td>\n",
       "      <td>0.42</td>\n",
       "      <td>0.45</td>\n",
       "      <td>0.42</td>\n",
       "      <td>0.42</td>\n",
       "    </tr>\n",
       "    <tr>\n",
       "      <th>4</th>\n",
       "      <td>0.60</td>\n",
       "      <td>0.64</td>\n",
       "      <td>0.51</td>\n",
       "      <td>0.30</td>\n",
       "      <td>0.30</td>\n",
       "      <td>0.5</td>\n",
       "      <td>0.30</td>\n",
       "      <td>0.23</td>\n",
       "      <td>0.28</td>\n",
       "      <td>0.30</td>\n",
       "    </tr>\n",
       "    <tr>\n",
       "      <th>3</th>\n",
       "      <td>0.50</td>\n",
       "      <td>0.06</td>\n",
       "      <td>0.12</td>\n",
       "      <td>0.24</td>\n",
       "      <td>0.24</td>\n",
       "      <td>0.5</td>\n",
       "      <td>0.24</td>\n",
       "      <td>0.09</td>\n",
       "      <td>0.19</td>\n",
       "      <td>0.24</td>\n",
       "    </tr>\n",
       "    <tr>\n",
       "      <th>2</th>\n",
       "      <td>0.40</td>\n",
       "      <td>0.06</td>\n",
       "      <td>0.12</td>\n",
       "      <td>0.24</td>\n",
       "      <td>0.24</td>\n",
       "      <td>0.5</td>\n",
       "      <td>0.24</td>\n",
       "      <td>0.09</td>\n",
       "      <td>0.19</td>\n",
       "      <td>0.24</td>\n",
       "    </tr>\n",
       "    <tr>\n",
       "      <th>1</th>\n",
       "      <td>0.30</td>\n",
       "      <td>0.06</td>\n",
       "      <td>0.12</td>\n",
       "      <td>0.24</td>\n",
       "      <td>0.24</td>\n",
       "      <td>0.5</td>\n",
       "      <td>0.24</td>\n",
       "      <td>0.09</td>\n",
       "      <td>0.19</td>\n",
       "      <td>0.24</td>\n",
       "    </tr>\n",
       "    <tr>\n",
       "      <th>0</th>\n",
       "      <td>0.25</td>\n",
       "      <td>0.06</td>\n",
       "      <td>0.12</td>\n",
       "      <td>0.24</td>\n",
       "      <td>0.24</td>\n",
       "      <td>0.5</td>\n",
       "      <td>0.24</td>\n",
       "      <td>0.09</td>\n",
       "      <td>0.19</td>\n",
       "      <td>0.24</td>\n",
       "    </tr>\n",
       "  </tbody>\n",
       "</table>\n",
       "</div>"
      ],
      "text/plain": [
       "   Threshold  Precision weighted  Precision Macro  Precision Micro  \\\n",
       "9       0.96                0.58             0.38             0.76   \n",
       "8       0.95                0.58             0.38             0.76   \n",
       "7       0.90                0.64             0.52             0.75   \n",
       "6       0.80                0.63             0.50             0.65   \n",
       "5       0.70                0.64             0.50             0.42   \n",
       "4       0.60                0.64             0.51             0.30   \n",
       "3       0.50                0.06             0.12             0.24   \n",
       "2       0.40                0.06             0.12             0.24   \n",
       "1       0.30                0.06             0.12             0.24   \n",
       "0       0.25                0.06             0.12             0.24   \n",
       "\n",
       "   Recall weighted  Recall Macro  Recall Micro  F1 Score weighted  \\\n",
       "9             0.76           0.5          0.76               0.66   \n",
       "8             0.76           0.5          0.76               0.66   \n",
       "7             0.75           0.5          0.75               0.66   \n",
       "6             0.65           0.5          0.65               0.64   \n",
       "5             0.42           0.5          0.42               0.45   \n",
       "4             0.30           0.5          0.30               0.23   \n",
       "3             0.24           0.5          0.24               0.09   \n",
       "2             0.24           0.5          0.24               0.09   \n",
       "1             0.24           0.5          0.24               0.09   \n",
       "0             0.24           0.5          0.24               0.09   \n",
       "\n",
       "   F1 Score Macro  F1 Score Micro  \n",
       "9            0.43            0.76  \n",
       "8            0.43            0.76  \n",
       "7            0.45            0.75  \n",
       "6            0.50            0.65  \n",
       "5            0.42            0.42  \n",
       "4            0.28            0.30  \n",
       "3            0.19            0.24  \n",
       "2            0.19            0.24  \n",
       "1            0.19            0.24  \n",
       "0            0.19            0.24  "
      ]
     },
     "execution_count": 438,
     "metadata": {},
     "output_type": "execute_result"
    }
   ],
   "source": [
    "smote_metrics"
   ]
  },
  {
   "cell_type": "code",
   "execution_count": 439,
   "metadata": {},
   "outputs": [
    {
     "data": {
      "text/html": [
       "<div>\n",
       "<style scoped>\n",
       "    .dataframe tbody tr th:only-of-type {\n",
       "        vertical-align: middle;\n",
       "    }\n",
       "\n",
       "    .dataframe tbody tr th {\n",
       "        vertical-align: top;\n",
       "    }\n",
       "\n",
       "    .dataframe thead th {\n",
       "        text-align: right;\n",
       "    }\n",
       "</style>\n",
       "<table border=\"1\" class=\"dataframe\">\n",
       "  <thead>\n",
       "    <tr style=\"text-align: right;\">\n",
       "      <th></th>\n",
       "      <th>Threshold</th>\n",
       "      <th>Precision weighted</th>\n",
       "      <th>Precision Macro</th>\n",
       "      <th>Precision Micro</th>\n",
       "      <th>Recall weighted</th>\n",
       "      <th>Recall Macro</th>\n",
       "      <th>Recall Micro</th>\n",
       "      <th>F1 Score weighted</th>\n",
       "      <th>F1 Score Macro</th>\n",
       "      <th>F1 Score Micro</th>\n",
       "    </tr>\n",
       "  </thead>\n",
       "  <tbody>\n",
       "    <tr>\n",
       "      <th>9</th>\n",
       "      <td>0.96</td>\n",
       "      <td>0.58</td>\n",
       "      <td>0.38</td>\n",
       "      <td>0.76</td>\n",
       "      <td>0.76</td>\n",
       "      <td>0.50</td>\n",
       "      <td>0.76</td>\n",
       "      <td>0.66</td>\n",
       "      <td>0.43</td>\n",
       "      <td>0.76</td>\n",
       "    </tr>\n",
       "    <tr>\n",
       "      <th>8</th>\n",
       "      <td>0.95</td>\n",
       "      <td>0.58</td>\n",
       "      <td>0.38</td>\n",
       "      <td>0.76</td>\n",
       "      <td>0.76</td>\n",
       "      <td>0.50</td>\n",
       "      <td>0.76</td>\n",
       "      <td>0.66</td>\n",
       "      <td>0.43</td>\n",
       "      <td>0.76</td>\n",
       "    </tr>\n",
       "    <tr>\n",
       "      <th>7</th>\n",
       "      <td>0.90</td>\n",
       "      <td>0.58</td>\n",
       "      <td>0.38</td>\n",
       "      <td>0.76</td>\n",
       "      <td>0.76</td>\n",
       "      <td>0.50</td>\n",
       "      <td>0.76</td>\n",
       "      <td>0.66</td>\n",
       "      <td>0.43</td>\n",
       "      <td>0.76</td>\n",
       "    </tr>\n",
       "    <tr>\n",
       "      <th>6</th>\n",
       "      <td>0.80</td>\n",
       "      <td>0.77</td>\n",
       "      <td>0.75</td>\n",
       "      <td>0.78</td>\n",
       "      <td>0.78</td>\n",
       "      <td>0.55</td>\n",
       "      <td>0.78</td>\n",
       "      <td>0.71</td>\n",
       "      <td>0.54</td>\n",
       "      <td>0.78</td>\n",
       "    </tr>\n",
       "    <tr>\n",
       "      <th>5</th>\n",
       "      <td>0.70</td>\n",
       "      <td>0.77</td>\n",
       "      <td>0.70</td>\n",
       "      <td>0.79</td>\n",
       "      <td>0.79</td>\n",
       "      <td>0.67</td>\n",
       "      <td>0.79</td>\n",
       "      <td>0.78</td>\n",
       "      <td>0.68</td>\n",
       "      <td>0.79</td>\n",
       "    </tr>\n",
       "    <tr>\n",
       "      <th>4</th>\n",
       "      <td>0.60</td>\n",
       "      <td>0.78</td>\n",
       "      <td>0.69</td>\n",
       "      <td>0.76</td>\n",
       "      <td>0.76</td>\n",
       "      <td>0.70</td>\n",
       "      <td>0.76</td>\n",
       "      <td>0.77</td>\n",
       "      <td>0.69</td>\n",
       "      <td>0.76</td>\n",
       "    </tr>\n",
       "    <tr>\n",
       "      <th>3</th>\n",
       "      <td>0.50</td>\n",
       "      <td>0.78</td>\n",
       "      <td>0.67</td>\n",
       "      <td>0.72</td>\n",
       "      <td>0.72</td>\n",
       "      <td>0.72</td>\n",
       "      <td>0.72</td>\n",
       "      <td>0.74</td>\n",
       "      <td>0.68</td>\n",
       "      <td>0.72</td>\n",
       "    </tr>\n",
       "    <tr>\n",
       "      <th>2</th>\n",
       "      <td>0.40</td>\n",
       "      <td>0.79</td>\n",
       "      <td>0.65</td>\n",
       "      <td>0.65</td>\n",
       "      <td>0.65</td>\n",
       "      <td>0.71</td>\n",
       "      <td>0.65</td>\n",
       "      <td>0.68</td>\n",
       "      <td>0.63</td>\n",
       "      <td>0.65</td>\n",
       "    </tr>\n",
       "    <tr>\n",
       "      <th>1</th>\n",
       "      <td>0.30</td>\n",
       "      <td>0.80</td>\n",
       "      <td>0.65</td>\n",
       "      <td>0.60</td>\n",
       "      <td>0.60</td>\n",
       "      <td>0.70</td>\n",
       "      <td>0.60</td>\n",
       "      <td>0.62</td>\n",
       "      <td>0.58</td>\n",
       "      <td>0.60</td>\n",
       "    </tr>\n",
       "    <tr>\n",
       "      <th>0</th>\n",
       "      <td>0.25</td>\n",
       "      <td>0.81</td>\n",
       "      <td>0.65</td>\n",
       "      <td>0.56</td>\n",
       "      <td>0.56</td>\n",
       "      <td>0.69</td>\n",
       "      <td>0.56</td>\n",
       "      <td>0.59</td>\n",
       "      <td>0.56</td>\n",
       "      <td>0.56</td>\n",
       "    </tr>\n",
       "  </tbody>\n",
       "</table>\n",
       "</div>"
      ],
      "text/plain": [
       "   Threshold  Precision weighted  Precision Macro  Precision Micro  \\\n",
       "9       0.96                0.58             0.38             0.76   \n",
       "8       0.95                0.58             0.38             0.76   \n",
       "7       0.90                0.58             0.38             0.76   \n",
       "6       0.80                0.77             0.75             0.78   \n",
       "5       0.70                0.77             0.70             0.79   \n",
       "4       0.60                0.78             0.69             0.76   \n",
       "3       0.50                0.78             0.67             0.72   \n",
       "2       0.40                0.79             0.65             0.65   \n",
       "1       0.30                0.80             0.65             0.60   \n",
       "0       0.25                0.81             0.65             0.56   \n",
       "\n",
       "   Recall weighted  Recall Macro  Recall Micro  F1 Score weighted  \\\n",
       "9             0.76          0.50          0.76               0.66   \n",
       "8             0.76          0.50          0.76               0.66   \n",
       "7             0.76          0.50          0.76               0.66   \n",
       "6             0.78          0.55          0.78               0.71   \n",
       "5             0.79          0.67          0.79               0.78   \n",
       "4             0.76          0.70          0.76               0.77   \n",
       "3             0.72          0.72          0.72               0.74   \n",
       "2             0.65          0.71          0.65               0.68   \n",
       "1             0.60          0.70          0.60               0.62   \n",
       "0             0.56          0.69          0.56               0.59   \n",
       "\n",
       "   F1 Score Macro  F1 Score Micro  \n",
       "9            0.43            0.76  \n",
       "8            0.43            0.76  \n",
       "7            0.43            0.76  \n",
       "6            0.54            0.78  \n",
       "5            0.68            0.79  \n",
       "4            0.69            0.76  \n",
       "3            0.68            0.72  \n",
       "2            0.63            0.65  \n",
       "1            0.58            0.60  \n",
       "0            0.56            0.56  "
      ]
     },
     "execution_count": 439,
     "metadata": {},
     "output_type": "execute_result"
    }
   ],
   "source": [
    "smote_scaled_metrics = compute_precisions_thresolds(X_train_smote_scaled, y_train_smote, X_test_scaled, y_test,epochs=15, batch_size=128)\n",
    "smote_scaled_metrics"
   ]
  },
  {
   "cell_type": "markdown",
   "metadata": {},
   "source": [
    "* **Key takeaways:**\n",
    "* **\n",
    "    * Neural Network provides more safety to imbalanced and unscaled data\n",
    "    \n",
    "* **   "
   ]
  },
  {
   "cell_type": "markdown",
   "metadata": {},
   "source": [
    "#### Various ML models"
   ]
  },
  {
   "cell_type": "code",
   "execution_count": 440,
   "metadata": {},
   "outputs": [],
   "source": [
    "def cal_score(y_test, y_pred): \n",
    "    cm              = confusion_matrix(y_test, y_pred)\n",
    "    prec_scr_weighted  = precision_score(y_test, y_pred, average='weighted')*100\n",
    "    prec_scr_macro  = precision_score(y_test, y_pred, average='macro')*100\n",
    "    prec_scr_micro  = precision_score(y_test, y_pred, average='micro')*100\n",
    "    rec_scr_weighted   = recall_score(y_test ,y_pred, average='weighted')*100\n",
    "    rec_scr_macro   = recall_score(y_test ,y_pred, average='macro')*100\n",
    "    rec_scr_micro   = recall_score(y_test ,y_pred, average='micro')*100\n",
    "    f1_scr_weighted    = f1_score(y_test, y_pred, average='weighted')*100 \n",
    "    f1_scr_macro    = f1_score(y_test, y_pred, average='macro')*100 \n",
    "    f1_scr_micro    = f1_score(y_test, y_pred, average='micro')*100 \n",
    "    return prec_scr_weighted, prec_scr_macro, prec_scr_micro, rec_scr_weighted, rec_scr_macro, rec_scr_micro, f1_scr_weighted, f1_scr_macro, f1_scr_micro, cm"
   ]
  },
  {
   "cell_type": "code",
   "execution_count": 441,
   "metadata": {},
   "outputs": [],
   "source": [
    "def metrics_calculation(classifier, training_data, testing_data, training_label, testing_label):\n",
    "    \n",
    "    result = []\n",
    "    cols = ['Mean Accuracy', 'Accuracy deviation', 'Precision weighted',  'Precision Macro', 'Precision Micro', 'Recall weighted' ,'Recall Macro','Recall Micro', 'F1 Score weighted' ,'F1 Score Macro', 'F1 Score Micro', 'Confusion Matrix']\n",
    "    \n",
    "    crs_val     = cross_val_score(classifier, training_data, training_label, cv=5)\n",
    "    mean_acc = round(np.mean(crs_val),3)\n",
    "    std_acc  = round(np.std(crs_val),3)\n",
    "    classifier.fit(training_data, training_label)\n",
    "    predictions = classifier.predict(testing_data)\n",
    "    prec_scr_weighted, prec_scr_macro, prec_scr_micro, rec_scr_weighted, rec_scr_macro, rec_scr_micro, f1_scr_weighted, f1_scr_macro, f1_scr_micro, cm = cal_score(testing_label, predictions)\n",
    "    result.extend([mean_acc,std_acc, prec_scr_weighted, prec_scr_macro, prec_scr_micro, rec_scr_weighted, rec_scr_macro, rec_scr_micro, f1_scr_weighted, f1_scr_macro, f1_scr_micro, cm])\n",
    "    series_result = pd.Series(data=result, index=cols)\n",
    "    \n",
    "    return series_result\n"
   ]
  },
  {
   "cell_type": "code",
   "execution_count": 442,
   "metadata": {},
   "outputs": [],
   "source": [
    "clf_dict = {\n",
    "    'Random Forest': RandomForestClassifier(random_state=42),\n",
    "    'XGBoost': XGBClassifier(random_state=42),\n",
    "    'Logistic Regression' : LogisticRegression(random_state=42),\n",
    "    'Light GBM' : LGBMClassifier(random_state=42)\n",
    "}"
   ]
  },
  {
   "cell_type": "code",
   "execution_count": 443,
   "metadata": {},
   "outputs": [
    {
     "name": "stdout",
     "output_type": "stream",
     "text": [
      "[15:16:01] WARNING: ../src/learner.cc:1095: Starting in XGBoost 1.3.0, the default evaluation metric used with the objective 'binary:logistic' was changed from 'error' to 'logloss'. Explicitly set eval_metric if you'd like to restore the old behavior.\n",
      "[15:16:04] WARNING: ../src/learner.cc:1095: Starting in XGBoost 1.3.0, the default evaluation metric used with the objective 'binary:logistic' was changed from 'error' to 'logloss'. Explicitly set eval_metric if you'd like to restore the old behavior.\n",
      "[15:16:06] WARNING: ../src/learner.cc:1095: Starting in XGBoost 1.3.0, the default evaluation metric used with the objective 'binary:logistic' was changed from 'error' to 'logloss'. Explicitly set eval_metric if you'd like to restore the old behavior.\n",
      "[15:16:08] WARNING: ../src/learner.cc:1095: Starting in XGBoost 1.3.0, the default evaluation metric used with the objective 'binary:logistic' was changed from 'error' to 'logloss'. Explicitly set eval_metric if you'd like to restore the old behavior.\n",
      "[15:16:11] WARNING: ../src/learner.cc:1095: Starting in XGBoost 1.3.0, the default evaluation metric used with the objective 'binary:logistic' was changed from 'error' to 'logloss'. Explicitly set eval_metric if you'd like to restore the old behavior.\n",
      "[15:16:13] WARNING: ../src/learner.cc:1095: Starting in XGBoost 1.3.0, the default evaluation metric used with the objective 'binary:logistic' was changed from 'error' to 'logloss'. Explicitly set eval_metric if you'd like to restore the old behavior.\n"
     ]
    },
    {
     "data": {
      "text/html": [
       "<div>\n",
       "<style scoped>\n",
       "    .dataframe tbody tr th:only-of-type {\n",
       "        vertical-align: middle;\n",
       "    }\n",
       "\n",
       "    .dataframe tbody tr th {\n",
       "        vertical-align: top;\n",
       "    }\n",
       "\n",
       "    .dataframe thead th {\n",
       "        text-align: right;\n",
       "    }\n",
       "</style>\n",
       "<table border=\"1\" class=\"dataframe\">\n",
       "  <thead>\n",
       "    <tr style=\"text-align: right;\">\n",
       "      <th></th>\n",
       "      <th>Random Forest</th>\n",
       "      <th>XGBoost</th>\n",
       "      <th>Logistic Regression</th>\n",
       "      <th>Light GBM</th>\n",
       "    </tr>\n",
       "  </thead>\n",
       "  <tbody>\n",
       "    <tr>\n",
       "      <th>Mean Accuracy</th>\n",
       "      <td>0.772</td>\n",
       "      <td>0.799</td>\n",
       "      <td>0.759</td>\n",
       "      <td>0.799</td>\n",
       "    </tr>\n",
       "    <tr>\n",
       "      <th>Accuracy deviation</th>\n",
       "      <td>0.004</td>\n",
       "      <td>0.005</td>\n",
       "      <td>0</td>\n",
       "      <td>0.004</td>\n",
       "    </tr>\n",
       "    <tr>\n",
       "      <th>Precision weighted</th>\n",
       "      <td>74.9337</td>\n",
       "      <td>77.9301</td>\n",
       "      <td>57.6406</td>\n",
       "      <td>78.258</td>\n",
       "    </tr>\n",
       "    <tr>\n",
       "      <th>Precision Macro</th>\n",
       "      <td>66.7529</td>\n",
       "      <td>72.4147</td>\n",
       "      <td>37.9607</td>\n",
       "      <td>73.081</td>\n",
       "    </tr>\n",
       "    <tr>\n",
       "      <th>Precision Micro</th>\n",
       "      <td>76.3053</td>\n",
       "      <td>79.6683</td>\n",
       "      <td>75.9214</td>\n",
       "      <td>79.9754</td>\n",
       "    </tr>\n",
       "    <tr>\n",
       "      <th>Recall weighted</th>\n",
       "      <td>76.3053</td>\n",
       "      <td>79.6683</td>\n",
       "      <td>75.9214</td>\n",
       "      <td>79.9754</td>\n",
       "    </tr>\n",
       "    <tr>\n",
       "      <th>Recall Macro</th>\n",
       "      <td>64.5151</td>\n",
       "      <td>66.4033</td>\n",
       "      <td>50</td>\n",
       "      <td>66.5185</td>\n",
       "    </tr>\n",
       "    <tr>\n",
       "      <th>Recall Micro</th>\n",
       "      <td>76.3053</td>\n",
       "      <td>79.6683</td>\n",
       "      <td>75.9214</td>\n",
       "      <td>79.9754</td>\n",
       "    </tr>\n",
       "    <tr>\n",
       "      <th>F1 Score weighted</th>\n",
       "      <td>75.4597</td>\n",
       "      <td>78.1104</td>\n",
       "      <td>65.5299</td>\n",
       "      <td>78.3355</td>\n",
       "    </tr>\n",
       "    <tr>\n",
       "      <th>F1 Score Macro</th>\n",
       "      <td>65.373</td>\n",
       "      <td>68.2244</td>\n",
       "      <td>43.1564</td>\n",
       "      <td>68.449</td>\n",
       "    </tr>\n",
       "    <tr>\n",
       "      <th>F1 Score Micro</th>\n",
       "      <td>76.3053</td>\n",
       "      <td>79.6683</td>\n",
       "      <td>75.9214</td>\n",
       "      <td>79.9754</td>\n",
       "    </tr>\n",
       "    <tr>\n",
       "      <th>Confusion Matrix</th>\n",
       "      <td>[[4314, 630], [913, 655]]</td>\n",
       "      <td>[[4548, 396], [928, 640]]</td>\n",
       "      <td>[[4944, 0], [1568, 0]]</td>\n",
       "      <td>[[4572, 372], [932, 636]]</td>\n",
       "    </tr>\n",
       "  </tbody>\n",
       "</table>\n",
       "</div>"
      ],
      "text/plain": [
       "                                Random Forest                    XGBoost  \\\n",
       "Mean Accuracy                           0.772                      0.799   \n",
       "Accuracy deviation                      0.004                      0.005   \n",
       "Precision weighted                    74.9337                    77.9301   \n",
       "Precision Macro                       66.7529                    72.4147   \n",
       "Precision Micro                       76.3053                    79.6683   \n",
       "Recall weighted                       76.3053                    79.6683   \n",
       "Recall Macro                          64.5151                    66.4033   \n",
       "Recall Micro                          76.3053                    79.6683   \n",
       "F1 Score weighted                     75.4597                    78.1104   \n",
       "F1 Score Macro                         65.373                    68.2244   \n",
       "F1 Score Micro                        76.3053                    79.6683   \n",
       "Confusion Matrix    [[4314, 630], [913, 655]]  [[4548, 396], [928, 640]]   \n",
       "\n",
       "                       Logistic Regression                  Light GBM  \n",
       "Mean Accuracy                        0.759                      0.799  \n",
       "Accuracy deviation                       0                      0.004  \n",
       "Precision weighted                 57.6406                     78.258  \n",
       "Precision Macro                    37.9607                     73.081  \n",
       "Precision Micro                    75.9214                    79.9754  \n",
       "Recall weighted                    75.9214                    79.9754  \n",
       "Recall Macro                            50                    66.5185  \n",
       "Recall Micro                       75.9214                    79.9754  \n",
       "F1 Score weighted                  65.5299                    78.3355  \n",
       "F1 Score Macro                     43.1564                     68.449  \n",
       "F1 Score Micro                     75.9214                    79.9754  \n",
       "Confusion Matrix    [[4944, 0], [1568, 0]]  [[4572, 372], [932, 636]]  "
      ]
     },
     "execution_count": 443,
     "metadata": {},
     "output_type": "execute_result"
    }
   ],
   "source": [
    "frame = {}\n",
    "for key in clf_dict:\n",
    "\n",
    "    classifier_result = metrics_calculation(clf_dict[key], df_train, df_test, y_train, y_test)\n",
    "    frame[key]    = classifier_result\n",
    "        \n",
    "original_df = pd.DataFrame(frame)\n",
    "original_df"
   ]
  },
  {
   "cell_type": "code",
   "execution_count": 444,
   "metadata": {},
   "outputs": [
    {
     "name": "stdout",
     "output_type": "stream",
     "text": [
      "[15:16:55] WARNING: ../src/learner.cc:1095: Starting in XGBoost 1.3.0, the default evaluation metric used with the objective 'binary:logistic' was changed from 'error' to 'logloss'. Explicitly set eval_metric if you'd like to restore the old behavior.\n",
      "[15:17:01] WARNING: ../src/learner.cc:1095: Starting in XGBoost 1.3.0, the default evaluation metric used with the objective 'binary:logistic' was changed from 'error' to 'logloss'. Explicitly set eval_metric if you'd like to restore the old behavior.\n",
      "[15:17:10] WARNING: ../src/learner.cc:1095: Starting in XGBoost 1.3.0, the default evaluation metric used with the objective 'binary:logistic' was changed from 'error' to 'logloss'. Explicitly set eval_metric if you'd like to restore the old behavior.\n",
      "[15:17:16] WARNING: ../src/learner.cc:1095: Starting in XGBoost 1.3.0, the default evaluation metric used with the objective 'binary:logistic' was changed from 'error' to 'logloss'. Explicitly set eval_metric if you'd like to restore the old behavior.\n",
      "[15:17:21] WARNING: ../src/learner.cc:1095: Starting in XGBoost 1.3.0, the default evaluation metric used with the objective 'binary:logistic' was changed from 'error' to 'logloss'. Explicitly set eval_metric if you'd like to restore the old behavior.\n",
      "[15:17:24] WARNING: ../src/learner.cc:1095: Starting in XGBoost 1.3.0, the default evaluation metric used with the objective 'binary:logistic' was changed from 'error' to 'logloss'. Explicitly set eval_metric if you'd like to restore the old behavior.\n"
     ]
    },
    {
     "data": {
      "text/html": [
       "<div>\n",
       "<style scoped>\n",
       "    .dataframe tbody tr th:only-of-type {\n",
       "        vertical-align: middle;\n",
       "    }\n",
       "\n",
       "    .dataframe tbody tr th {\n",
       "        vertical-align: top;\n",
       "    }\n",
       "\n",
       "    .dataframe thead th {\n",
       "        text-align: right;\n",
       "    }\n",
       "</style>\n",
       "<table border=\"1\" class=\"dataframe\">\n",
       "  <thead>\n",
       "    <tr style=\"text-align: right;\">\n",
       "      <th></th>\n",
       "      <th>Random Forest</th>\n",
       "      <th>XGBoost</th>\n",
       "      <th>Logistic Regression</th>\n",
       "      <th>Light GBM</th>\n",
       "    </tr>\n",
       "  </thead>\n",
       "  <tbody>\n",
       "    <tr>\n",
       "      <th>Mean Accuracy</th>\n",
       "      <td>0.792</td>\n",
       "      <td>0.797</td>\n",
       "      <td>0.724</td>\n",
       "      <td>0.788</td>\n",
       "    </tr>\n",
       "    <tr>\n",
       "      <th>Accuracy deviation</th>\n",
       "      <td>0.047</td>\n",
       "      <td>0.051</td>\n",
       "      <td>0.002</td>\n",
       "      <td>0.046</td>\n",
       "    </tr>\n",
       "    <tr>\n",
       "      <th>Precision weighted</th>\n",
       "      <td>74.9446</td>\n",
       "      <td>77.8204</td>\n",
       "      <td>78.8177</td>\n",
       "      <td>78.4945</td>\n",
       "    </tr>\n",
       "    <tr>\n",
       "      <th>Precision Macro</th>\n",
       "      <td>64.2689</td>\n",
       "      <td>68.013</td>\n",
       "      <td>66.9949</td>\n",
       "      <td>68.4489</td>\n",
       "    </tr>\n",
       "    <tr>\n",
       "      <th>Precision Micro</th>\n",
       "      <td>71.9595</td>\n",
       "      <td>75.3686</td>\n",
       "      <td>71.1763</td>\n",
       "      <td>75.3225</td>\n",
       "    </tr>\n",
       "    <tr>\n",
       "      <th>Recall weighted</th>\n",
       "      <td>71.9595</td>\n",
       "      <td>75.3686</td>\n",
       "      <td>71.1763</td>\n",
       "      <td>75.3225</td>\n",
       "    </tr>\n",
       "    <tr>\n",
       "      <th>Recall Macro</th>\n",
       "      <td>66.7918</td>\n",
       "      <td>70.9096</td>\n",
       "      <td>72.46</td>\n",
       "      <td>72.0551</td>\n",
       "    </tr>\n",
       "    <tr>\n",
       "      <th>Recall Micro</th>\n",
       "      <td>71.9595</td>\n",
       "      <td>75.3686</td>\n",
       "      <td>71.1763</td>\n",
       "      <td>75.3225</td>\n",
       "    </tr>\n",
       "    <tr>\n",
       "      <th>F1 Score weighted</th>\n",
       "      <td>73.0908</td>\n",
       "      <td>76.2802</td>\n",
       "      <td>73.1087</td>\n",
       "      <td>76.4119</td>\n",
       "    </tr>\n",
       "    <tr>\n",
       "      <th>F1 Score Macro</th>\n",
       "      <td>64.9989</td>\n",
       "      <td>68.9868</td>\n",
       "      <td>67.1291</td>\n",
       "      <td>69.5113</td>\n",
       "    </tr>\n",
       "    <tr>\n",
       "      <th>F1 Score Micro</th>\n",
       "      <td>71.9595</td>\n",
       "      <td>75.3686</td>\n",
       "      <td>71.1763</td>\n",
       "      <td>75.3225</td>\n",
       "    </tr>\n",
       "    <tr>\n",
       "      <th>Confusion Matrix</th>\n",
       "      <td>[[3795, 1149], [677, 891]]</td>\n",
       "      <td>[[3931, 1013], [591, 977]]</td>\n",
       "      <td>[[3460, 1484], [393, 1175]]</td>\n",
       "      <td>[[3874, 1070], [537, 1031]]</td>\n",
       "    </tr>\n",
       "  </tbody>\n",
       "</table>\n",
       "</div>"
      ],
      "text/plain": [
       "                                 Random Forest                     XGBoost  \\\n",
       "Mean Accuracy                            0.792                       0.797   \n",
       "Accuracy deviation                       0.047                       0.051   \n",
       "Precision weighted                     74.9446                     77.8204   \n",
       "Precision Macro                        64.2689                      68.013   \n",
       "Precision Micro                        71.9595                     75.3686   \n",
       "Recall weighted                        71.9595                     75.3686   \n",
       "Recall Macro                           66.7918                     70.9096   \n",
       "Recall Micro                           71.9595                     75.3686   \n",
       "F1 Score weighted                      73.0908                     76.2802   \n",
       "F1 Score Macro                         64.9989                     68.9868   \n",
       "F1 Score Micro                         71.9595                     75.3686   \n",
       "Confusion Matrix    [[3795, 1149], [677, 891]]  [[3931, 1013], [591, 977]]   \n",
       "\n",
       "                            Logistic Regression                    Light GBM  \n",
       "Mean Accuracy                             0.724                        0.788  \n",
       "Accuracy deviation                        0.002                        0.046  \n",
       "Precision weighted                      78.8177                      78.4945  \n",
       "Precision Macro                         66.9949                      68.4489  \n",
       "Precision Micro                         71.1763                      75.3225  \n",
       "Recall weighted                         71.1763                      75.3225  \n",
       "Recall Macro                              72.46                      72.0551  \n",
       "Recall Micro                            71.1763                      75.3225  \n",
       "F1 Score weighted                       73.1087                      76.4119  \n",
       "F1 Score Macro                          67.1291                      69.5113  \n",
       "F1 Score Micro                          71.1763                      75.3225  \n",
       "Confusion Matrix    [[3460, 1484], [393, 1175]]  [[3874, 1070], [537, 1031]]  "
      ]
     },
     "execution_count": 444,
     "metadata": {},
     "output_type": "execute_result"
    }
   ],
   "source": [
    "frame = {}\n",
    "for key in clf_dict:\n",
    "\n",
    "    classifier_result = metrics_calculation(clf_dict[key], X_train_smote_scaled, X_test_scaled, y_train_smote, y_test)\n",
    "    frame[key]    = classifier_result\n",
    "        \n",
    "scaled_smote_df = pd.DataFrame(frame)\n",
    "scaled_smote_df"
   ]
  },
  {
   "cell_type": "code",
   "execution_count": 445,
   "metadata": {},
   "outputs": [
    {
     "name": "stdout",
     "output_type": "stream",
     "text": [
      "[15:18:13] WARNING: ../src/learner.cc:1095: Starting in XGBoost 1.3.0, the default evaluation metric used with the objective 'binary:logistic' was changed from 'error' to 'logloss'. Explicitly set eval_metric if you'd like to restore the old behavior.\n",
      "[15:18:16] WARNING: ../src/learner.cc:1095: Starting in XGBoost 1.3.0, the default evaluation metric used with the objective 'binary:logistic' was changed from 'error' to 'logloss'. Explicitly set eval_metric if you'd like to restore the old behavior.\n",
      "[15:18:20] WARNING: ../src/learner.cc:1095: Starting in XGBoost 1.3.0, the default evaluation metric used with the objective 'binary:logistic' was changed from 'error' to 'logloss'. Explicitly set eval_metric if you'd like to restore the old behavior.\n",
      "[15:18:25] WARNING: ../src/learner.cc:1095: Starting in XGBoost 1.3.0, the default evaluation metric used with the objective 'binary:logistic' was changed from 'error' to 'logloss'. Explicitly set eval_metric if you'd like to restore the old behavior.\n",
      "[15:18:30] WARNING: ../src/learner.cc:1095: Starting in XGBoost 1.3.0, the default evaluation metric used with the objective 'binary:logistic' was changed from 'error' to 'logloss'. Explicitly set eval_metric if you'd like to restore the old behavior.\n",
      "[15:18:38] WARNING: ../src/learner.cc:1095: Starting in XGBoost 1.3.0, the default evaluation metric used with the objective 'binary:logistic' was changed from 'error' to 'logloss'. Explicitly set eval_metric if you'd like to restore the old behavior.\n"
     ]
    },
    {
     "data": {
      "text/html": [
       "<div>\n",
       "<style scoped>\n",
       "    .dataframe tbody tr th:only-of-type {\n",
       "        vertical-align: middle;\n",
       "    }\n",
       "\n",
       "    .dataframe tbody tr th {\n",
       "        vertical-align: top;\n",
       "    }\n",
       "\n",
       "    .dataframe thead th {\n",
       "        text-align: right;\n",
       "    }\n",
       "</style>\n",
       "<table border=\"1\" class=\"dataframe\">\n",
       "  <thead>\n",
       "    <tr style=\"text-align: right;\">\n",
       "      <th></th>\n",
       "      <th>Random Forest</th>\n",
       "      <th>XGBoost</th>\n",
       "      <th>Logistic Regression</th>\n",
       "      <th>Light GBM</th>\n",
       "    </tr>\n",
       "  </thead>\n",
       "  <tbody>\n",
       "    <tr>\n",
       "      <th>Mean Accuracy</th>\n",
       "      <td>0.792</td>\n",
       "      <td>0.797</td>\n",
       "      <td>0.586</td>\n",
       "      <td>0.788</td>\n",
       "    </tr>\n",
       "    <tr>\n",
       "      <th>Accuracy deviation</th>\n",
       "      <td>0.046</td>\n",
       "      <td>0.051</td>\n",
       "      <td>0.02</td>\n",
       "      <td>0.047</td>\n",
       "    </tr>\n",
       "    <tr>\n",
       "      <th>Precision weighted</th>\n",
       "      <td>74.9855</td>\n",
       "      <td>77.8204</td>\n",
       "      <td>70.4551</td>\n",
       "      <td>78.4945</td>\n",
       "    </tr>\n",
       "    <tr>\n",
       "      <th>Precision Macro</th>\n",
       "      <td>64.3451</td>\n",
       "      <td>68.013</td>\n",
       "      <td>56.0822</td>\n",
       "      <td>68.4489</td>\n",
       "    </tr>\n",
       "    <tr>\n",
       "      <th>Precision Micro</th>\n",
       "      <td>72.067</td>\n",
       "      <td>75.3686</td>\n",
       "      <td>47.8655</td>\n",
       "      <td>75.3225</td>\n",
       "    </tr>\n",
       "    <tr>\n",
       "      <th>Recall weighted</th>\n",
       "      <td>72.067</td>\n",
       "      <td>75.3686</td>\n",
       "      <td>47.8655</td>\n",
       "      <td>75.3225</td>\n",
       "    </tr>\n",
       "    <tr>\n",
       "      <th>Recall Macro</th>\n",
       "      <td>66.8409</td>\n",
       "      <td>70.9096</td>\n",
       "      <td>57.5871</td>\n",
       "      <td>72.0551</td>\n",
       "    </tr>\n",
       "    <tr>\n",
       "      <th>Recall Micro</th>\n",
       "      <td>72.067</td>\n",
       "      <td>75.3686</td>\n",
       "      <td>47.8655</td>\n",
       "      <td>75.3225</td>\n",
       "    </tr>\n",
       "    <tr>\n",
       "      <th>F1 Score weighted</th>\n",
       "      <td>73.1776</td>\n",
       "      <td>76.2802</td>\n",
       "      <td>50.2531</td>\n",
       "      <td>76.4119</td>\n",
       "    </tr>\n",
       "    <tr>\n",
       "      <th>F1 Score Macro</th>\n",
       "      <td>65.0792</td>\n",
       "      <td>68.9868</td>\n",
       "      <td>47.2148</td>\n",
       "      <td>69.5113</td>\n",
       "    </tr>\n",
       "    <tr>\n",
       "      <th>F1 Score Micro</th>\n",
       "      <td>72.067</td>\n",
       "      <td>75.3686</td>\n",
       "      <td>47.8655</td>\n",
       "      <td>75.3225</td>\n",
       "    </tr>\n",
       "    <tr>\n",
       "      <th>Confusion Matrix</th>\n",
       "      <td>[[3803, 1141], [678, 890]]</td>\n",
       "      <td>[[3931, 1013], [591, 977]]</td>\n",
       "      <td>[[1920, 3024], [371, 1197]]</td>\n",
       "      <td>[[3874, 1070], [537, 1031]]</td>\n",
       "    </tr>\n",
       "  </tbody>\n",
       "</table>\n",
       "</div>"
      ],
      "text/plain": [
       "                                 Random Forest                     XGBoost  \\\n",
       "Mean Accuracy                            0.792                       0.797   \n",
       "Accuracy deviation                       0.046                       0.051   \n",
       "Precision weighted                     74.9855                     77.8204   \n",
       "Precision Macro                        64.3451                      68.013   \n",
       "Precision Micro                         72.067                     75.3686   \n",
       "Recall weighted                         72.067                     75.3686   \n",
       "Recall Macro                           66.8409                     70.9096   \n",
       "Recall Micro                            72.067                     75.3686   \n",
       "F1 Score weighted                      73.1776                     76.2802   \n",
       "F1 Score Macro                         65.0792                     68.9868   \n",
       "F1 Score Micro                          72.067                     75.3686   \n",
       "Confusion Matrix    [[3803, 1141], [678, 890]]  [[3931, 1013], [591, 977]]   \n",
       "\n",
       "                            Logistic Regression                    Light GBM  \n",
       "Mean Accuracy                             0.586                        0.788  \n",
       "Accuracy deviation                         0.02                        0.047  \n",
       "Precision weighted                      70.4551                      78.4945  \n",
       "Precision Macro                         56.0822                      68.4489  \n",
       "Precision Micro                         47.8655                      75.3225  \n",
       "Recall weighted                         47.8655                      75.3225  \n",
       "Recall Macro                            57.5871                      72.0551  \n",
       "Recall Micro                            47.8655                      75.3225  \n",
       "F1 Score weighted                       50.2531                      76.4119  \n",
       "F1 Score Macro                          47.2148                      69.5113  \n",
       "F1 Score Micro                          47.8655                      75.3225  \n",
       "Confusion Matrix    [[1920, 3024], [371, 1197]]  [[3874, 1070], [537, 1031]]  "
      ]
     },
     "execution_count": 445,
     "metadata": {},
     "output_type": "execute_result"
    }
   ],
   "source": [
    "frame = {}\n",
    "for key in clf_dict:\n",
    "\n",
    "    classifier_result = metrics_calculation(clf_dict[key], X_train_smote, df_test, y_train_smote, y_test)\n",
    "    frame[key]    = classifier_result\n",
    "        \n",
    "smote_df = pd.DataFrame(frame)\n",
    "smote_df"
   ]
  },
  {
   "cell_type": "code",
   "execution_count": 446,
   "metadata": {},
   "outputs": [],
   "source": [
    "models = [\n",
    "    {\n",
    "    'label': 'Random Forest',\n",
    "    'model': RandomForestClassifier(random_state=42)\n",
    "    },\n",
    "    {\n",
    "    'label' : 'XGBoost',\n",
    "    'model' : XGBClassifier(random_state=42)\n",
    "    },\n",
    "    {\n",
    "    'label' : 'Logistic Regression',\n",
    "    'model' : LogisticRegression(random_state=42)\n",
    "    },\n",
    "    {\n",
    "    'label' : 'Light GBM',\n",
    "    'model' : LGBMClassifier(random_state=42)\n",
    "    }\n",
    "]"
   ]
  },
  {
   "cell_type": "code",
   "execution_count": 447,
   "metadata": {
    "scrolled": true
   },
   "outputs": [],
   "source": [
    "def plot_multiplt_rocauc(models,train_X, train_y ,dev_X, dev_y):\n",
    "    \n",
    "    for m in models:\n",
    "        model = m['model']   \n",
    "        model.fit(train_X, train_y)\n",
    "        y_pred = model.predict(dev_X)\n",
    "        pred   = model.predict_proba(dev_X)\n",
    "        pred_new = [i[1] for i in pred]\n",
    "        fpr, tpr, thresholds = roc_curve(dev_y, pred_new)\n",
    "        roc_auc = auc(fpr, tpr)\n",
    "        \n",
    "        plt.plot(fpr, tpr, label='%s ROC (area = %0.2f)' % (m['label'], roc_auc))\n",
    "    plt.plot([0, 1], [0, 1],'r--')\n",
    "    plt.xlim([0.0, 1.0])\n",
    "    plt.ylim([0.0, 1.05])\n",
    "    plt.xlabel('1-Specificity(False Positive Rate)')\n",
    "    plt.ylabel('Sensitivity(True Positive Rate)')\n",
    "    plt.title('Receiver Operating Characteristic')\n",
    "    plt.legend(loc=\"lower right\")\n",
    "    plt.show()   # Display\n",
    "    \n",
    "    return "
   ]
  },
  {
   "cell_type": "code",
   "execution_count": 448,
   "metadata": {
    "scrolled": true
   },
   "outputs": [
    {
     "name": "stdout",
     "output_type": "stream",
     "text": [
      "[15:18:53] WARNING: ../src/learner.cc:1095: Starting in XGBoost 1.3.0, the default evaluation metric used with the objective 'binary:logistic' was changed from 'error' to 'logloss'. Explicitly set eval_metric if you'd like to restore the old behavior.\n"
     ]
    },
    {
     "data": {
      "image/png": "[encoded data removed]",
      "text/plain": [
       "<Figure size 432x288 with 1 Axes>"
      ]
     },
     "metadata": {
      "needs_background": "light"
     },
     "output_type": "display_data"
    }
   ],
   "source": [
    "plot_multiplt_rocauc(models,df_train,y_train, df_test, y_test)"
   ]
  },
  {
   "cell_type": "code",
   "execution_count": 449,
   "metadata": {},
   "outputs": [
    {
     "name": "stdout",
     "output_type": "stream",
     "text": [
      "[15:19:03] WARNING: ../src/learner.cc:1095: Starting in XGBoost 1.3.0, the default evaluation metric used with the objective 'binary:logistic' was changed from 'error' to 'logloss'. Explicitly set eval_metric if you'd like to restore the old behavior.\n"
     ]
    },
    {
     "data": {
      "image/png": "[encoded data removed]",
      "text/plain": [
       "<Figure size 432x288 with 1 Axes>"
      ]
     },
     "metadata": {
      "needs_background": "light"
     },
     "output_type": "display_data"
    }
   ],
   "source": [
    "#ploting smoted and scaled data\n",
    "\n",
    "plot_multiplt_rocauc(models,X_train_smote_scaled,y_train_smote, X_test_scaled, y_test)"
   ]
  },
  {
   "cell_type": "code",
   "execution_count": 450,
   "metadata": {
    "scrolled": true
   },
   "outputs": [
    {
     "name": "stdout",
     "output_type": "stream",
     "text": [
      "[15:19:17] WARNING: ../src/learner.cc:1095: Starting in XGBoost 1.3.0, the default evaluation metric used with the objective 'binary:logistic' was changed from 'error' to 'logloss'. Explicitly set eval_metric if you'd like to restore the old behavior.\n"
     ]
    },
    {
     "data": {
      "image/png": "[encoded data removed]",
      "text/plain": [
       "<Figure size 432x288 with 1 Axes>"
      ]
     },
     "metadata": {
      "needs_background": "light"
     },
     "output_type": "display_data"
    }
   ],
   "source": [
    "#ploting smoted only\n",
    "plot_multiplt_rocauc(models,X_train_smote,y_train_smote, df_test, y_test)"
   ]
  },
  {
   "cell_type": "markdown",
   "metadata": {},
   "source": [
    "* **Key takeaways:**\n",
    "* **\n",
    "    * Logistic Regression requires scaling and class balancing\n",
    "    * Tree-based models are safe from imbalanced/unscaled dataset   \n",
    "    \n",
    "* **   "
   ]
  },
  {
   "cell_type": "code",
   "execution_count": 451,
   "metadata": {},
   "outputs": [],
   "source": [
    "def plot_feature_importances(model, model_name,  features):\n",
    "    print(model_name)\n",
    "    plt.figure(figsize=(8,6))\n",
    "    n_features = len(features)\n",
    "    plt.barh(range(n_features), model.feature_importances_, align='center')\n",
    "    plt.yticks(np.arange(n_features), features)\n",
    "    plt.xlabel(\"Feature importance\")\n",
    "    plt.ylabel(\"Feature\")    \n",
    "    plt.ylim(-1, n_features)\n",
    "    plt.show()"
   ]
  },
  {
   "cell_type": "code",
   "execution_count": 452,
   "metadata": {},
   "outputs": [
    {
     "name": "stdout",
     "output_type": "stream",
     "text": [
      "Random Forest\n"
     ]
    },
    {
     "data": {
      "image/png": "[encoded data removed]",
      "text/plain": [
       "<Figure size 576x432 with 1 Axes>"
      ]
     },
     "metadata": {
      "needs_background": "light"
     },
     "output_type": "display_data"
    },
    {
     "name": "stdout",
     "output_type": "stream",
     "text": [
      "XGBoost\n"
     ]
    },
    {
     "data": {
      "image/png": "[encoded data removed]",
      "text/plain": [
       "<Figure size 576x432 with 1 Axes>"
      ]
     },
     "metadata": {
      "needs_background": "light"
     },
     "output_type": "display_data"
    },
    {
     "name": "stdout",
     "output_type": "stream",
     "text": [
      "Light GBM\n"
     ]
    },
    {
     "data": {
      "image/png": "[encoded data removed]",
      "text/plain": [
       "<Figure size 576x432 with 1 Axes>"
      ]
     },
     "metadata": {
      "needs_background": "light"
     },
     "output_type": "display_data"
    }
   ],
   "source": [
    "features = df_train.columns\n",
    "\n",
    "for key in clf_dict.keys():\n",
    "    if key =='Logistic Regression':\n",
    "        continue\n",
    "    else:        \n",
    "        plot_feature_importances(clf_dict[key], key, features)"
   ]
  },
  {
   "cell_type": "markdown",
   "metadata": {},
   "source": [
    "## Feature Importance"
   ]
  },
  {
   "cell_type": "markdown",
   "metadata": {},
   "source": [
    "#### SHAP (SHapley Additive exPlanations)"
   ]
  },
  {
   "cell_type": "markdown",
   "metadata": {},
   "source": [
    "** SHAP is used to assess the importance of each feature in the overall test result "
   ]
  },
  {
   "cell_type": "code",
   "execution_count": 453,
   "metadata": {},
   "outputs": [
    {
     "data": {
      "text/plain": [
       "RandomForestClassifier(random_state=42)"
      ]
     },
     "execution_count": 453,
     "metadata": {},
     "output_type": "execute_result"
    },
    {
     "data": {
      "image/png": "[encoded data removed]",
      "text/plain": [
       "<Figure size 576x252 with 2 Axes>"
      ]
     },
     "metadata": {
      "needs_background": "light"
     },
     "output_type": "display_data"
    }
   ],
   "source": [
    "X_importance = df_test\n",
    "\n",
    "model = RandomForestClassifier(random_state=42)   \n",
    "model.fit(df_train,y_train)\n",
    "\n",
    "# Explain model predictions using shap library:\n",
    "explainer = shap.TreeExplainer(model)\n",
    "shap_values = explainer.shap_values(X_importance)\n",
    "# Plot summary_plot\n",
    "shap.summary_plot(shap_values[1], X_importance)"
   ]
  },
  {
   "cell_type": "markdown",
   "metadata": {},
   "source": [
    "* **Key takeaways:**\n",
    "* **\n",
    "    * Order of importance from bottom to top i.e. education-num is the most impactful to the classification\n",
    "    * The more education is, the more is the chance to get \"1\"\n",
    "    * The higher the workclass is, the more is the chance to get \"0\"\n",
    "    \n",
    "* **   "
   ]
  },
  {
   "cell_type": "markdown",
   "metadata": {},
   "source": [
    "#### LIME (Local Interpretable Model agnostic Explanations)"
   ]
  },
  {
   "cell_type": "markdown",
   "metadata": {},
   "source": [
    "** LIME is useful to analyse the influence of each feature in the outcome of one single test"
   ]
  },
  {
   "cell_type": "code",
   "execution_count": 454,
   "metadata": {},
   "outputs": [],
   "source": [
    "# creating the explainer function\n",
    "explainer = LimeTabularExplainer(df_test.values, mode=\"classification\", feature_names=df_test.columns)"
   ]
  },
  {
   "cell_type": "code",
   "execution_count": 455,
   "metadata": {},
   "outputs": [],
   "source": [
    "predict_model_rf = lambda x: model.predict_proba(x).astype(float)"
   ]
  },
  {
   "cell_type": "code",
   "execution_count": 456,
   "metadata": {},
   "outputs": [
    {
     "data": {
      "image/png": "[encoded data removed]",
      "text/plain": [
       "<Figure size 432x288 with 1 Axes>"
      ]
     },
     "execution_count": 456,
     "metadata": {},
     "output_type": "execute_result"
    },
    {
     "data": {
      "image/png": "[encoded data removed]",
      "text/plain": [
       "<Figure size 432x288 with 1 Axes>"
      ]
     },
     "metadata": {
      "needs_background": "light"
     },
     "output_type": "display_data"
    }
   ],
   "source": [
    "exp = explainer.explain_instance(df_test.iloc[2], predict_model_rf)\n",
    "exp.as_pyplot_figure()"
   ]
  },
  {
   "cell_type": "markdown",
   "metadata": {},
   "source": [
    "* **Key takeaways:**\n",
    "* **\n",
    "    * Order of importance from bottom to top i.e. education-num is the most impactful to the classification\n",
    "    * Education-num =9 is the most impactful  on the classification \"0\", followed by workclass = 3\n",
    "    * Hours-per-week is trying to steer to \"1\" but not enough strong to influence the classification result\n",
    "    \n",
    "* **   "
   ]
  }
 ],
 "metadata": {
  "kernelspec": {
   "display_name": "Python 3",
   "language": "python",
   "name": "python3"
  },
  "language_info": {
   "codemirror_mode": {
    "name": "ipython",
    "version": 3
   },
   "file_extension": ".py",
   "mimetype": "text/x-python",
   "name": "python",
   "nbconvert_exporter": "python",
   "pygments_lexer": "ipython3",
   "version": "3.8.6"
  }
 },
 "nbformat": 4,
 "nbformat_minor": 4
}
