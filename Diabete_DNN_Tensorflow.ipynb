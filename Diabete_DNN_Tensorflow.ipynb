{
 "cells": [
  {
   "cell_type": "code",
   "execution_count": 20,
   "metadata": {},
   "outputs": [],
   "source": [
    "import tempfile\n",
    "import os\n",
    "\n",
    "import pandas as pd\n",
    "\n",
    "import tensorflow as tf"
   ]
  },
  {
   "cell_type": "code",
   "execution_count": 21,
   "metadata": {},
   "outputs": [
    {
     "name": "stdout",
     "output_type": "stream",
     "text": [
      "Downloading data from https://archive.ics.uci.edu/ml/machine-learning-databases/00529/diabetes_data_upload.csv\n",
      "40960/34682 [===================================] - 0s 10us/step\n"
     ]
    }
   ],
   "source": [
    "URL = \"https://archive.ics.uci.edu/ml/machine-learning-databases/00529/diabetes_data_upload.csv\"\n",
    "\n",
    "dataset = tf.keras.utils.get_file(\n",
    "    \"diabetes_data_upload.csv\",\n",
    "    URL)"
   ]
  },
  {
   "cell_type": "code",
   "execution_count": 23,
   "metadata": {},
   "outputs": [],
   "source": [
    "!pip install -q -U tensorflow_datasets"
   ]
  },
  {
   "cell_type": "code",
   "execution_count": 24,
   "metadata": {},
   "outputs": [],
   "source": [
    "import tensorflow_datasets as tfds"
   ]
  },
  {
   "cell_type": "code",
   "execution_count": 25,
   "metadata": {},
   "outputs": [],
   "source": [
    "CSV_COLUMNS =  ['age','gender','polyuria','polydipsia','sudden_weight_loss', 'weakness', 'polyphagia', 'genital_thrush', 'visual_blurring','itching','irritability', 'delayed_healing', 'partial_paresis', 'muscle_stiffness', 'alopecia', 'obesity', 'cls']\n"
   ]
  },
  {
   "cell_type": "code",
   "execution_count": 26,
   "metadata": {},
   "outputs": [],
   "source": [
    "def train_input_fn():\n",
    "  diabete = tf.data.experimental.make_csv_dataset(\n",
    "      dataset,\n",
    "      batch_size=32,\n",
    "      header=True,\n",
    "      column_names=CSV_COLUMNS,\n",
    "      label_name=\"cls\")\n",
    "  diabete_batches = (\n",
    "      diabete.cache().repeat().shuffle(100)\n",
    "      .prefetch(tf.data.AUTOTUNE))\n",
    "  return diabete_batches"
   ]
  },
  {
   "cell_type": "code",
   "execution_count": 27,
   "metadata": {},
   "outputs": [],
   "source": [
    "def categorical_fc(name, values):\n",
    "    \"\"\"Helper function to wrap categorical feature by indicator column.\n",
    "\n",
    "    Args:\n",
    "        name: str, name of feature.\n",
    "        values: list, list of strings of categorical values.\n",
    "    Returns:\n",
    "        Indicator column of categorical feature.\n",
    "    \"\"\"\n",
    "    cat_column = tf.feature_column.categorical_column_with_vocabulary_list(\n",
    "            key=name, vocabulary_list=values)\n",
    "\n",
    "    return tf.feature_column.indicator_column(categorical_column=cat_column)\n",
    "\n",
    "def create_feature_columns():\n",
    "    \"\"\"Creates dictionary of feature columns from inputs.\n",
    "\n",
    "    Returns:\n",
    "        Dictionary of feature columns.\n",
    "    \"\"\"\n",
    "    feature_columns = {\n",
    "        colname : tf.feature_column.numeric_column(key=colname)\n",
    "           for colname in [\"age\"]\n",
    "    }\n",
    "\n",
    "    feature_columns[\"gender\"] = categorical_fc(\"gender\", ['Male', 'Female'])\n",
    "    \n",
    "    for colname in ['gender','polyuria','polydipsia','sudden_weight_loss', 'weakness', 'polyphagia', 'genital_thrush', 'visual_blurring','itching','irritability', 'delayed_healing', 'partial_paresis', 'muscle_stiffness', 'alopecia', 'obesity']:        \n",
    "        feature_columns[colname] = categorical_fc(colname, ['Yes', 'No'])\n",
    "\n",
    "    return feature_columns"
   ]
  },
  {
   "cell_type": "code",
   "execution_count": 28,
   "metadata": {},
   "outputs": [],
   "source": [
    "fc = create_feature_columns()\n",
    "for key,val in fc.items():\n",
    "    exec(key + '=val')"
   ]
  },
  {
   "cell_type": "code",
   "execution_count": 29,
   "metadata": {},
   "outputs": [
    {
     "name": "stdout",
     "output_type": "stream",
     "text": [
      "INFO:tensorflow:Using default config.\n",
      "INFO:tensorflow:Using config: {'_model_dir': '/tmp/tmpmat3ny62', '_tf_random_seed': None, '_save_summary_steps': 100, '_save_checkpoints_steps': None, '_save_checkpoints_secs': 600, '_session_config': allow_soft_placement: true\n",
      "graph_options {\n",
      "  rewrite_options {\n",
      "    meta_optimizer_iterations: ONE\n",
      "  }\n",
      "}\n",
      ", '_keep_checkpoint_max': 5, '_keep_checkpoint_every_n_hours': 10000, '_log_step_count_steps': 100, '_train_distribute': None, '_device_fn': None, '_protocol': None, '_eval_distribute': None, '_experimental_distribute': None, '_experimental_max_worker_delay_secs': None, '_session_creation_timeout_secs': 7200, '_checkpoint_save_graph_def': True, '_service': None, '_cluster_spec': ClusterSpec({}), '_task_type': 'worker', '_task_id': 0, '_global_id_in_cluster': 0, '_master': '', '_evaluation_master': '', '_is_chief': True, '_num_ps_replicas': 0, '_num_worker_replicas': 1}\n"
     ]
    }
   ],
   "source": [
    "from tensorflow import keras\n",
    "\n",
    "model_dir = tempfile.mkdtemp()\n",
    "model = tf.estimator.DNNClassifier(\n",
    "    model_dir=model_dir,\n",
    "    hidden_units=[36,12],\n",
    "    feature_columns=[age,gender,polyuria,polydipsia,sudden_weight_loss,weakness,polyphagia,genital_thrush,visual_blurring,itching,irritability,delayed_healing,partial_paresis,muscle_stiffness,alopecia,obesity],\n",
    "    n_classes=2,\n",
    "    label_vocabulary=['Positive','Negative'],\n",
    "    activation_fn='relu',\n",
    "    optimizer=keras.optimizers.Adam(learning_rate=0.005)\n",
    ")"
   ]
  },
  {
   "cell_type": "code",
   "execution_count": 30,
   "metadata": {
    "scrolled": true
   },
   "outputs": [
    {
     "name": "stdout",
     "output_type": "stream",
     "text": [
      "INFO:tensorflow:Calling model_fn.\n",
      "INFO:tensorflow:Done calling model_fn.\n",
      "INFO:tensorflow:Create CheckpointSaverHook.\n",
      "INFO:tensorflow:Graph was finalized.\n",
      "INFO:tensorflow:Running local_init_op.\n",
      "INFO:tensorflow:Done running local_init_op.\n",
      "INFO:tensorflow:Calling checkpoint listeners before saving checkpoint 0...\n",
      "INFO:tensorflow:Saving checkpoints for 0 into /tmp/tmpmat3ny62/model.ckpt.\n",
      "INFO:tensorflow:Calling checkpoint listeners after saving checkpoint 0...\n",
      "INFO:tensorflow:loss = 4.8283205, step = 0\n",
      "INFO:tensorflow:global_step/sec: 149.307\n",
      "INFO:tensorflow:loss = 0.3185474, step = 100 (0.673 sec)\n",
      "INFO:tensorflow:global_step/sec: 193.233\n",
      "INFO:tensorflow:loss = 0.293967, step = 200 (0.516 sec)\n",
      "INFO:tensorflow:global_step/sec: 199.412\n",
      "INFO:tensorflow:loss = 0.2986024, step = 300 (0.504 sec)\n",
      "INFO:tensorflow:global_step/sec: 200.385\n",
      "INFO:tensorflow:loss = 0.22637415, step = 400 (0.496 sec)\n",
      "INFO:tensorflow:global_step/sec: 170.53\n",
      "INFO:tensorflow:loss = 0.29818985, step = 500 (0.587 sec)\n",
      "INFO:tensorflow:global_step/sec: 196.536\n",
      "INFO:tensorflow:loss = 0.25449854, step = 600 (0.511 sec)\n",
      "INFO:tensorflow:global_step/sec: 195.675\n",
      "INFO:tensorflow:loss = 0.27328652, step = 700 (0.508 sec)\n",
      "INFO:tensorflow:global_step/sec: 199.906\n",
      "INFO:tensorflow:loss = 0.121378675, step = 800 (0.500 sec)\n",
      "INFO:tensorflow:global_step/sec: 199.457\n",
      "INFO:tensorflow:loss = 0.08821215, step = 900 (0.501 sec)\n",
      "INFO:tensorflow:global_step/sec: 171.784\n",
      "INFO:tensorflow:loss = 0.15211262, step = 1000 (0.582 sec)\n",
      "INFO:tensorflow:global_step/sec: 194.804\n",
      "INFO:tensorflow:loss = 0.14745347, step = 1100 (0.514 sec)\n",
      "INFO:tensorflow:global_step/sec: 172.951\n",
      "INFO:tensorflow:loss = 0.12905252, step = 1200 (0.580 sec)\n",
      "INFO:tensorflow:global_step/sec: 193.608\n",
      "INFO:tensorflow:loss = 0.17871752, step = 1300 (0.515 sec)\n",
      "INFO:tensorflow:global_step/sec: 198.142\n",
      "INFO:tensorflow:loss = 0.3092024, step = 1400 (0.505 sec)\n",
      "INFO:tensorflow:global_step/sec: 199.382\n",
      "INFO:tensorflow:loss = 0.28233525, step = 1500 (0.501 sec)\n",
      "INFO:tensorflow:global_step/sec: 170.802\n",
      "INFO:tensorflow:loss = 0.3101973, step = 1600 (0.587 sec)\n",
      "INFO:tensorflow:global_step/sec: 197.261\n",
      "INFO:tensorflow:loss = 0.28083387, step = 1700 (0.506 sec)\n",
      "INFO:tensorflow:global_step/sec: 197.741\n",
      "INFO:tensorflow:loss = 0.3406184, step = 1800 (0.506 sec)\n",
      "INFO:tensorflow:global_step/sec: 198.118\n",
      "INFO:tensorflow:loss = 0.07746744, step = 1900 (0.505 sec)\n",
      "INFO:tensorflow:global_step/sec: 171.332\n",
      "INFO:tensorflow:loss = 0.09268133, step = 2000 (0.584 sec)\n",
      "INFO:tensorflow:global_step/sec: 194.086\n",
      "INFO:tensorflow:loss = 0.397901, step = 2100 (0.515 sec)\n",
      "INFO:tensorflow:global_step/sec: 166.821\n",
      "INFO:tensorflow:loss = 0.070846274, step = 2200 (0.600 sec)\n",
      "INFO:tensorflow:global_step/sec: 171.558\n",
      "INFO:tensorflow:loss = 0.23532392, step = 2300 (0.582 sec)\n",
      "INFO:tensorflow:global_step/sec: 196.75\n",
      "INFO:tensorflow:loss = 0.14221326, step = 2400 (0.508 sec)\n",
      "INFO:tensorflow:global_step/sec: 170.167\n",
      "INFO:tensorflow:loss = 0.13789283, step = 2500 (0.595 sec)\n",
      "INFO:tensorflow:global_step/sec: 196.184\n",
      "INFO:tensorflow:loss = 0.10615766, step = 2600 (0.503 sec)\n",
      "INFO:tensorflow:global_step/sec: 195.407\n",
      "INFO:tensorflow:loss = 0.13649955, step = 2700 (0.512 sec)\n",
      "INFO:tensorflow:global_step/sec: 196.192\n",
      "INFO:tensorflow:loss = 0.086229555, step = 2800 (0.510 sec)\n",
      "INFO:tensorflow:global_step/sec: 172.808\n",
      "INFO:tensorflow:loss = 0.053271662, step = 2900 (0.578 sec)\n",
      "WARNING:tensorflow:It seems that global step (tf.train.get_global_step) has not been increased. Current value (could be stable): 2905 vs previous value: 2905. You could increase the global step by passing tf.train.get_global_step() to Optimizer.apply_gradients or Optimizer.minimize.\n",
      "INFO:tensorflow:global_step/sec: 198.251\n",
      "INFO:tensorflow:loss = 0.082054995, step = 3000 (0.505 sec)\n",
      "INFO:tensorflow:global_step/sec: 199.064\n",
      "INFO:tensorflow:loss = 0.1202884, step = 3100 (0.503 sec)\n",
      "INFO:tensorflow:global_step/sec: 197.147\n",
      "INFO:tensorflow:loss = 0.12009874, step = 3200 (0.507 sec)\n",
      "INFO:tensorflow:global_step/sec: 172.728\n",
      "INFO:tensorflow:loss = 0.03064944, step = 3300 (0.580 sec)\n",
      "INFO:tensorflow:global_step/sec: 196.374\n",
      "INFO:tensorflow:loss = 0.06527734, step = 3400 (0.509 sec)\n",
      "INFO:tensorflow:global_step/sec: 196.031\n",
      "INFO:tensorflow:loss = 0.034105677, step = 3500 (0.510 sec)\n",
      "INFO:tensorflow:global_step/sec: 199.778\n",
      "INFO:tensorflow:loss = 0.16063796, step = 3600 (0.500 sec)\n",
      "INFO:tensorflow:global_step/sec: 172.221\n",
      "INFO:tensorflow:loss = 0.15788539, step = 3700 (0.581 sec)\n",
      "INFO:tensorflow:global_step/sec: 197.883\n",
      "INFO:tensorflow:loss = 0.04102529, step = 3800 (0.506 sec)\n",
      "INFO:tensorflow:global_step/sec: 197.007\n",
      "INFO:tensorflow:loss = 0.061003853, step = 3900 (0.506 sec)\n",
      "INFO:tensorflow:global_step/sec: 198.813\n",
      "INFO:tensorflow:loss = 0.07925616, step = 4000 (0.503 sec)\n",
      "INFO:tensorflow:global_step/sec: 199.542\n",
      "INFO:tensorflow:loss = 0.07467499, step = 4100 (0.501 sec)\n",
      "INFO:tensorflow:global_step/sec: 200.512\n",
      "INFO:tensorflow:loss = 0.015770555, step = 4200 (0.499 sec)\n",
      "INFO:tensorflow:global_step/sec: 170.585\n",
      "INFO:tensorflow:loss = 0.087419055, step = 4300 (0.586 sec)\n",
      "INFO:tensorflow:global_step/sec: 196.45\n",
      "INFO:tensorflow:loss = 0.035441376, step = 4400 (0.509 sec)\n",
      "INFO:tensorflow:global_step/sec: 195.325\n",
      "INFO:tensorflow:loss = 0.039677918, step = 4500 (0.513 sec)\n",
      "INFO:tensorflow:global_step/sec: 173.5\n",
      "INFO:tensorflow:loss = 0.06338065, step = 4600 (0.576 sec)\n",
      "INFO:tensorflow:global_step/sec: 197.718\n",
      "INFO:tensorflow:loss = 0.05093562, step = 4700 (0.505 sec)\n",
      "INFO:tensorflow:global_step/sec: 200.206\n",
      "INFO:tensorflow:loss = 0.01518083, step = 4800 (0.500 sec)\n",
      "INFO:tensorflow:global_step/sec: 198.787\n",
      "INFO:tensorflow:loss = 0.122377984, step = 4900 (0.503 sec)\n",
      "INFO:tensorflow:global_step/sec: 195.895\n",
      "INFO:tensorflow:loss = 0.0013810714, step = 5000 (0.510 sec)\n",
      "INFO:tensorflow:global_step/sec: 200.215\n",
      "INFO:tensorflow:loss = 0.0033075698, step = 5100 (0.501 sec)\n",
      "INFO:tensorflow:global_step/sec: 171.101\n",
      "INFO:tensorflow:loss = 0.034612358, step = 5200 (0.583 sec)\n",
      "WARNING:tensorflow:It seems that global step (tf.train.get_global_step) has not been increased. Current value (could be stable): 5204 vs previous value: 5204. You could increase the global step by passing tf.train.get_global_step() to Optimizer.apply_gradients or Optimizer.minimize.\n",
      "INFO:tensorflow:global_step/sec: 195.115\n",
      "INFO:tensorflow:loss = 0.052113306, step = 5300 (0.513 sec)\n",
      "INFO:tensorflow:global_step/sec: 198.965\n",
      "INFO:tensorflow:loss = 0.027667237, step = 5400 (0.502 sec)\n",
      "INFO:tensorflow:global_step/sec: 198.079\n",
      "INFO:tensorflow:loss = 0.044845045, step = 5500 (0.576 sec)\n",
      "INFO:tensorflow:global_step/sec: 169.868\n",
      "INFO:tensorflow:loss = 0.06555882, step = 5600 (0.518 sec)\n",
      "INFO:tensorflow:global_step/sec: 198.077\n",
      "INFO:tensorflow:loss = 0.12228234, step = 5700 (0.505 sec)\n",
      "INFO:tensorflow:global_step/sec: 171.76\n",
      "INFO:tensorflow:loss = 0.059531044, step = 5800 (0.583 sec)\n",
      "INFO:tensorflow:global_step/sec: 196.979\n",
      "INFO:tensorflow:loss = 0.043997068, step = 5900 (0.507 sec)\n",
      "INFO:tensorflow:global_step/sec: 199.404\n",
      "INFO:tensorflow:loss = 0.014888178, step = 6000 (0.502 sec)\n",
      "INFO:tensorflow:global_step/sec: 196.413\n",
      "INFO:tensorflow:loss = 0.08348891, step = 6100 (0.509 sec)\n",
      "INFO:tensorflow:global_step/sec: 198.769\n",
      "INFO:tensorflow:loss = 0.008376955, step = 6200 (0.503 sec)\n",
      "INFO:tensorflow:global_step/sec: 172.047\n",
      "INFO:tensorflow:loss = 0.07344415, step = 6300 (0.581 sec)\n",
      "INFO:tensorflow:global_step/sec: 198.686\n",
      "INFO:tensorflow:loss = 0.02551631, step = 6400 (0.503 sec)\n",
      "INFO:tensorflow:global_step/sec: 197.619\n",
      "INFO:tensorflow:loss = 0.059331767, step = 6500 (0.506 sec)\n",
      "INFO:tensorflow:global_step/sec: 200.506\n",
      "INFO:tensorflow:loss = 0.034486786, step = 6600 (0.499 sec)\n",
      "INFO:tensorflow:global_step/sec: 198.599\n",
      "INFO:tensorflow:loss = 0.041850682, step = 6700 (0.503 sec)\n",
      "INFO:tensorflow:global_step/sec: 171.309\n",
      "INFO:tensorflow:loss = 0.01972666, step = 6800 (0.585 sec)\n",
      "INFO:tensorflow:global_step/sec: 191.461\n",
      "INFO:tensorflow:loss = 0.020694643, step = 6900 (0.522 sec)\n",
      "INFO:tensorflow:global_step/sec: 199.295\n",
      "INFO:tensorflow:loss = 0.15979649, step = 7000 (0.500 sec)\n",
      "INFO:tensorflow:global_step/sec: 171.104\n",
      "INFO:tensorflow:loss = 0.11421336, step = 7100 (0.586 sec)\n",
      "INFO:tensorflow:global_step/sec: 195.74\n",
      "INFO:tensorflow:loss = 0.039664593, step = 7200 (0.510 sec)\n",
      "INFO:tensorflow:global_step/sec: 200.148\n",
      "INFO:tensorflow:loss = 0.064947225, step = 7300 (0.499 sec)\n",
      "INFO:tensorflow:global_step/sec: 197.286\n",
      "INFO:tensorflow:loss = 0.044697687, step = 7400 (0.577 sec)\n",
      "INFO:tensorflow:global_step/sec: 172.493\n",
      "INFO:tensorflow:loss = 0.057840277, step = 7500 (0.510 sec)\n",
      "INFO:tensorflow:global_step/sec: 198.019\n",
      "INFO:tensorflow:loss = 0.024009705, step = 7600 (0.505 sec)\n",
      "INFO:tensorflow:global_step/sec: 197.028\n",
      "INFO:tensorflow:loss = 0.08096218, step = 7700 (0.508 sec)\n",
      "INFO:tensorflow:global_step/sec: 172.369\n",
      "INFO:tensorflow:loss = 0.22535193, step = 7800 (0.582 sec)\n",
      "INFO:tensorflow:global_step/sec: 194.723\n",
      "INFO:tensorflow:loss = 0.026926449, step = 7900 (0.511 sec)\n",
      "INFO:tensorflow:Calling checkpoint listeners before saving checkpoint 8000...\n",
      "INFO:tensorflow:Saving checkpoints for 8000 into /tmp/tmpmat3ny62/model.ckpt.\n",
      "INFO:tensorflow:Calling checkpoint listeners after saving checkpoint 8000...\n",
      "INFO:tensorflow:Loss for final step: 0.04623968.\n"
     ]
    }
   ],
   "source": [
    "model = model.train(input_fn=train_input_fn, steps=8000)"
   ]
  },
  {
   "cell_type": "code",
   "execution_count": 31,
   "metadata": {},
   "outputs": [
    {
     "name": "stdout",
     "output_type": "stream",
     "text": [
      "INFO:tensorflow:Calling model_fn.\n",
      "INFO:tensorflow:Done calling model_fn.\n",
      "INFO:tensorflow:Starting evaluation at 2021-01-20T13:07:30Z\n",
      "INFO:tensorflow:Graph was finalized.\n",
      "INFO:tensorflow:Restoring parameters from /tmp/tmpmat3ny62/model.ckpt-8000\n",
      "INFO:tensorflow:Running local_init_op.\n",
      "INFO:tensorflow:Done running local_init_op.\n",
      "INFO:tensorflow:Evaluation [1/10]\n",
      "INFO:tensorflow:Evaluation [2/10]\n",
      "INFO:tensorflow:Evaluation [3/10]\n",
      "INFO:tensorflow:Evaluation [4/10]\n",
      "INFO:tensorflow:Evaluation [5/10]\n",
      "INFO:tensorflow:Evaluation [6/10]\n",
      "INFO:tensorflow:Evaluation [7/10]\n",
      "INFO:tensorflow:Evaluation [8/10]\n",
      "INFO:tensorflow:Evaluation [9/10]\n",
      "INFO:tensorflow:Evaluation [10/10]\n",
      "INFO:tensorflow:Inference Time : 1.20406s\n",
      "INFO:tensorflow:Finished evaluation at 2021-01-20-13:07:32\n",
      "INFO:tensorflow:Saving dict for global step 8000: accuracy = 0.984375, accuracy_baseline = 0.61875, auc = 0.9987374, auc_precision_recall = 0.99792963, average_loss = 0.03554583, global_step = 8000, label/mean = 0.38125, loss = 0.03554583, precision = 0.9756098, prediction/mean = 0.3819829, recall = 0.9836066\n",
      "INFO:tensorflow:Saving 'checkpoint_path' summary for global step 8000: /tmp/tmpmat3ny62/model.ckpt-8000\n",
      "accuracy : 0.984375\n",
      "accuracy_baseline : 0.61875\n",
      "auc : 0.9987374\n",
      "auc_precision_recall : 0.99792963\n",
      "average_loss : 0.03554583\n",
      "label/mean : 0.38125\n",
      "loss : 0.03554583\n",
      "precision : 0.9756098\n",
      "prediction/mean : 0.3819829\n",
      "recall : 0.9836066\n",
      "global_step : 8000\n"
     ]
    }
   ],
   "source": [
    "result = model.evaluate(train_input_fn, steps=10)\n",
    "\n",
    "for key, value in result.items():\n",
    "  print(key, \":\", value)"
   ]
  },
  {
   "cell_type": "code",
   "execution_count": 32,
   "metadata": {},
   "outputs": [
    {
     "name": "stdout",
     "output_type": "stream",
     "text": [
      "INFO:tensorflow:Calling model_fn.\n",
      "INFO:tensorflow:Done calling model_fn.\n",
      "INFO:tensorflow:Graph was finalized.\n",
      "INFO:tensorflow:Restoring parameters from /tmp/tmpmat3ny62/model.ckpt-8000\n",
      "INFO:tensorflow:Running local_init_op.\n",
      "INFO:tensorflow:Done running local_init_op.\n",
      "logits : [18.083221]\n",
      "logistic : [1.]\n",
      "probabilities : [1.40138265e-08 1.00000000e+00]\n",
      "class_ids : [1]\n",
      "classes : [b'Negative']\n",
      "all_class_ids : [0 1]\n",
      "all_classes : [b'Positive' b'Negative']\n"
     ]
    }
   ],
   "source": [
    "for pred in model.predict(train_input_fn):\n",
    "  for key, value in pred.items():\n",
    "    print(key, \":\", value)\n",
    "  break"
   ]
  }
 ],
 "metadata": {
  "kernelspec": {
   "display_name": "Python 3",
   "language": "python",
   "name": "python3"
  },
  "language_info": {
   "codemirror_mode": {
    "name": "ipython",
    "version": 3
   },
   "file_extension": ".py",
   "mimetype": "text/x-python",
   "name": "python",
   "nbconvert_exporter": "python",
   "pygments_lexer": "ipython3",
   "version": "3.8.6"
  }
 },
 "nbformat": 4,
 "nbformat_minor": 4
}
