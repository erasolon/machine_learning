{
 "cells": [
  {
   "cell_type": "code",
   "execution_count": 120,
   "id": "c4ec0319",
   "metadata": {},
   "outputs": [
    {
     "name": "stdout",
     "output_type": "stream",
     "text": [
      "us-east-1\n",
      "sagemaker-us-east-1-861737859161\n",
      "arn:aws:iam::861737859161:role/service-role/AmazonSageMakerServiceCatalogProductsUseRole\n",
      "CPU times: user 92 ms, sys: 3.79 ms, total: 95.8 ms\n",
      "Wall time: 220 ms\n"
     ]
    }
   ],
   "source": [
    "%%time\n",
    "\n",
    "import os\n",
    "import boto3\n",
    "import re  # regular  expression  library \n",
    "import sagemaker\n",
    "import sklearn\n",
    "import numpy as np\n",
    "import time\n",
    "import matplotlib.pyplot as plt\n",
    "\n",
    "from time import gmtime, strftime\n",
    "\n",
    "# Get a SageMaker-compatible role used by this Notebook Instance.\n",
    "role = sagemaker.get_execution_role()\n",
    "region = boto3.Session().region_name\n",
    "\n",
    "### update below values appropriately ###\n",
    "bucket = sagemaker.Session().default_bucket()\n",
    "prefix = 'sagemaker/DEMO-xgboost-classification-diabete'\n",
    "#### \n",
    "\n",
    "print(region)\n",
    "print(bucket)\n",
    "print(role)"
   ]
  },
  {
   "cell_type": "code",
   "execution_count": 88,
   "id": "0cb95f52",
   "metadata": {},
   "outputs": [
    {
     "name": "stdout",
     "output_type": "stream",
     "text": [
      "CPU times: user 23 µs, sys: 0 ns, total: 23 µs\n",
      "Wall time: 26.7 µs\n"
     ]
    }
   ],
   "source": [
    "%%time\n",
    "\n",
    "import io\n",
    "import boto3\n",
    "import random\n",
    "\n",
    "def data_split(FILE_DATA, DATA_DIR, FILE_TRAIN_BASE, FILE_TRAIN_1, FILE_VALIDATION, FILE_TEST, \n",
    "               PERCENT_TRAIN_0, PERCENT_TRAIN_1, PERCENT_VALIDATION, PERCENT_TEST):\n",
    "    data = [l for l in open(FILE_DATA, 'r')]\n",
    "    train_file_0 = open(DATA_DIR + \"/\" + FILE_TRAIN_0, 'w')\n",
    "    train_file_1 = open(DATA_DIR + \"/\" + FILE_TRAIN_1, 'w')\n",
    "    valid_file = open(DATA_DIR + \"/\" + FILE_VALIDATION, 'w')\n",
    "    tests_file = open(DATA_DIR + \"/\" + FILE_TEST, 'w')\n",
    "\n",
    "    num_of_data = len(data)\n",
    "    num_train_0 = int((PERCENT_TRAIN_0/100.0)*num_of_data)\n",
    "    num_train_1 = int((PERCENT_TRAIN_1/100.0)*num_of_data)\n",
    "    num_valid = int((PERCENT_VALIDATION/100.0)*num_of_data)\n",
    "    num_tests = int((PERCENT_TEST/100.0)*num_of_data)\n",
    "\n",
    "    data_fractions = [num_train_0, num_train_1, num_valid, num_tests]\n",
    "    split_data = [[],[],[],[]]\n",
    "\n",
    "    rand_data_ind = 0\n",
    "\n",
    "    for split_ind, fraction in enumerate(data_fractions):\n",
    "        for i in range(fraction):\n",
    "            rand_data_ind = random.randint(0, len(data)-1)\n",
    "            split_data[split_ind].append(data[rand_data_ind])\n",
    "            data.pop(rand_data_ind)\n",
    "\n",
    "    for l in split_data[0]:\n",
    "        train_file_0.write(l)\n",
    "\n",
    "    for l in split_data[1]:\n",
    "        train_file_1.write(l)\n",
    "        \n",
    "    for l in split_data[2]:\n",
    "        valid_file.write(l)\n",
    "\n",
    "    for l in split_data[3]:\n",
    "        tests_file.write(l)\n",
    "\n",
    "    train_file_0.close()\n",
    "    train_file_1.close()\n",
    "    valid_file.close()\n",
    "    tests_file.close()\n",
    "\n",
    "def write_to_s3(fobj, bucket, key):\n",
    "    return boto3.Session(region_name=region).resource('s3').Bucket(bucket).Object(key).upload_fileobj(fobj)\n",
    "\n",
    "def upload_to_s3(bucket, channel, filename):\n",
    "    fobj=open(filename, 'rb')\n",
    "    key = prefix+'/'+channel\n",
    "    url = 's3://{}/{}/{}'.format(bucket, key, filename)\n",
    "    print('Writing to {}'.format(url))\n",
    "    write_to_s3(fobj, bucket, key)"
   ]
  },
  {
   "cell_type": "code",
   "execution_count": 89,
   "id": "c2ce27b5",
   "metadata": {},
   "outputs": [
    {
     "name": "stdout",
     "output_type": "stream",
     "text": [
      "CPU times: user 32 ms, sys: 0 ns, total: 32 ms\n",
      "Wall time: 108 ms\n"
     ]
    }
   ],
   "source": [
    "%%time\n",
    "\n",
    "from sklearn.datasets import load_svmlight_file\n",
    "\n",
    "s3 = boto3.client(\"s3\")\n",
    "\n",
    "# Load the dataset\n",
    "FILE_DATA_0RIG = 'diabete'\n",
    "\n",
    "s3.download_file(\"sagemaker-sample-files-erasolon\", f\"datasets/classification/diabete.libsvm\", FILE_DATA_0RIG)\n",
    "data = load_svmlight_file(FILE_DATA_0RIG)"
   ]
  },
  {
   "cell_type": "code",
   "execution_count": 90,
   "id": "b33cf574",
   "metadata": {},
   "outputs": [],
   "source": [
    "from sklearn import preprocessing\n",
    "\n",
    "le = preprocessing.LabelEncoder()\n",
    "le.fit(data[1])\n",
    "labels = le.transform(data[1])"
   ]
  },
  {
   "cell_type": "code",
   "execution_count": 91,
   "id": "f47018b0",
   "metadata": {},
   "outputs": [],
   "source": [
    "from sklearn.datasets import dump_svmlight_file\n",
    "\n",
    "LABELED_FILE = FILE_DATA_0RIG +\"_labeled.libsvm\"\n",
    "\n",
    "dump_svmlight_file(data[0], labels, LABELED_FILE)\n",
    "s3.upload_file(LABELED_FILE, bucket , \"datasets/classification/\" + LABELED_FILE )"
   ]
  },
  {
   "cell_type": "code",
   "execution_count": 92,
   "id": "2f575eb5",
   "metadata": {},
   "outputs": [],
   "source": [
    "# Load the dataset\n",
    "FILE_DATA = FILE_DATA_0RIG + '_labeled'\n",
    "s3.download_file(bucket, \"datasets/classification/\" + LABELED_FILE, FILE_DATA)\n",
    "\n",
    "#split the downloaded data into train/test/validation files\n",
    "FILE_TRAIN_0 = FILE_DATA + '.train_0'\n",
    "FILE_TRAIN_1 = FILE_DATA + '.train_1'\n",
    "FILE_VALIDATION = FILE_DATA + '.validation'\n",
    "FILE_TEST = FILE_DATA + '.test'\n",
    "PERCENT_TRAIN_0 = 35\n",
    "PERCENT_TRAIN_1 = 35\n",
    "PERCENT_VALIDATION = 15\n",
    "PERCENT_TEST = 15\n",
    "\n",
    "DATA_DIR = 'data'\n",
    "\n",
    "if not os.path.exists(DATA_DIR):\n",
    "    os.mkdir(DATA_DIR)\n",
    "\n",
    "data_split(FILE_DATA, DATA_DIR, FILE_TRAIN_0, FILE_TRAIN_1, FILE_VALIDATION, FILE_TEST, PERCENT_TRAIN_0, PERCENT_TRAIN_1, PERCENT_VALIDATION, PERCENT_TEST)"
   ]
  },
  {
   "cell_type": "code",
   "execution_count": 93,
   "id": "29d60da5",
   "metadata": {},
   "outputs": [
    {
     "name": "stdout",
     "output_type": "stream",
     "text": [
      "Writing to s3://sagemaker-us-east-1-861737859161/sagemaker/DEMO-xgboost-classification-diabete/train/train_0.libsvm/data/diabete_labeled.train_0\n",
      "Writing to s3://sagemaker-us-east-1-861737859161/sagemaker/DEMO-xgboost-classification-diabete/train/train_1.libsvm/data/diabete_labeled.train_1\n",
      "Writing to s3://sagemaker-us-east-1-861737859161/sagemaker/DEMO-xgboost-classification-diabete/validation/validation.libsvm/data/diabete_labeled.validation\n",
      "Writing to s3://sagemaker-us-east-1-861737859161/sagemaker/DEMO-xgboost-classification-diabete/test/test.libsvm/data/diabete_labeled.test\n"
     ]
    }
   ],
   "source": [
    "#upload the files to the S3 bucket\n",
    "upload_to_s3(bucket, 'train/train_0.libsvm', DATA_DIR + \"/\" + FILE_TRAIN_0)\n",
    "upload_to_s3(bucket, 'train/train_1.libsvm', DATA_DIR + \"/\" + FILE_TRAIN_1)\n",
    "upload_to_s3(bucket, 'validation/validation.libsvm', DATA_DIR + \"/\" + FILE_VALIDATION)\n",
    "upload_to_s3(bucket, 'test/test.libsvm', DATA_DIR + \"/\" + FILE_TEST)"
   ]
  },
  {
   "cell_type": "code",
   "execution_count": 94,
   "id": "e45505cf",
   "metadata": {},
   "outputs": [],
   "source": [
    "hyperparams = {\n",
    "        \"max_depth\": \"5\",\n",
    "        \"num_class\": len(le.classes_),\n",
    "        \"eta\": \"0.2\",\n",
    "        \"gamma\": \"4\",\n",
    "        \"min_child_weight\": \"6\",\n",
    "        \"subsample\": \"0.7\",\n",
    "        \"objective\": \"multi:softmax\",\n",
    "        \"num_round\": \"50\",\n",
    "        \"eval_metric\": \"merror\",\n",
    "        \"verbosity\":\"2\",\n",
    "}\n",
    "\n",
    "instance_type = \"ml.m5.2xlarge\"\n",
    "output_path = 's3://{}/{}/{}/output'.format(bucket, prefix, FILE_DATA + '-dist-xgb')\n",
    "content_type = \"libsvm\""
   ]
  },
  {
   "cell_type": "code",
   "execution_count": 95,
   "id": "feccfc71",
   "metadata": {},
   "outputs": [],
   "source": [
    "# Built-in based xgboost\n",
    "xgboost_container = sagemaker.image_uris.retrieve(\"xgboost\", region, \"1.2-1\")\n",
    "xgb_script_mode_estimator = sagemaker.estimator.Estimator(image_uri=xgboost_container, \n",
    "                                          hyperparameters=hyperparams,\n",
    "                                          role=role,\n",
    "                                          instance_count=2, \n",
    "                                          instance_type=instance_type,\n",
    "                                          volume_size=5, # 5 GB \n",
    "                                          output_path=output_path)\n",
    "\n",
    "train_input = TrainingInput(\"s3://{}/{}/{}/\".format(bucket, prefix, \"train\"), content_type=content_type)\n",
    "validation_input = TrainingInput(\"s3://{}/{}/{}/\".format(bucket, prefix, \"validation\"),content_type=content_type)"
   ]
  },
  {
   "cell_type": "code",
   "execution_count": 96,
   "id": "54780390",
   "metadata": {},
   "outputs": [],
   "source": [
    "# Training without hypertuning \n",
    "#xgb_script_mode_estimator.fit({'train': train_input, 'validation': validation_input})"
   ]
  },
  {
   "cell_type": "markdown",
   "id": "ae0a254c",
   "metadata": {},
   "source": [
    "## HYPERPARAMETER TUNING"
   ]
  },
  {
   "cell_type": "code",
   "execution_count": 101,
   "id": "4022f0d8",
   "metadata": {},
   "outputs": [
    {
     "name": "stdout",
     "output_type": "stream",
     "text": [
      "InProgress\n",
      "InProgress\n",
      "InProgress\n",
      "InProgress\n",
      "InProgress\n",
      "Completed\n"
     ]
    }
   ],
   "source": [
    "# we use the Hyperparameter Tuner\n",
    "from sagemaker.tuner import IntegerParameter\n",
    "from sagemaker.tuner import ContinuousParameter\n",
    "from sagemaker.tuner import HyperparameterTuner\n",
    "\n",
    "# Define exploration boundaries (default suggested values from Amazon SageMaker Documentation)\n",
    "hyperparameter_ranges = {\n",
    "    'eta': ContinuousParameter(0.1, 0.5, scaling_type='Logarithmic'),\n",
    "    'gamma':IntegerParameter(0, 5,scaling_type='Auto'),\n",
    "    'max_depth': IntegerParameter(0,10,scaling_type='Auto'),\n",
    "    'min_child_weight': IntegerParameter(0,10,scaling_type='Auto'),\n",
    "    'num_round': IntegerParameter(1,4000,scaling_type='Auto'),\n",
    "    'subsample': ContinuousParameter(0.5,1,scaling_type='Logarithmic'),\n",
    "}\n",
    "\n",
    "objective_metric_name = 'validation:f1'\n",
    "objective_type = 'Maximize'\n",
    "\n",
    "tuner_log = HyperparameterTuner(\n",
    "    xgb_script_mode_estimator,\n",
    "    objective_metric_name,\n",
    "    hyperparameter_ranges,\n",
    "    base_tuning_job_name= 'diabete-clf-tuning',\n",
    "    objective_type = objective_type,\n",
    "    max_jobs=5,\n",
    "    max_parallel_jobs=5,\n",
    ")\n",
    "\n",
    "## Starts the hyperparameter tuning job\n",
    "tuner_log.fit({'train': train_input, 'validation': validation_input}, include_cls_metadata=False, wait=False)\n",
    "\n",
    "tuning_job_name = tuner_log.latest_tuning_job.name\n",
    "\n",
    "## Prints the status of the latest hyperparameter tuning job\n",
    "status = boto3.client('sagemaker').describe_hyper_parameter_tuning_job(HyperParameterTuningJobName=tuning_job_name)['HyperParameterTuningJobStatus']\n",
    "print(status)\n",
    "while status != \"Completed\" and status != \"Failed\":\n",
    "    time.sleep(60)\n",
    "    status = boto3.client('sagemaker').describe_hyper_parameter_tuning_job(HyperParameterTuningJobName=tuning_job_name)['HyperParameterTuningJobStatus']\n",
    "    print(status)"
   ]
  },
  {
   "cell_type": "code",
   "execution_count": 99,
   "id": "dc32f1dd",
   "metadata": {},
   "outputs": [],
   "source": [
    "# In case there is a need to stop the tuning job\n",
    "#tuner_log.stop_tuning_job()"
   ]
  },
  {
   "cell_type": "code",
   "execution_count": 102,
   "id": "4f3407d1",
   "metadata": {},
   "outputs": [
    {
     "name": "stdout",
     "output_type": "stream",
     "text": [
      "diabete-clf-tuning-210515-1359-002-46ce30e2\n"
     ]
    }
   ],
   "source": [
    "job_name = tuner_log.best_training_job()\n",
    "print(job_name)"
   ]
  },
  {
   "cell_type": "code",
   "execution_count": 108,
   "id": "cf10254a",
   "metadata": {},
   "outputs": [
    {
     "data": {
      "image/png": "[encoded data removed]",
      "text/plain": [
       "<Figure size 864x360 with 1 Axes>"
      ]
     },
     "metadata": {
      "needs_background": "light"
     },
     "output_type": "display_data"
    }
   ],
   "source": [
    "%matplotlib inline\n",
    "from sagemaker.analytics import TrainingJobAnalytics\n",
    "\n",
    "metric_name = \"validation:f1\"\n",
    "\n",
    "metrics_dataframe = TrainingJobAnalytics(\n",
    "    training_job_name=job_name, metric_names=[metric_name]\n",
    ").dataframe()\n",
    "plt = metrics_dataframe.plot(\n",
    "    kind=\"line\", figsize=(12, 5), x=\"timestamp\", y=\"value\", style=\"b.\", legend=False\n",
    ")\n",
    "plt.set_ylabel(metric_name);"
   ]
  },
  {
   "cell_type": "code",
   "execution_count": 109,
   "id": "950945f9",
   "metadata": {},
   "outputs": [
    {
     "name": "stdout",
     "output_type": "stream",
     "text": [
      "\n",
      "2021-05-15 14:03:54 Starting - Preparing the instances for training\n",
      "2021-05-15 14:03:54 Downloading - Downloading input data\n",
      "2021-05-15 14:03:54 Training - Training image download completed. Training in progress.\n",
      "2021-05-15 14:03:54 Uploading - Uploading generated training model\n",
      "2021-05-15 14:03:54 Completed - Training job completed\n",
      "-------------!"
     ]
    }
   ],
   "source": [
    "attached_tuner = HyperparameterTuner.attach(tuning_job_name)\n",
    "predictor = attached_tuner.deploy(initial_instance_count=1, instance_type=\"ml.m5.2xlarge\")"
   ]
  },
  {
   "cell_type": "code",
   "execution_count": 110,
   "id": "e8d1b9f1",
   "metadata": {},
   "outputs": [],
   "source": [
    "test_file = DATA_DIR + \"/\" + FILE_TEST\n",
    "with open(test_file, 'r') as f:\n",
    "    payload = f.read()"
   ]
  },
  {
   "cell_type": "code",
   "execution_count": 111,
   "id": "c8f60549",
   "metadata": {},
   "outputs": [
    {
     "name": "stdout",
     "output_type": "stream",
     "text": [
      "Predicted values are 1.0,0.0,1.0,1.0,1.0,1.0,1.0,0.0,1.0,1.0,0.0,1.0,0.0,0.0,1.0,1.0,1.0,0.0,1.0,1.0,0.0,1.0,1.0,0.0,1.0,1.0,0.0,0.0,0.0,1.0,0.0,1.0,1.0,0.0,1.0,1.0,1.0,1.0,1.0,1.0,0.0,1.0,1.0,1.0,1.0,1.0,1.0,1.0,0.0,1.0,1.0,1.0,1.0,0.0,1.0,1.0,1.0,1.0,0.0,1.0,0.0,1.0,1.0,1.0,1.0,1.0,0.0,1.0,1.0,1.0,1.0,1.0,1.0,1.0,1.0,0.0,1.0,1.0,0.0,1.0,1.0,1.0,1.0,1.0,1.0,1.0,0.0,1.0,1.0,1.0,1.0,1.0,1.0,1.0,1.0,1.0,0.0,1.0,1.0,1.0,0.0,1.0,0.0,1.0,1.0,0.0,0.0,0.0,1.0,1.0,0.0,0.0,0.0,1.0,1.0.\n"
     ]
    }
   ],
   "source": [
    "runtime_client = boto3.client('runtime.sagemaker', region_name=region)\n",
    "response = runtime_client.invoke_endpoint(EndpointName=predictor.endpoint_name, \n",
    "                                          ContentType='text/libsvm', \n",
    "                                          Body=payload)\n",
    "result = response['Body'].read().decode('ascii')\n",
    "print('Predicted values are {}.'.format(result))"
   ]
  },
  {
   "cell_type": "code",
   "execution_count": 112,
   "id": "e7722f7d",
   "metadata": {},
   "outputs": [],
   "source": [
    "y_pred = np.fromstring(result.replace(\"[\",\"\").replace(\"]\",\"\"), dtype=float, sep=',')"
   ]
  },
  {
   "cell_type": "code",
   "execution_count": 113,
   "id": "b70a845c",
   "metadata": {},
   "outputs": [],
   "source": [
    "from sklearn.datasets import load_svmlight_file\n",
    "\n",
    "data_true = load_svmlight_file(test_file)\n",
    "y_true = data_true[1]"
   ]
  },
  {
   "cell_type": "code",
   "execution_count": 114,
   "id": "f413b5d9",
   "metadata": {},
   "outputs": [
    {
     "name": "stdout",
     "output_type": "stream",
     "text": [
      "              precision    recall  f1-score   support\n",
      "\n",
      "         0.0       0.68      0.57      0.62        37\n",
      "         1.0       0.81      0.87      0.84        78\n",
      "\n",
      "    accuracy                           0.77       115\n",
      "   macro avg       0.74      0.72      0.73       115\n",
      "weighted avg       0.77      0.77      0.77       115\n",
      "\n"
     ]
    }
   ],
   "source": [
    "from sklearn.metrics import classification_report\n",
    "\n",
    "print(classification_report(y_true, y_pred))"
   ]
  },
  {
   "cell_type": "code",
   "execution_count": 118,
   "id": "7a197933",
   "metadata": {},
   "outputs": [],
   "source": [
    "from sklearn.metrics import roc_curve\n",
    "\n",
    "fpr_rf, tpr_rf, _ = roc_curve(y_true, y_pred)"
   ]
  },
  {
   "cell_type": "code",
   "execution_count": 121,
   "id": "b8323bd2",
   "metadata": {},
   "outputs": [
    {
     "data": {
      "image/png": "[encoded data removed]",
      "text/plain": [
       "<Figure size 432x288 with 1 Axes>"
      ]
     },
     "metadata": {
      "needs_background": "light"
     },
     "output_type": "display_data"
    }
   ],
   "source": [
    "plt.figure(1)\n",
    "plt.plot([0, 1], [0, 1], 'k--')\n",
    "plt.plot(fpr_rf, tpr_rf, label='RF')\n",
    "plt.xlabel('False positive rate')\n",
    "plt.ylabel('True positive rate')\n",
    "plt.title('ROC curve')\n",
    "plt.legend(loc='best')\n",
    "plt.show()"
   ]
  },
  {
   "cell_type": "code",
   "execution_count": 122,
   "id": "137abce0",
   "metadata": {},
   "outputs": [],
   "source": [
    "predictor.delete_endpoint()"
   ]
  }
 ],
 "metadata": {
  "kernelspec": {
   "display_name": "conda_python3",
   "language": "python",
   "name": "conda_python3"
  },
  "language_info": {
   "codemirror_mode": {
    "name": "ipython",
    "version": 3
   },
   "file_extension": ".py",
   "mimetype": "text/x-python",
   "name": "python",
   "nbconvert_exporter": "python",
   "pygments_lexer": "ipython3",
   "version": "3.6.13"
  }
 },
 "nbformat": 4,
 "nbformat_minor": 5
}
